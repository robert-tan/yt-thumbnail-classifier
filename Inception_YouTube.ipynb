{
  "nbformat": 4,
  "nbformat_minor": 0,
  "metadata": {
    "accelerator": "GPU",
    "colab": {
      "name": "Inception-YouTube.ipynb",
      "provenance": [],
      "collapsed_sections": [],
      "machine_shape": "hm"
    },
    "kernelspec": {
      "display_name": "Python 3",
      "name": "python3"
    },
    "language_info": {
      "name": "python"
    }
  },
  "cells": [
    {
      "cell_type": "code",
      "metadata": {
        "id": "FxyolSLvOcOu"
      },
      "source": [
        "!wget https://cs230-project.s3.us-east-2.amazonaws.com/train0000_processed.tfrecord\n",
        "!wget https://cs230-project.s3.us-east-2.amazonaws.com/train0002_processed.tfrecord\n",
        "!wget https://cs230-project.s3.us-east-2.amazonaws.com/train0014_processed.tfrecord\n",
        "!wget https://cs230-project.s3.us-east-2.amazonaws.com/train0017_processed.tfrecord\n",
        "!wget https://cs230-project.s3.us-east-2.amazonaws.com/train0031_processed.tfrecord\n",
        "\n",
        "!wget https://cs230-project.s3.us-east-2.amazonaws.com/train0036_processed.tfrecord\n",
        "!wget https://cs230-project.s3.us-east-2.amazonaws.com/train0043_processed.tfrecord\n",
        "!wget https://cs230-project.s3.us-east-2.amazonaws.com/train0046_processed.tfrecord\n",
        "!wget https://cs230-project.s3.us-east-2.amazonaws.com/train0057_processed.tfrecord\n",
        "!wget https://cs230-project.s3.us-east-2.amazonaws.com/train0060_processed.tfrecord\n",
        "\n",
        "!wget https://cs230-project.s3.us-east-2.amazonaws.com/train0067_processed.tfrecord\n",
        "!wget https://cs230-project.s3.us-east-2.amazonaws.com/train0086_processed.tfrecord\n",
        "!wget https://cs230-project.s3.us-east-2.amazonaws.com/train0090_processed.tfrecord\n",
        "!wget https://cs230-project.s3.us-east-2.amazonaws.com/train0091_processed.tfrecord\n",
        "!wget https://cs230-project.s3.us-east-2.amazonaws.com/train0111_processed.tfrecord\n",
        "\n",
        "!wget https://cs230-project.s3.us-east-2.amazonaws.com/train0112_processed.tfrecord\n",
        "!wget https://cs230-project.s3.us-east-2.amazonaws.com/train0123_processed.tfrecord\n",
        "!wget https://cs230-project.s3.us-east-2.amazonaws.com/train0130_processed.tfrecord\n",
        "!wget https://cs230-project.s3.us-east-2.amazonaws.com/train0131_processed.tfrecord\n",
        "!wget https://cs230-project.s3.us-east-2.amazonaws.com/train0133_processed.tfrecord"
      ],
      "execution_count": null,
      "outputs": []
    },
    {
      "cell_type": "code",
      "metadata": {
        "id": "RJJR_VWQ0cw0"
      },
      "source": [
        "import tensorflow as tf\n",
        "from tensorflow.keras.layers import Input, Conv2D\n",
        "from tensorflow.keras.layers import MaxPool2D, Flatten, Dense, Dropout\n",
        "from tensorflow.keras import Model\n",
        "from tensorflow.keras.optimizers import Adam, SGD, RMSprop\n",
        "from tensorflow.keras.utils import to_categorical\n",
        "from tensorflow.keras.callbacks import EarlyStopping, ModelCheckpoint\n",
        "import cv2\n",
        "import matplotlib.pyplot as plt\n",
        "import numpy as np\n",
        "import os"
      ],
      "execution_count": 2,
      "outputs": []
    },
    {
      "cell_type": "code",
      "metadata": {
        "id": "6Vl_NHxAPJ3v"
      },
      "source": [
        "files = ['0000', '0002', '0014', '0017', '0031', \n",
        "         '0036', '0043', '0046', '0057', '0060', \n",
        "         '0067', '0086', '0090', '0091', '0111', \n",
        "         '0112', '0123', '0130', '0131', '0133']"
      ],
      "execution_count": 3,
      "outputs": []
    },
    {
      "cell_type": "code",
      "metadata": {
        "id": "CzsLz5Vx0nah"
      },
      "source": [
        "def read_dataset(file_path):\n",
        "    dataset = tf.data.TFRecordDataset(file_path)\n",
        "\n",
        "    def read_tfrecord(serialized_example):\n",
        "        feature_description = {\n",
        "            'thumbnail': tf.io.VarLenFeature(tf.string),\n",
        "            'n_W': tf.io.FixedLenFeature((), tf.int64),\n",
        "            'n_H': tf.io.FixedLenFeature((), tf.int64),\n",
        "            'n_C': tf.io.FixedLenFeature((), tf.int64),\n",
        "            'labels': tf.io.VarLenFeature(tf.int64),\n",
        "        }\n",
        "        example = tf.io.parse_single_example(serialized_example, feature_description)\n",
        "        return example\n",
        "\n",
        "    parsed_dataset = dataset.map(read_tfrecord)\n",
        "    return parsed_dataset\n",
        "\n",
        "\n",
        "def labeled_dataset(parsed_dataset):\n",
        "    labeled_data_sets = []\n",
        "\n",
        "    for example in parsed_dataset:\n",
        "        thumbnail_bytes = example[\"thumbnail\"].values[0].numpy()\n",
        "        n_W = example[\"n_W\"].numpy()\n",
        "        n_C = example[\"n_C\"].numpy()\n",
        "        n_H = example[\"n_H\"].numpy()\n",
        "\n",
        "        thumbnail_arr = np.frombuffer(thumbnail_bytes, dtype=np.uint8).reshape((n_W, n_H, n_C))\n",
        "        labels = example[\"labels\"].values[0].numpy() \n",
        "\n",
        "        labeled_dataset = [thumbnail_arr, labels]\n",
        "        labeled_data_sets.append(labeled_dataset)\n",
        "    return labeled_data_sets"
      ],
      "execution_count": 4,
      "outputs": []
    },
    {
      "cell_type": "code",
      "metadata": {
        "id": "z3FPCXn00pxg"
      },
      "source": [
        "x = []\n",
        "y = []\n",
        "counter = [0] * 4\n",
        "for number in files:\n",
        "  parsed_dataset = read_dataset('/content/train' + number + '_processed.tfrecord') # ACTION NEEDED: .tfrecord file_path needs to be specified\n",
        "  labeled_data_sets = labeled_dataset(parsed_dataset)\n",
        "  for data in labeled_data_sets:\n",
        "    if data[1] == 12:\n",
        "      val = 0\n",
        "    elif data[1] == 11:\n",
        "      val = 1\n",
        "    elif data[1] == 17:\n",
        "      val = 2\n",
        "    else:\n",
        "      val = 3\n",
        "    if counter[val] < 1000:\n",
        "      resized_image = cv2.resize(data[0], (150, 150)) / 255.0\n",
        "      x.append(resized_image)\n",
        "      y.append(val)\n",
        "      counter[val] += 1\n",
        "  if counter[0] == counter[1] == counter[2] == counter[3] == 500:\n",
        "    break"
      ],
      "execution_count": 5,
      "outputs": []
    },
    {
      "cell_type": "code",
      "metadata": {
        "id": "q_i07vs7Ih9S"
      },
      "source": [
        "new_y = np.array(y).T\n",
        "new_x = np.array(x)"
      ],
      "execution_count": 6,
      "outputs": []
    },
    {
      "cell_type": "code",
      "metadata": {
        "id": "xl4fJ1zq0rgU",
        "colab": {
          "base_uri": "https://localhost:8080/"
        },
        "outputId": "77728a33-002e-46bc-b35b-54e36708b200"
      },
      "source": [
        "from sklearn.model_selection import train_test_split\n",
        "X_train, X_test, y_train, y_test = train_test_split(new_x, new_y, test_size=0.2, random_state=42)\n",
        "y_train = to_categorical(y_train, 4)\n",
        "y_test = to_categorical(y_test, 4)\n",
        "print(X_train.shape)\n",
        "print(y_train.shape)\n",
        "print(X_test.shape)\n",
        "print(y_test.shape)"
      ],
      "execution_count": 7,
      "outputs": [
        {
          "output_type": "stream",
          "name": "stdout",
          "text": [
            "(3200, 150, 150, 3)\n",
            "(3200, 4)\n",
            "(800, 150, 150, 3)\n",
            "(800, 4)\n"
          ]
        }
      ]
    },
    {
      "cell_type": "code",
      "metadata": {
        "id": "-vL1QixKUJ1O",
        "colab": {
          "base_uri": "https://localhost:8080/"
        },
        "outputId": "6d50ec2f-492d-4b0c-aa64-67c2026dbf55"
      },
      "source": [
        "from tensorflow.keras.applications.inception_v3 import InceptionV3\n",
        "base_model = InceptionV3(input_shape = (150, 150, 3), include_top = False, weights = 'imagenet')\n",
        "base_model.trainable = False"
      ],
      "execution_count": 8,
      "outputs": [
        {
          "output_type": "stream",
          "name": "stdout",
          "text": [
            "Downloading data from https://storage.googleapis.com/tensorflow/keras-applications/inception_v3/inception_v3_weights_tf_dim_ordering_tf_kernels_notop.h5\n",
            "87916544/87910968 [==============================] - 1s 0us/step\n",
            "87924736/87910968 [==============================] - 1s 0us/step\n"
          ]
        }
      ]
    },
    {
      "cell_type": "code",
      "metadata": {
        "id": "4nMKn8QxVPJk"
      },
      "source": [
        "x = Flatten()(base_model.output)\n",
        "x = Dense(1024, activation='relu')(x)\n",
        "x = Dropout(0.2)(x)\n",
        "x = Dense(4, activation='softmax')(x)\n",
        "\n",
        "model = tf.keras.models.Model(base_model.input, x)\n",
        "model.compile(optimizer=Adam(learning_rate=0.00001),\n",
        "    loss='categorical_crossentropy',\n",
        "    metrics=['accuracy']\n",
        ")"
      ],
      "execution_count": 9,
      "outputs": []
    },
    {
      "cell_type": "code",
      "metadata": {
        "colab": {
          "base_uri": "https://localhost:8080/"
        },
        "id": "kd5w16zgViPZ",
        "outputId": "1e543dcd-7aa9-42b9-ec69-5515abe75dff"
      },
      "source": [
        "checkpoint = ModelCheckpoint(\"inception.h5\", monitor='val_accuracy', verbose=1, save_best_only=True, save_weights_only=False, mode='auto', period=1)\n",
        "early = EarlyStopping(monitor='val_accuracy', min_delta=0, patience=20, verbose=1, mode='auto')\n",
        "hist = model.fit(X_train, y_train, validation_data=(X_test, y_test), epochs=100, batch_size=32, callbacks=[checkpoint, early])"
      ],
      "execution_count": 10,
      "outputs": [
        {
          "output_type": "stream",
          "name": "stdout",
          "text": [
            "WARNING:tensorflow:`period` argument is deprecated. Please use `save_freq` to specify the frequency in number of batches seen.\n",
            "Epoch 1/100\n",
            " 99/100 [============================>.] - ETA: 0s - loss: 1.5602 - accuracy: 0.4511\n",
            "Epoch 00001: val_accuracy improved from -inf to 0.52000, saving model to inception.h5\n",
            "100/100 [==============================] - 18s 62ms/step - loss: 1.5551 - accuracy: 0.4531 - val_loss: 1.2983 - val_accuracy: 0.5200\n",
            "Epoch 2/100\n",
            " 99/100 [============================>.] - ETA: 0s - loss: 0.9518 - accuracy: 0.6392\n",
            "Epoch 00002: val_accuracy improved from 0.52000 to 0.53750, saving model to inception.h5\n",
            "100/100 [==============================] - 5s 48ms/step - loss: 0.9534 - accuracy: 0.6388 - val_loss: 1.2322 - val_accuracy: 0.5375\n",
            "Epoch 3/100\n",
            " 99/100 [============================>.] - ETA: 0s - loss: 0.7151 - accuracy: 0.7181\n",
            "Epoch 00003: val_accuracy improved from 0.53750 to 0.54750, saving model to inception.h5\n",
            "100/100 [==============================] - 5s 48ms/step - loss: 0.7130 - accuracy: 0.7188 - val_loss: 1.2645 - val_accuracy: 0.5475\n",
            "Epoch 4/100\n",
            " 99/100 [============================>.] - ETA: 0s - loss: 0.5430 - accuracy: 0.7955\n",
            "Epoch 00004: val_accuracy did not improve from 0.54750\n",
            "100/100 [==============================] - 4s 38ms/step - loss: 0.5432 - accuracy: 0.7959 - val_loss: 1.1817 - val_accuracy: 0.5425\n",
            "Epoch 5/100\n",
            " 99/100 [============================>.] - ETA: 0s - loss: 0.4228 - accuracy: 0.8554\n",
            "Epoch 00005: val_accuracy improved from 0.54750 to 0.56500, saving model to inception.h5\n",
            "100/100 [==============================] - 5s 48ms/step - loss: 0.4236 - accuracy: 0.8547 - val_loss: 1.1788 - val_accuracy: 0.5650\n",
            "Epoch 6/100\n",
            " 99/100 [============================>.] - ETA: 0s - loss: 0.3389 - accuracy: 0.8971\n",
            "Epoch 00006: val_accuracy improved from 0.56500 to 0.58125, saving model to inception.h5\n",
            "100/100 [==============================] - 5s 48ms/step - loss: 0.3398 - accuracy: 0.8966 - val_loss: 1.2002 - val_accuracy: 0.5813\n",
            "Epoch 7/100\n",
            " 99/100 [============================>.] - ETA: 0s - loss: 0.2629 - accuracy: 0.9350\n",
            "Epoch 00007: val_accuracy did not improve from 0.58125\n",
            "100/100 [==============================] - 4s 38ms/step - loss: 0.2646 - accuracy: 0.9341 - val_loss: 1.2216 - val_accuracy: 0.5625\n",
            "Epoch 8/100\n",
            " 99/100 [============================>.] - ETA: 0s - loss: 0.2206 - accuracy: 0.9498\n",
            "Epoch 00008: val_accuracy did not improve from 0.58125\n",
            "100/100 [==============================] - 4s 38ms/step - loss: 0.2200 - accuracy: 0.9500 - val_loss: 1.2477 - val_accuracy: 0.5450\n",
            "Epoch 9/100\n",
            " 99/100 [============================>.] - ETA: 0s - loss: 0.1785 - accuracy: 0.9710\n",
            "Epoch 00009: val_accuracy did not improve from 0.58125\n",
            "100/100 [==============================] - 4s 38ms/step - loss: 0.1788 - accuracy: 0.9709 - val_loss: 1.2276 - val_accuracy: 0.5675\n",
            "Epoch 10/100\n",
            " 99/100 [============================>.] - ETA: 0s - loss: 0.1547 - accuracy: 0.9782\n",
            "Epoch 00010: val_accuracy did not improve from 0.58125\n",
            "100/100 [==============================] - 4s 38ms/step - loss: 0.1548 - accuracy: 0.9778 - val_loss: 1.2401 - val_accuracy: 0.5638\n",
            "Epoch 11/100\n",
            " 99/100 [============================>.] - ETA: 0s - loss: 0.1262 - accuracy: 0.9867\n",
            "Epoch 00011: val_accuracy did not improve from 0.58125\n",
            "100/100 [==============================] - 4s 38ms/step - loss: 0.1265 - accuracy: 0.9869 - val_loss: 1.2480 - val_accuracy: 0.5713\n",
            "Epoch 12/100\n",
            " 99/100 [============================>.] - ETA: 0s - loss: 0.1073 - accuracy: 0.9915\n",
            "Epoch 00012: val_accuracy did not improve from 0.58125\n",
            "100/100 [==============================] - 4s 38ms/step - loss: 0.1073 - accuracy: 0.9916 - val_loss: 1.2560 - val_accuracy: 0.5638\n",
            "Epoch 13/100\n",
            " 99/100 [============================>.] - ETA: 0s - loss: 0.0927 - accuracy: 0.9949\n",
            "Epoch 00013: val_accuracy did not improve from 0.58125\n",
            "100/100 [==============================] - 4s 38ms/step - loss: 0.0928 - accuracy: 0.9950 - val_loss: 1.2780 - val_accuracy: 0.5713\n",
            "Epoch 14/100\n",
            " 99/100 [============================>.] - ETA: 0s - loss: 0.0815 - accuracy: 0.9968\n",
            "Epoch 00014: val_accuracy did not improve from 0.58125\n",
            "100/100 [==============================] - 4s 38ms/step - loss: 0.0813 - accuracy: 0.9969 - val_loss: 1.2809 - val_accuracy: 0.5612\n",
            "Epoch 15/100\n",
            " 99/100 [============================>.] - ETA: 0s - loss: 0.0710 - accuracy: 0.9975\n",
            "Epoch 00015: val_accuracy did not improve from 0.58125\n",
            "100/100 [==============================] - 4s 38ms/step - loss: 0.0712 - accuracy: 0.9972 - val_loss: 1.3152 - val_accuracy: 0.5713\n",
            "Epoch 16/100\n",
            " 99/100 [============================>.] - ETA: 0s - loss: 0.0621 - accuracy: 0.9987\n",
            "Epoch 00016: val_accuracy did not improve from 0.58125\n",
            "100/100 [==============================] - 4s 38ms/step - loss: 0.0623 - accuracy: 0.9984 - val_loss: 1.3176 - val_accuracy: 0.5713\n",
            "Epoch 17/100\n",
            " 99/100 [============================>.] - ETA: 0s - loss: 0.0550 - accuracy: 0.9994\n",
            "Epoch 00017: val_accuracy did not improve from 0.58125\n",
            "100/100 [==============================] - 4s 38ms/step - loss: 0.0550 - accuracy: 0.9994 - val_loss: 1.3217 - val_accuracy: 0.5700\n",
            "Epoch 18/100\n",
            " 99/100 [============================>.] - ETA: 0s - loss: 0.0477 - accuracy: 1.0000\n",
            "Epoch 00018: val_accuracy did not improve from 0.58125\n",
            "100/100 [==============================] - 4s 38ms/step - loss: 0.0475 - accuracy: 1.0000 - val_loss: 1.3355 - val_accuracy: 0.5688\n",
            "Epoch 19/100\n",
            " 99/100 [============================>.] - ETA: 0s - loss: 0.0429 - accuracy: 0.9997\n",
            "Epoch 00019: val_accuracy did not improve from 0.58125\n",
            "100/100 [==============================] - 4s 38ms/step - loss: 0.0428 - accuracy: 0.9997 - val_loss: 1.3532 - val_accuracy: 0.5663\n",
            "Epoch 20/100\n",
            " 99/100 [============================>.] - ETA: 0s - loss: 0.0402 - accuracy: 0.9997\n",
            "Epoch 00020: val_accuracy did not improve from 0.58125\n",
            "100/100 [==============================] - 4s 38ms/step - loss: 0.0402 - accuracy: 0.9997 - val_loss: 1.3575 - val_accuracy: 0.5775\n",
            "Epoch 21/100\n",
            " 99/100 [============================>.] - ETA: 0s - loss: 0.0349 - accuracy: 1.0000\n",
            "Epoch 00021: val_accuracy did not improve from 0.58125\n",
            "100/100 [==============================] - 4s 38ms/step - loss: 0.0350 - accuracy: 1.0000 - val_loss: 1.3627 - val_accuracy: 0.5700\n",
            "Epoch 22/100\n",
            " 99/100 [============================>.] - ETA: 0s - loss: 0.0330 - accuracy: 1.0000\n",
            "Epoch 00022: val_accuracy did not improve from 0.58125\n",
            "100/100 [==============================] - 4s 38ms/step - loss: 0.0330 - accuracy: 1.0000 - val_loss: 1.3795 - val_accuracy: 0.5775\n",
            "Epoch 23/100\n",
            " 99/100 [============================>.] - ETA: 0s - loss: 0.0283 - accuracy: 1.0000\n",
            "Epoch 00023: val_accuracy did not improve from 0.58125\n",
            "100/100 [==============================] - 4s 38ms/step - loss: 0.0282 - accuracy: 1.0000 - val_loss: 1.3837 - val_accuracy: 0.5688\n",
            "Epoch 24/100\n",
            " 99/100 [============================>.] - ETA: 0s - loss: 0.0262 - accuracy: 1.0000\n",
            "Epoch 00024: val_accuracy did not improve from 0.58125\n",
            "100/100 [==============================] - 4s 38ms/step - loss: 0.0263 - accuracy: 1.0000 - val_loss: 1.3834 - val_accuracy: 0.5675\n",
            "Epoch 25/100\n",
            " 99/100 [============================>.] - ETA: 0s - loss: 0.0244 - accuracy: 1.0000\n",
            "Epoch 00025: val_accuracy did not improve from 0.58125\n",
            "100/100 [==============================] - 4s 38ms/step - loss: 0.0244 - accuracy: 1.0000 - val_loss: 1.4054 - val_accuracy: 0.5738\n",
            "Epoch 26/100\n",
            " 99/100 [============================>.] - ETA: 0s - loss: 0.0213 - accuracy: 1.0000\n",
            "Epoch 00026: val_accuracy did not improve from 0.58125\n",
            "100/100 [==============================] - 4s 38ms/step - loss: 0.0213 - accuracy: 1.0000 - val_loss: 1.4117 - val_accuracy: 0.5750\n",
            "Epoch 00026: early stopping\n"
          ]
        }
      ]
    },
    {
      "cell_type": "code",
      "metadata": {
        "colab": {
          "base_uri": "https://localhost:8080/",
          "height": 295
        },
        "id": "J2mFpAh7hO-F",
        "outputId": "8cf1c20b-8f8c-4b5e-b9a7-defffaa09429"
      },
      "source": [
        "plt.plot(hist.history['accuracy'])\n",
        "plt.plot(hist.history['val_accuracy'])\n",
        "plt.plot(hist.history[\"loss\"])\n",
        "plt.plot(hist.history['val_loss'])\n",
        "plt.title(\"Inception Model Accuracy\")\n",
        "plt.ylabel(\"Accuracy\")\n",
        "plt.xlabel(\"Epoch\")\n",
        "plt.legend([\"Accuracy\",\"Validation Accuracy\",\"Loss\",\"Validation Loss\"])\n",
        "plt.show()"
      ],
      "execution_count": 15,
      "outputs": [
        {
          "output_type": "display_data",
          "data": {
            "image/png": "[encoded data removed]",
            "text/plain": [
              "<Figure size 432x288 with 1 Axes>"
            ]
          },
          "metadata": {
            "needs_background": "light"
          }
        }
      ]
    },
    {
      "cell_type": "code",
      "metadata": {
        "colab": {
          "base_uri": "https://localhost:8080/"
        },
        "id": "o5DCMNRghS9W",
        "outputId": "11ba0c88-fb7b-4a61-fd2e-6c14923906d8"
      },
      "source": [
        "from keras.models import load_model\n",
        "saved_model = load_model(\"inception.h5\")\n",
        "test_x = []\n",
        "test_y = []\n",
        "parsed_dataset = read_dataset('/content/train0133_processed.tfrecord') # ACTION NEEDED: .tfrecord file_path needs to be specified\n",
        "labeled_data_sets = labeled_dataset(parsed_dataset)\n",
        "for data in labeled_data_sets:\n",
        "  if data[1] == 12:\n",
        "    val = 0\n",
        "  elif data[1] == 11:\n",
        "    val = 1\n",
        "  elif data[1] == 17:\n",
        "    val = 2\n",
        "  else:\n",
        "    val = 3\n",
        "  resized_image = cv2.resize(data[0], (150, 150)) / 255.0\n",
        "  test_x.append(resized_image)\n",
        "  test_y.append(val)\n",
        "test_y = np.array(test_y).T\n",
        "test_x = np.array(test_x)\n",
        "test_y = to_categorical(test_y)\n",
        "loss, acc = saved_model.evaluate(test_x, test_y)\n",
        "print(loss)\n",
        "print(acc)"
      ],
      "execution_count": 13,
      "outputs": [
        {
          "output_type": "stream",
          "name": "stdout",
          "text": [
            "29/29 [==============================] - 2s 40ms/step - loss: 1.1537 - accuracy: 0.5829\n",
            "1.1536591053009033\n",
            "0.5828819274902344\n"
          ]
        }
      ]
    }
  ]
}