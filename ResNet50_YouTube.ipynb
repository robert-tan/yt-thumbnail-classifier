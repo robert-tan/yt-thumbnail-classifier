{
  "nbformat": 4,
  "nbformat_minor": 0,
  "metadata": {
    "accelerator": "GPU",
    "colab": {
      "name": "ResNet50-YouTube.ipynb",
      "provenance": [],
      "collapsed_sections": [],
      "machine_shape": "hm"
    },
    "kernelspec": {
      "display_name": "Python 3",
      "name": "python3"
    },
    "language_info": {
      "name": "python"
    }
  },
  "cells": [
    {
      "cell_type": "code",
      "metadata": {
        "id": "FxyolSLvOcOu"
      },
      "source": [
        "!wget https://cs230-project.s3.us-east-2.amazonaws.com/train0000_processed.tfrecord\n",
        "!wget https://cs230-project.s3.us-east-2.amazonaws.com/train0002_processed.tfrecord\n",
        "!wget https://cs230-project.s3.us-east-2.amazonaws.com/train0014_processed.tfrecord\n",
        "!wget https://cs230-project.s3.us-east-2.amazonaws.com/train0017_processed.tfrecord\n",
        "!wget https://cs230-project.s3.us-east-2.amazonaws.com/train0031_processed.tfrecord\n",
        "\n",
        "!wget https://cs230-project.s3.us-east-2.amazonaws.com/train0036_processed.tfrecord\n",
        "!wget https://cs230-project.s3.us-east-2.amazonaws.com/train0043_processed.tfrecord\n",
        "!wget https://cs230-project.s3.us-east-2.amazonaws.com/train0046_processed.tfrecord\n",
        "!wget https://cs230-project.s3.us-east-2.amazonaws.com/train0057_processed.tfrecord\n",
        "!wget https://cs230-project.s3.us-east-2.amazonaws.com/train0060_processed.tfrecord\n",
        "\n",
        "!wget https://cs230-project.s3.us-east-2.amazonaws.com/train0067_processed.tfrecord\n",
        "!wget https://cs230-project.s3.us-east-2.amazonaws.com/train0086_processed.tfrecord\n",
        "!wget https://cs230-project.s3.us-east-2.amazonaws.com/train0090_processed.tfrecord\n",
        "!wget https://cs230-project.s3.us-east-2.amazonaws.com/train0091_processed.tfrecord\n",
        "!wget https://cs230-project.s3.us-east-2.amazonaws.com/train0111_processed.tfrecord\n",
        "\n",
        "!wget https://cs230-project.s3.us-east-2.amazonaws.com/train0112_processed.tfrecord\n",
        "!wget https://cs230-project.s3.us-east-2.amazonaws.com/train0123_processed.tfrecord\n",
        "!wget https://cs230-project.s3.us-east-2.amazonaws.com/train0130_processed.tfrecord\n",
        "!wget https://cs230-project.s3.us-east-2.amazonaws.com/train0131_processed.tfrecord\n",
        "!wget https://cs230-project.s3.us-east-2.amazonaws.com/train0133_processed.tfrecord"
      ],
      "execution_count": null,
      "outputs": []
    },
    {
      "cell_type": "code",
      "metadata": {
        "id": "RJJR_VWQ0cw0"
      },
      "source": [
        "import tensorflow as tf\n",
        "from tensorflow.keras.layers import Input, Conv2D\n",
        "from tensorflow.keras.layers import MaxPool2D, Flatten, Dense, Dropout\n",
        "from tensorflow.keras import Model\n",
        "from tensorflow.keras.optimizers import Adam, SGD, RMSprop\n",
        "from tensorflow.keras.utils import to_categorical\n",
        "from tensorflow.keras.callbacks import EarlyStopping, ModelCheckpoint\n",
        "import cv2\n",
        "import matplotlib.pyplot as plt\n",
        "import numpy as np\n",
        "import os"
      ],
      "execution_count": 2,
      "outputs": []
    },
    {
      "cell_type": "code",
      "metadata": {
        "id": "6Vl_NHxAPJ3v"
      },
      "source": [
        "files = ['0000', '0002', '0014', '0017', '0031', \n",
        "         '0036', '0043', '0046', '0057', '0060', \n",
        "         '0067', '0086', '0090', '0091', '0111', \n",
        "         '0112', '0123', '0130', '0131', '0133']"
      ],
      "execution_count": 3,
      "outputs": []
    },
    {
      "cell_type": "code",
      "metadata": {
        "id": "CzsLz5Vx0nah"
      },
      "source": [
        "def read_dataset(file_path):\n",
        "    dataset = tf.data.TFRecordDataset(file_path)\n",
        "\n",
        "    def read_tfrecord(serialized_example):\n",
        "        feature_description = {\n",
        "            'thumbnail': tf.io.VarLenFeature(tf.string),\n",
        "            'n_W': tf.io.FixedLenFeature((), tf.int64),\n",
        "            'n_H': tf.io.FixedLenFeature((), tf.int64),\n",
        "            'n_C': tf.io.FixedLenFeature((), tf.int64),\n",
        "            'labels': tf.io.VarLenFeature(tf.int64),\n",
        "        }\n",
        "        example = tf.io.parse_single_example(serialized_example, feature_description)\n",
        "        return example\n",
        "\n",
        "    parsed_dataset = dataset.map(read_tfrecord)\n",
        "    return parsed_dataset\n",
        "\n",
        "\n",
        "def labeled_dataset(parsed_dataset):\n",
        "    labeled_data_sets = []\n",
        "\n",
        "    for example in parsed_dataset:\n",
        "        thumbnail_bytes = example[\"thumbnail\"].values[0].numpy()\n",
        "        n_W = example[\"n_W\"].numpy()\n",
        "        n_C = example[\"n_C\"].numpy()\n",
        "        n_H = example[\"n_H\"].numpy()\n",
        "\n",
        "        thumbnail_arr = np.frombuffer(thumbnail_bytes, dtype=np.uint8).reshape((n_W, n_H, n_C))\n",
        "        labels = example[\"labels\"].values[0].numpy() \n",
        "\n",
        "        labeled_dataset = [thumbnail_arr, labels]\n",
        "        labeled_data_sets.append(labeled_dataset)\n",
        "    return labeled_data_sets"
      ],
      "execution_count": 4,
      "outputs": []
    },
    {
      "cell_type": "code",
      "metadata": {
        "id": "z3FPCXn00pxg"
      },
      "source": [
        "x = []\n",
        "y = []\n",
        "counter = [0] * 4\n",
        "for number in files:\n",
        "  parsed_dataset = read_dataset('/content/train' + number + '_processed.tfrecord') # ACTION NEEDED: .tfrecord file_path needs to be specified\n",
        "  labeled_data_sets = labeled_dataset(parsed_dataset)\n",
        "  for data in labeled_data_sets:\n",
        "    if data[1] == 12:\n",
        "      val = 0\n",
        "    elif data[1] == 11:\n",
        "      val = 1\n",
        "    elif data[1] == 17:\n",
        "      val = 2\n",
        "    else:\n",
        "      val = 3\n",
        "    if counter[val] < 1000:\n",
        "      resized_image = cv2.resize(data[0], (224, 224)) / 255.0\n",
        "      x.append(resized_image)\n",
        "      y.append(val)\n",
        "      counter[val] += 1\n",
        "  if counter[0] == counter[1] == counter[2] == counter[3] == 500:\n",
        "    break"
      ],
      "execution_count": 5,
      "outputs": []
    },
    {
      "cell_type": "code",
      "metadata": {
        "id": "q_i07vs7Ih9S"
      },
      "source": [
        "new_y = np.array(y).T\n",
        "new_x = np.array(x)"
      ],
      "execution_count": 6,
      "outputs": []
    },
    {
      "cell_type": "code",
      "metadata": {
        "id": "xl4fJ1zq0rgU",
        "colab": {
          "base_uri": "https://localhost:8080/"
        },
        "outputId": "431f2524-6a0f-4cff-9512-37340fd829e1"
      },
      "source": [
        "from sklearn.model_selection import train_test_split\n",
        "X_train, X_test, y_train, y_test = train_test_split(new_x, new_y, test_size=0.2, random_state=42)\n",
        "y_train = to_categorical(y_train, 4)\n",
        "y_test = to_categorical(y_test, 4)\n",
        "print(X_train.shape)\n",
        "print(y_train.shape)\n",
        "print(X_test.shape)\n",
        "print(y_test.shape)"
      ],
      "execution_count": 7,
      "outputs": [
        {
          "output_type": "stream",
          "name": "stdout",
          "text": [
            "(3200, 224, 224, 3)\n",
            "(3200, 4)\n",
            "(800, 224, 224, 3)\n",
            "(800, 4)\n"
          ]
        }
      ]
    },
    {
      "cell_type": "code",
      "metadata": {
        "id": "-vL1QixKUJ1O",
        "colab": {
          "base_uri": "https://localhost:8080/"
        },
        "outputId": "38109a19-5bd5-4f8b-f3c7-27a33969053d"
      },
      "source": [
        "from tensorflow.keras.applications import ResNet50\n",
        "base_model = ResNet50(input_shape=(224, 224,3), include_top=False, weights=\"imagenet\")\n",
        "base_model.trainable = False"
      ],
      "execution_count": 8,
      "outputs": [
        {
          "output_type": "stream",
          "name": "stdout",
          "text": [
            "Downloading data from https://storage.googleapis.com/tensorflow/keras-applications/resnet/resnet50_weights_tf_dim_ordering_tf_kernels_notop.h5\n",
            "94773248/94765736 [==============================] - 0s 0us/step\n",
            "94781440/94765736 [==============================] - 0s 0us/step\n"
          ]
        }
      ]
    },
    {
      "cell_type": "code",
      "metadata": {
        "id": "4nMKn8QxVPJk"
      },
      "source": [
        "x = Flatten()(base_model.output)\n",
        "x = Dense(1024, activation='relu')(x)\n",
        "x = Dropout(0.2)(x)\n",
        "x = Dense(4, activation='softmax')(x)\n",
        "\n",
        "model = tf.keras.models.Model(base_model.input, x)\n",
        "model.compile(optimizer=Adam(learning_rate=0.00001),\n",
        "    loss='categorical_crossentropy',\n",
        "    metrics=['accuracy']\n",
        ")"
      ],
      "execution_count": 15,
      "outputs": []
    },
    {
      "cell_type": "code",
      "metadata": {
        "id": "kd5w16zgViPZ",
        "colab": {
          "base_uri": "https://localhost:8080/"
        },
        "outputId": "2e0f00d1-1752-4eae-8ef4-3d49cb73b065"
      },
      "source": [
        "checkpoint = ModelCheckpoint(\"resnet50.h5\", monitor='val_accuracy', verbose=1, save_best_only=True, save_weights_only=False, mode='auto', period=1)\n",
        "early = EarlyStopping(monitor='val_accuracy', min_delta=0, patience=20, verbose=1, mode='auto')\n",
        "hist = model.fit(X_train, y_train, validation_data=(X_test, y_test), epochs=100, batch_size=32, callbacks=[checkpoint, early])"
      ],
      "execution_count": 16,
      "outputs": [
        {
          "output_type": "stream",
          "name": "stdout",
          "text": [
            "WARNING:tensorflow:`period` argument is deprecated. Please use `save_freq` to specify the frequency in number of batches seen.\n",
            "Epoch 1/100\n",
            "100/100 [==============================] - ETA: 0s - loss: 1.4937 - accuracy: 0.2941\n",
            "Epoch 00001: val_accuracy improved from -inf to 0.36500, saving model to resnet50.h5\n"
          ]
        },
        {
          "output_type": "stream",
          "name": "stderr",
          "text": [
            "/usr/local/lib/python3.7/dist-packages/keras/engine/functional.py:1410: CustomMaskWarning: Custom mask layers require a config and must override get_config. When loading, the custom mask layer must be passed to the custom_objects argument.\n",
            "  layer_config = serialize_layer_fn(layer)\n"
          ]
        },
        {
          "output_type": "stream",
          "name": "stdout",
          "text": [
            "100/100 [==============================] - 18s 154ms/step - loss: 1.4937 - accuracy: 0.2941 - val_loss: 1.3309 - val_accuracy: 0.3650\n",
            "Epoch 2/100\n",
            "100/100 [==============================] - ETA: 0s - loss: 1.3653 - accuracy: 0.3547\n",
            "Epoch 00002: val_accuracy did not improve from 0.36500\n",
            "100/100 [==============================] - 8s 81ms/step - loss: 1.3653 - accuracy: 0.3547 - val_loss: 1.3755 - val_accuracy: 0.3575\n",
            "Epoch 3/100\n",
            "100/100 [==============================] - ETA: 0s - loss: 1.2815 - accuracy: 0.4016\n",
            "Epoch 00003: val_accuracy improved from 0.36500 to 0.40875, saving model to resnet50.h5\n",
            "100/100 [==============================] - 14s 139ms/step - loss: 1.2815 - accuracy: 0.4016 - val_loss: 1.2871 - val_accuracy: 0.4087\n",
            "Epoch 4/100\n",
            "100/100 [==============================] - ETA: 0s - loss: 1.2727 - accuracy: 0.4072\n",
            "Epoch 00004: val_accuracy did not improve from 0.40875\n",
            "100/100 [==============================] - 8s 81ms/step - loss: 1.2727 - accuracy: 0.4072 - val_loss: 1.2819 - val_accuracy: 0.4075\n",
            "Epoch 5/100\n",
            "100/100 [==============================] - ETA: 0s - loss: 1.2312 - accuracy: 0.4372\n",
            "Epoch 00005: val_accuracy improved from 0.40875 to 0.45000, saving model to resnet50.h5\n",
            "100/100 [==============================] - 14s 140ms/step - loss: 1.2312 - accuracy: 0.4372 - val_loss: 1.2630 - val_accuracy: 0.4500\n",
            "Epoch 6/100\n",
            "100/100 [==============================] - ETA: 0s - loss: 1.2238 - accuracy: 0.4416\n",
            "Epoch 00006: val_accuracy did not improve from 0.45000\n",
            "100/100 [==============================] - 8s 82ms/step - loss: 1.2238 - accuracy: 0.4416 - val_loss: 1.2751 - val_accuracy: 0.4487\n",
            "Epoch 7/100\n",
            "100/100 [==============================] - ETA: 0s - loss: 1.2131 - accuracy: 0.4578\n",
            "Epoch 00007: val_accuracy did not improve from 0.45000\n",
            "100/100 [==============================] - 8s 81ms/step - loss: 1.2131 - accuracy: 0.4578 - val_loss: 1.2672 - val_accuracy: 0.4200\n",
            "Epoch 8/100\n",
            "100/100 [==============================] - ETA: 0s - loss: 1.2125 - accuracy: 0.4653\n",
            "Epoch 00008: val_accuracy did not improve from 0.45000\n",
            "100/100 [==============================] - 8s 81ms/step - loss: 1.2125 - accuracy: 0.4653 - val_loss: 1.2638 - val_accuracy: 0.4275\n",
            "Epoch 9/100\n",
            "100/100 [==============================] - ETA: 0s - loss: 1.1778 - accuracy: 0.4731\n",
            "Epoch 00009: val_accuracy did not improve from 0.45000\n",
            "100/100 [==============================] - 9s 93ms/step - loss: 1.1778 - accuracy: 0.4731 - val_loss: 1.3877 - val_accuracy: 0.3363\n",
            "Epoch 10/100\n",
            "100/100 [==============================] - ETA: 0s - loss: 1.1605 - accuracy: 0.4856\n",
            "Epoch 00010: val_accuracy improved from 0.45000 to 0.46500, saving model to resnet50.h5\n",
            "100/100 [==============================] - 14s 141ms/step - loss: 1.1605 - accuracy: 0.4856 - val_loss: 1.2449 - val_accuracy: 0.4650\n",
            "Epoch 11/100\n",
            "100/100 [==============================] - ETA: 0s - loss: 1.1538 - accuracy: 0.4834\n",
            "Epoch 00011: val_accuracy did not improve from 0.46500\n",
            "100/100 [==============================] - 8s 81ms/step - loss: 1.1538 - accuracy: 0.4834 - val_loss: 1.3688 - val_accuracy: 0.3850\n",
            "Epoch 12/100\n",
            "100/100 [==============================] - ETA: 0s - loss: 1.1427 - accuracy: 0.5016\n",
            "Epoch 00012: val_accuracy improved from 0.46500 to 0.47125, saving model to resnet50.h5\n",
            "100/100 [==============================] - 14s 138ms/step - loss: 1.1427 - accuracy: 0.5016 - val_loss: 1.2363 - val_accuracy: 0.4712\n",
            "Epoch 13/100\n",
            "100/100 [==============================] - ETA: 0s - loss: 1.1266 - accuracy: 0.5181\n",
            "Epoch 00013: val_accuracy did not improve from 0.47125\n",
            "100/100 [==============================] - 8s 81ms/step - loss: 1.1266 - accuracy: 0.5181 - val_loss: 1.2464 - val_accuracy: 0.4487\n",
            "Epoch 14/100\n",
            "100/100 [==============================] - ETA: 0s - loss: 1.1073 - accuracy: 0.5234\n",
            "Epoch 00014: val_accuracy did not improve from 0.47125\n",
            "100/100 [==============================] - 8s 81ms/step - loss: 1.1073 - accuracy: 0.5234 - val_loss: 1.2331 - val_accuracy: 0.4663\n",
            "Epoch 15/100\n",
            "100/100 [==============================] - ETA: 0s - loss: 1.1086 - accuracy: 0.5297\n",
            "Epoch 00015: val_accuracy did not improve from 0.47125\n",
            "100/100 [==============================] - 8s 81ms/step - loss: 1.1086 - accuracy: 0.5297 - val_loss: 1.2528 - val_accuracy: 0.4462\n",
            "Epoch 16/100\n",
            "100/100 [==============================] - ETA: 0s - loss: 1.0940 - accuracy: 0.5225\n",
            "Epoch 00016: val_accuracy did not improve from 0.47125\n",
            "100/100 [==============================] - 8s 81ms/step - loss: 1.0940 - accuracy: 0.5225 - val_loss: 1.2414 - val_accuracy: 0.4450\n",
            "Epoch 17/100\n",
            "100/100 [==============================] - ETA: 0s - loss: 1.0838 - accuracy: 0.5375\n",
            "Epoch 00017: val_accuracy improved from 0.47125 to 0.47625, saving model to resnet50.h5\n",
            "100/100 [==============================] - 14s 139ms/step - loss: 1.0838 - accuracy: 0.5375 - val_loss: 1.2384 - val_accuracy: 0.4762\n",
            "Epoch 18/100\n",
            "100/100 [==============================] - ETA: 0s - loss: 1.0686 - accuracy: 0.5416\n",
            "Epoch 00018: val_accuracy did not improve from 0.47625\n",
            "100/100 [==============================] - 8s 81ms/step - loss: 1.0686 - accuracy: 0.5416 - val_loss: 1.2392 - val_accuracy: 0.4600\n",
            "Epoch 19/100\n",
            "100/100 [==============================] - ETA: 0s - loss: 1.0657 - accuracy: 0.5537\n",
            "Epoch 00019: val_accuracy did not improve from 0.47625\n",
            "100/100 [==============================] - 8s 81ms/step - loss: 1.0657 - accuracy: 0.5537 - val_loss: 1.2695 - val_accuracy: 0.4550\n",
            "Epoch 20/100\n",
            "100/100 [==============================] - ETA: 0s - loss: 1.0437 - accuracy: 0.5647\n",
            "Epoch 00020: val_accuracy did not improve from 0.47625\n",
            "100/100 [==============================] - 8s 81ms/step - loss: 1.0437 - accuracy: 0.5647 - val_loss: 1.2977 - val_accuracy: 0.4212\n",
            "Epoch 21/100\n",
            "100/100 [==============================] - ETA: 0s - loss: 1.0374 - accuracy: 0.5622\n",
            "Epoch 00021: val_accuracy did not improve from 0.47625\n",
            "100/100 [==============================] - 8s 81ms/step - loss: 1.0374 - accuracy: 0.5622 - val_loss: 1.2630 - val_accuracy: 0.4613\n",
            "Epoch 22/100\n",
            "100/100 [==============================] - ETA: 0s - loss: 1.0119 - accuracy: 0.5866\n",
            "Epoch 00022: val_accuracy did not improve from 0.47625\n",
            "100/100 [==============================] - 8s 81ms/step - loss: 1.0119 - accuracy: 0.5866 - val_loss: 1.3811 - val_accuracy: 0.3862\n",
            "Epoch 23/100\n",
            "100/100 [==============================] - ETA: 0s - loss: 1.0288 - accuracy: 0.5744\n",
            "Epoch 00023: val_accuracy did not improve from 0.47625\n",
            "100/100 [==============================] - 8s 81ms/step - loss: 1.0288 - accuracy: 0.5744 - val_loss: 1.2386 - val_accuracy: 0.4588\n",
            "Epoch 24/100\n",
            "100/100 [==============================] - ETA: 0s - loss: 1.0033 - accuracy: 0.5866\n",
            "Epoch 00024: val_accuracy did not improve from 0.47625\n",
            "100/100 [==============================] - 8s 81ms/step - loss: 1.0033 - accuracy: 0.5866 - val_loss: 1.2645 - val_accuracy: 0.4462\n",
            "Epoch 25/100\n",
            "100/100 [==============================] - ETA: 0s - loss: 1.0119 - accuracy: 0.5788\n",
            "Epoch 00025: val_accuracy did not improve from 0.47625\n",
            "100/100 [==============================] - 8s 81ms/step - loss: 1.0119 - accuracy: 0.5788 - val_loss: 1.2442 - val_accuracy: 0.4512\n",
            "Epoch 26/100\n",
            "100/100 [==============================] - ETA: 0s - loss: 1.0257 - accuracy: 0.5656\n",
            "Epoch 00026: val_accuracy did not improve from 0.47625\n",
            "100/100 [==============================] - 8s 81ms/step - loss: 1.0257 - accuracy: 0.5656 - val_loss: 1.3721 - val_accuracy: 0.3963\n",
            "Epoch 27/100\n",
            "100/100 [==============================] - ETA: 0s - loss: 0.9932 - accuracy: 0.5934\n",
            "Epoch 00027: val_accuracy did not improve from 0.47625\n",
            "100/100 [==============================] - 8s 81ms/step - loss: 0.9932 - accuracy: 0.5934 - val_loss: 1.2522 - val_accuracy: 0.4625\n",
            "Epoch 28/100\n",
            "100/100 [==============================] - ETA: 0s - loss: 0.9845 - accuracy: 0.5944\n",
            "Epoch 00028: val_accuracy improved from 0.47625 to 0.48000, saving model to resnet50.h5\n",
            "100/100 [==============================] - 14s 141ms/step - loss: 0.9845 - accuracy: 0.5944 - val_loss: 1.2588 - val_accuracy: 0.4800\n",
            "Epoch 29/100\n",
            "100/100 [==============================] - ETA: 0s - loss: 0.9768 - accuracy: 0.6028\n",
            "Epoch 00029: val_accuracy did not improve from 0.48000\n",
            "100/100 [==============================] - 8s 82ms/step - loss: 0.9768 - accuracy: 0.6028 - val_loss: 1.2883 - val_accuracy: 0.4263\n",
            "Epoch 30/100\n",
            "100/100 [==============================] - ETA: 0s - loss: 0.9613 - accuracy: 0.6041\n",
            "Epoch 00030: val_accuracy did not improve from 0.48000\n",
            "100/100 [==============================] - 8s 82ms/step - loss: 0.9613 - accuracy: 0.6041 - val_loss: 1.2556 - val_accuracy: 0.4688\n",
            "Epoch 31/100\n",
            "100/100 [==============================] - ETA: 0s - loss: 0.9520 - accuracy: 0.6072\n",
            "Epoch 00031: val_accuracy did not improve from 0.48000\n",
            "100/100 [==============================] - 8s 82ms/step - loss: 0.9520 - accuracy: 0.6072 - val_loss: 1.3379 - val_accuracy: 0.4100\n",
            "Epoch 32/100\n",
            "100/100 [==============================] - ETA: 0s - loss: 0.9505 - accuracy: 0.6156\n",
            "Epoch 00032: val_accuracy did not improve from 0.48000\n",
            "100/100 [==============================] - 8s 81ms/step - loss: 0.9505 - accuracy: 0.6156 - val_loss: 1.2836 - val_accuracy: 0.4550\n",
            "Epoch 33/100\n",
            "100/100 [==============================] - ETA: 0s - loss: 0.9509 - accuracy: 0.6066\n",
            "Epoch 00033: val_accuracy did not improve from 0.48000\n",
            "100/100 [==============================] - 8s 81ms/step - loss: 0.9509 - accuracy: 0.6066 - val_loss: 1.2661 - val_accuracy: 0.4538\n",
            "Epoch 34/100\n",
            "100/100 [==============================] - ETA: 0s - loss: 0.9366 - accuracy: 0.6153\n",
            "Epoch 00034: val_accuracy did not improve from 0.48000\n",
            "100/100 [==============================] - 8s 81ms/step - loss: 0.9366 - accuracy: 0.6153 - val_loss: 1.2685 - val_accuracy: 0.4563\n",
            "Epoch 35/100\n",
            "100/100 [==============================] - ETA: 0s - loss: 0.9210 - accuracy: 0.6259\n",
            "Epoch 00035: val_accuracy did not improve from 0.48000\n",
            "100/100 [==============================] - 8s 82ms/step - loss: 0.9210 - accuracy: 0.6259 - val_loss: 1.2565 - val_accuracy: 0.4462\n",
            "Epoch 36/100\n",
            "100/100 [==============================] - ETA: 0s - loss: 0.9114 - accuracy: 0.6209\n",
            "Epoch 00036: val_accuracy did not improve from 0.48000\n",
            "100/100 [==============================] - 8s 81ms/step - loss: 0.9114 - accuracy: 0.6209 - val_loss: 1.2775 - val_accuracy: 0.4675\n",
            "Epoch 37/100\n",
            "100/100 [==============================] - ETA: 0s - loss: 0.9272 - accuracy: 0.6263\n",
            "Epoch 00037: val_accuracy did not improve from 0.48000\n",
            "100/100 [==============================] - 8s 81ms/step - loss: 0.9272 - accuracy: 0.6263 - val_loss: 1.2680 - val_accuracy: 0.4512\n",
            "Epoch 38/100\n",
            "100/100 [==============================] - ETA: 0s - loss: 0.9178 - accuracy: 0.6303\n",
            "Epoch 00038: val_accuracy did not improve from 0.48000\n",
            "100/100 [==============================] - 8s 81ms/step - loss: 0.9178 - accuracy: 0.6303 - val_loss: 1.3033 - val_accuracy: 0.4375\n",
            "Epoch 39/100\n",
            "100/100 [==============================] - ETA: 0s - loss: 0.8875 - accuracy: 0.6409\n",
            "Epoch 00039: val_accuracy did not improve from 0.48000\n",
            "100/100 [==============================] - 8s 81ms/step - loss: 0.8875 - accuracy: 0.6409 - val_loss: 1.2594 - val_accuracy: 0.4613\n",
            "Epoch 40/100\n",
            "100/100 [==============================] - ETA: 0s - loss: 0.8849 - accuracy: 0.6513\n",
            "Epoch 00040: val_accuracy did not improve from 0.48000\n",
            "100/100 [==============================] - 8s 81ms/step - loss: 0.8849 - accuracy: 0.6513 - val_loss: 1.2931 - val_accuracy: 0.4575\n",
            "Epoch 41/100\n",
            "100/100 [==============================] - ETA: 0s - loss: 0.9043 - accuracy: 0.6291\n",
            "Epoch 00041: val_accuracy did not improve from 0.48000\n",
            "100/100 [==============================] - 8s 82ms/step - loss: 0.9043 - accuracy: 0.6291 - val_loss: 1.3214 - val_accuracy: 0.4412\n",
            "Epoch 42/100\n",
            "100/100 [==============================] - ETA: 0s - loss: 0.8594 - accuracy: 0.6603\n",
            "Epoch 00042: val_accuracy did not improve from 0.48000\n",
            "100/100 [==============================] - 8s 82ms/step - loss: 0.8594 - accuracy: 0.6603 - val_loss: 1.2803 - val_accuracy: 0.4625\n",
            "Epoch 43/100\n",
            "100/100 [==============================] - ETA: 0s - loss: 0.8732 - accuracy: 0.6475\n",
            "Epoch 00043: val_accuracy did not improve from 0.48000\n",
            "100/100 [==============================] - 8s 82ms/step - loss: 0.8732 - accuracy: 0.6475 - val_loss: 1.3448 - val_accuracy: 0.4313\n",
            "Epoch 44/100\n",
            "100/100 [==============================] - ETA: 0s - loss: 0.8588 - accuracy: 0.6591\n",
            "Epoch 00044: val_accuracy did not improve from 0.48000\n",
            "100/100 [==============================] - 8s 82ms/step - loss: 0.8588 - accuracy: 0.6591 - val_loss: 1.3157 - val_accuracy: 0.4363\n",
            "Epoch 45/100\n",
            "100/100 [==============================] - ETA: 0s - loss: 0.8452 - accuracy: 0.6641\n",
            "Epoch 00045: val_accuracy did not improve from 0.48000\n",
            "100/100 [==============================] - 8s 81ms/step - loss: 0.8452 - accuracy: 0.6641 - val_loss: 1.2591 - val_accuracy: 0.4663\n",
            "Epoch 46/100\n",
            "100/100 [==============================] - ETA: 0s - loss: 0.8322 - accuracy: 0.6706\n",
            "Epoch 00046: val_accuracy did not improve from 0.48000\n",
            "100/100 [==============================] - 8s 81ms/step - loss: 0.8322 - accuracy: 0.6706 - val_loss: 1.2660 - val_accuracy: 0.4663\n",
            "Epoch 47/100\n",
            "100/100 [==============================] - ETA: 0s - loss: 0.8308 - accuracy: 0.6709\n",
            "Epoch 00047: val_accuracy did not improve from 0.48000\n",
            "100/100 [==============================] - 8s 82ms/step - loss: 0.8308 - accuracy: 0.6709 - val_loss: 1.3060 - val_accuracy: 0.4600\n",
            "Epoch 48/100\n",
            "100/100 [==============================] - ETA: 0s - loss: 0.8359 - accuracy: 0.6822\n",
            "Epoch 00048: val_accuracy did not improve from 0.48000\n",
            "100/100 [==============================] - 8s 82ms/step - loss: 0.8359 - accuracy: 0.6822 - val_loss: 1.2687 - val_accuracy: 0.4525\n",
            "Epoch 00048: early stopping\n"
          ]
        }
      ]
    },
    {
      "cell_type": "code",
      "metadata": {
        "colab": {
          "base_uri": "https://localhost:8080/",
          "height": 312
        },
        "id": "zZ8mXPOnjc8m",
        "outputId": "ef4a30d0-ce22-4d13-e47f-0bd98b84ec8c"
      },
      "source": [
        "plt.plot(hist.history['accuracy'])\n",
        "plt.plot(hist.history['val_accuracy'])\n",
        "plt.plot(hist.history[\"loss\"])\n",
        "plt.plot(hist.history['val_loss'])\n",
        "plt.title(\"ResNet 50 Model Accuracy\")\n",
        "plt.ylabel(\"Accuracy\")\n",
        "plt.xlabel(\"Epoch\")\n",
        "plt.legend([\"Accuracy\",\"Validation Accuracy\",\"Loss\",\"Validation Loss\"])\n",
        "plt.show()\n",
        "plt.savefig('resnet50_acc.png')"
      ],
      "execution_count": 17,
      "outputs": [
        {
          "output_type": "display_data",
          "data": {
            "image/png": "[encoded data removed]",
            "text/plain": [
              "<Figure size 432x288 with 1 Axes>"
            ]
          },
          "metadata": {
            "needs_background": "light"
          }
        },
        {
          "output_type": "display_data",
          "data": {
            "text/plain": [
              "<Figure size 432x288 with 0 Axes>"
            ]
          },
          "metadata": {}
        }
      ]
    },
    {
      "cell_type": "code",
      "metadata": {
        "colab": {
          "base_uri": "https://localhost:8080/"
        },
        "id": "XRmZZv5ijqiZ",
        "outputId": "b9a0dced-a220-4533-a591-550a7c0868a1"
      },
      "source": [
        "from keras.models import load_model\n",
        "saved_model = load_model(\"resnet50.h5\")\n",
        "test_x = []\n",
        "test_y = []\n",
        "parsed_dataset = read_dataset('/content/train0133_processed.tfrecord') # ACTION NEEDED: .tfrecord file_path needs to be specified\n",
        "labeled_data_sets = labeled_dataset(parsed_dataset)\n",
        "for data in labeled_data_sets:\n",
        "  if data[1] == 12:\n",
        "    val = 0\n",
        "  elif data[1] == 11:\n",
        "    val = 1\n",
        "  elif data[1] == 17:\n",
        "    val = 2\n",
        "  else:\n",
        "    val = 3\n",
        "  resized_image = cv2.resize(data[0], (224, 224)) / 255.0\n",
        "  test_x.append(resized_image)\n",
        "  test_y.append(val)\n",
        "test_y = np.array(test_y).T\n",
        "test_x = np.array(test_x)\n",
        "test_y = to_categorical(test_y)\n",
        "loss, acc = saved_model.evaluate(test_x, test_y)\n",
        "print(loss)\n",
        "print(acc)"
      ],
      "execution_count": 18,
      "outputs": [
        {
          "output_type": "stream",
          "name": "stdout",
          "text": [
            "29/29 [==============================] - 3s 61ms/step - loss: 1.3167 - accuracy: 0.4236\n",
            "1.3167040348052979\n",
            "0.4236186444759369\n"
          ]
        }
      ]
    }
  ]
}