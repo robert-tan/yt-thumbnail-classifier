{
  "nbformat": 4,
  "nbformat_minor": 0,
  "metadata": {
    "accelerator": "GPU",
    "colab": {
      "name": "VGG16-YouTube.ipynb",
      "provenance": [],
      "collapsed_sections": [],
      "machine_shape": "hm"
    },
    "kernelspec": {
      "display_name": "Python 3",
      "name": "python3"
    },
    "language_info": {
      "name": "python"
    }
  },
  "cells": [
    {
      "cell_type": "code",
      "metadata": {
        "id": "FxyolSLvOcOu"
      },
      "source": [
        "!wget https://cs230-project.s3.us-east-2.amazonaws.com/train0000_processed.tfrecord\n",
        "!wget https://cs230-project.s3.us-east-2.amazonaws.com/train0002_processed.tfrecord\n",
        "!wget https://cs230-project.s3.us-east-2.amazonaws.com/train0014_processed.tfrecord\n",
        "!wget https://cs230-project.s3.us-east-2.amazonaws.com/train0017_processed.tfrecord\n",
        "!wget https://cs230-project.s3.us-east-2.amazonaws.com/train0031_processed.tfrecord\n",
        "\n",
        "!wget https://cs230-project.s3.us-east-2.amazonaws.com/train0036_processed.tfrecord\n",
        "!wget https://cs230-project.s3.us-east-2.amazonaws.com/train0043_processed.tfrecord\n",
        "!wget https://cs230-project.s3.us-east-2.amazonaws.com/train0046_processed.tfrecord\n",
        "!wget https://cs230-project.s3.us-east-2.amazonaws.com/train0057_processed.tfrecord\n",
        "!wget https://cs230-project.s3.us-east-2.amazonaws.com/train0060_processed.tfrecord\n",
        "\n",
        "!wget https://cs230-project.s3.us-east-2.amazonaws.com/train0067_processed.tfrecord\n",
        "!wget https://cs230-project.s3.us-east-2.amazonaws.com/train0086_processed.tfrecord\n",
        "!wget https://cs230-project.s3.us-east-2.amazonaws.com/train0090_processed.tfrecord\n",
        "!wget https://cs230-project.s3.us-east-2.amazonaws.com/train0091_processed.tfrecord\n",
        "!wget https://cs230-project.s3.us-east-2.amazonaws.com/train0111_processed.tfrecord\n",
        "\n",
        "!wget https://cs230-project.s3.us-east-2.amazonaws.com/train0112_processed.tfrecord\n",
        "!wget https://cs230-project.s3.us-east-2.amazonaws.com/train0123_processed.tfrecord\n",
        "!wget https://cs230-project.s3.us-east-2.amazonaws.com/train0130_processed.tfrecord\n",
        "!wget https://cs230-project.s3.us-east-2.amazonaws.com/train0131_processed.tfrecord\n",
        "!wget https://cs230-project.s3.us-east-2.amazonaws.com/train0133_processed.tfrecord"
      ],
      "execution_count": null,
      "outputs": []
    },
    {
      "cell_type": "code",
      "metadata": {
        "id": "RJJR_VWQ0cw0"
      },
      "source": [
        "import tensorflow as tf\n",
        "from tensorflow.keras.layers import Input, Conv2D\n",
        "from tensorflow.keras.layers import MaxPool2D, Flatten, Dense, Dropout\n",
        "from tensorflow.keras import Model\n",
        "from tensorflow.keras.optimizers import Adam, SGD, RMSprop\n",
        "from tensorflow.keras.utils import to_categorical\n",
        "from tensorflow.keras.callbacks import EarlyStopping, ModelCheckpoint\n",
        "import cv2\n",
        "import matplotlib.pyplot as plt\n",
        "import numpy as np\n",
        "import os"
      ],
      "execution_count": 12,
      "outputs": []
    },
    {
      "cell_type": "code",
      "metadata": {
        "id": "6Vl_NHxAPJ3v"
      },
      "source": [
        "files = ['0000', '0002', '0014', '0017', '0031', \n",
        "         '0036', '0043', '0046', '0057', '0060', \n",
        "         '0067', '0086', '0090', '0091', '0111', \n",
        "         '0112', '0123', '0130', '0131', '0133']"
      ],
      "execution_count": 4,
      "outputs": []
    },
    {
      "cell_type": "code",
      "metadata": {
        "id": "CzsLz5Vx0nah"
      },
      "source": [
        "def read_dataset(file_path):\n",
        "    dataset = tf.data.TFRecordDataset(file_path)\n",
        "\n",
        "    def read_tfrecord(serialized_example):\n",
        "        feature_description = {\n",
        "            'thumbnail': tf.io.VarLenFeature(tf.string),\n",
        "            'n_W': tf.io.FixedLenFeature((), tf.int64),\n",
        "            'n_H': tf.io.FixedLenFeature((), tf.int64),\n",
        "            'n_C': tf.io.FixedLenFeature((), tf.int64),\n",
        "            'labels': tf.io.VarLenFeature(tf.int64),\n",
        "        }\n",
        "        example = tf.io.parse_single_example(serialized_example, feature_description)\n",
        "        return example\n",
        "\n",
        "    parsed_dataset = dataset.map(read_tfrecord)\n",
        "    return parsed_dataset\n",
        "\n",
        "\n",
        "def labeled_dataset(parsed_dataset):\n",
        "    labeled_data_sets = []\n",
        "\n",
        "    for example in parsed_dataset:\n",
        "        thumbnail_bytes = example[\"thumbnail\"].values[0].numpy()\n",
        "        n_W = example[\"n_W\"].numpy()\n",
        "        n_C = example[\"n_C\"].numpy()\n",
        "        n_H = example[\"n_H\"].numpy()\n",
        "\n",
        "        thumbnail_arr = np.frombuffer(thumbnail_bytes, dtype=np.uint8).reshape((n_W, n_H, n_C))\n",
        "        labels = example[\"labels\"].values[0].numpy() \n",
        "\n",
        "        labeled_dataset = [thumbnail_arr, labels]\n",
        "        labeled_data_sets.append(labeled_dataset)\n",
        "    return labeled_data_sets"
      ],
      "execution_count": 5,
      "outputs": []
    },
    {
      "cell_type": "code",
      "metadata": {
        "id": "z3FPCXn00pxg"
      },
      "source": [
        "x = []\n",
        "y = []\n",
        "counter = [0] * 4\n",
        "for number in files:\n",
        "  parsed_dataset = read_dataset('/content/train' + number + '_processed.tfrecord') # ACTION NEEDED: .tfrecord file_path needs to be specified\n",
        "  labeled_data_sets = labeled_dataset(parsed_dataset)\n",
        "  for data in labeled_data_sets:\n",
        "    if data[1] == 12:\n",
        "      val = 0\n",
        "    elif data[1] == 11:\n",
        "      val = 1\n",
        "    elif data[1] == 17:\n",
        "      val = 2\n",
        "    else:\n",
        "      val = 3\n",
        "    if counter[val] < 1000:\n",
        "      resized_image = cv2.resize(data[0], (224, 224)) / 255.0\n",
        "      x.append(resized_image)\n",
        "      y.append(val)\n",
        "      counter[val] += 1\n",
        "  if counter[0] == counter[1] == counter[2] == counter[3] == 500:\n",
        "    break"
      ],
      "execution_count": 6,
      "outputs": []
    },
    {
      "cell_type": "code",
      "metadata": {
        "id": "q_i07vs7Ih9S"
      },
      "source": [
        "new_y = np.array(y).T\n",
        "new_x = np.array(x)"
      ],
      "execution_count": 7,
      "outputs": []
    },
    {
      "cell_type": "code",
      "metadata": {
        "id": "xl4fJ1zq0rgU",
        "colab": {
          "base_uri": "https://localhost:8080/"
        },
        "outputId": "bcb1afdb-d54a-4c2b-fe96-0c1fff4df57a"
      },
      "source": [
        "from sklearn.model_selection import train_test_split\n",
        "X_train, X_test, y_train, y_test = train_test_split(new_x, new_y, test_size=0.2, random_state=42)\n",
        "y_train = to_categorical(y_train, 4)\n",
        "y_test = to_categorical(y_test, 4)\n",
        "print(X_train.shape)\n",
        "print(y_train.shape)\n",
        "print(X_test.shape)\n",
        "print(y_test.shape)"
      ],
      "execution_count": 8,
      "outputs": [
        {
          "output_type": "stream",
          "name": "stdout",
          "text": [
            "(3200, 224, 224, 3)\n",
            "(3200, 4)\n",
            "(800, 224, 224, 3)\n",
            "(800, 4)\n"
          ]
        }
      ]
    },
    {
      "cell_type": "code",
      "metadata": {
        "id": "-vL1QixKUJ1O",
        "colab": {
          "base_uri": "https://localhost:8080/"
        },
        "outputId": "4862b3db-bd39-4782-fcee-b7bd00a2b141"
      },
      "source": [
        "from tensorflow.keras.applications.vgg16 import VGG16\n",
        "base_model = VGG16(weights=\"imagenet\", include_top=False, input_shape=X_train[0].shape)\n",
        "base_model.trainable = False"
      ],
      "execution_count": 9,
      "outputs": [
        {
          "output_type": "stream",
          "name": "stdout",
          "text": [
            "Downloading data from https://storage.googleapis.com/tensorflow/keras-applications/vgg16/vgg16_weights_tf_dim_ordering_tf_kernels_notop.h5\n",
            "58892288/58889256 [==============================] - 1s 0us/step\n",
            "58900480/58889256 [==============================] - 1s 0us/step\n"
          ]
        }
      ]
    },
    {
      "cell_type": "code",
      "metadata": {
        "id": "4nMKn8QxVPJk"
      },
      "source": [
        "x = Flatten()(base_model.output)\n",
        "x = Dense(1024, activation='relu')(x)\n",
        "x = Dropout(0.2)(x)\n",
        "x = Dense(4, activation='softmax')(x)\n",
        "\n",
        "model = tf.keras.models.Model(base_model.input, x)\n",
        "model.compile(optimizer=Adam(learning_rate=0.00001),\n",
        "    loss='categorical_crossentropy',\n",
        "    metrics=['accuracy']\n",
        ")"
      ],
      "execution_count": 16,
      "outputs": []
    },
    {
      "cell_type": "code",
      "metadata": {
        "colab": {
          "base_uri": "https://localhost:8080/"
        },
        "id": "kd5w16zgViPZ",
        "outputId": "9b3c1930-e313-454e-cbba-726278ee3b5d"
      },
      "source": [
        "checkpoint = ModelCheckpoint(\"vgg16.h5\", monitor='val_accuracy', verbose=1, save_best_only=True, save_weights_only=False, mode='auto', period=1)\n",
        "early = EarlyStopping(monitor='val_accuracy', min_delta=0, patience=20, verbose=1, mode='auto')\n",
        "hist = model.fit(X_train, y_train, validation_data=(X_test, y_test), epochs=100, batch_size=32, callbacks=[checkpoint, early])"
      ],
      "execution_count": 17,
      "outputs": [
        {
          "output_type": "stream",
          "name": "stdout",
          "text": [
            "WARNING:tensorflow:`period` argument is deprecated. Please use `save_freq` to specify the frequency in number of batches seen.\n",
            "Epoch 1/100\n",
            "100/100 [==============================] - ETA: 0s - loss: 1.2487 - accuracy: 0.4328\n",
            "Epoch 00001: val_accuracy improved from -inf to 0.53500, saving model to vgg16.h5\n",
            "100/100 [==============================] - 11s 102ms/step - loss: 1.2487 - accuracy: 0.4328 - val_loss: 1.1326 - val_accuracy: 0.5350\n",
            "Epoch 2/100\n",
            "100/100 [==============================] - ETA: 0s - loss: 0.9928 - accuracy: 0.5919\n",
            "Epoch 00002: val_accuracy improved from 0.53500 to 0.53875, saving model to vgg16.h5\n",
            "100/100 [==============================] - 9s 94ms/step - loss: 0.9928 - accuracy: 0.5919 - val_loss: 1.0876 - val_accuracy: 0.5387\n",
            "Epoch 3/100\n",
            "100/100 [==============================] - ETA: 0s - loss: 0.8662 - accuracy: 0.6575\n",
            "Epoch 00003: val_accuracy improved from 0.53875 to 0.58000, saving model to vgg16.h5\n",
            "100/100 [==============================] - 9s 94ms/step - loss: 0.8662 - accuracy: 0.6575 - val_loss: 1.0398 - val_accuracy: 0.5800\n",
            "Epoch 4/100\n",
            "100/100 [==============================] - ETA: 0s - loss: 0.7752 - accuracy: 0.6997\n",
            "Epoch 00004: val_accuracy did not improve from 0.58000\n",
            "100/100 [==============================] - 8s 83ms/step - loss: 0.7752 - accuracy: 0.6997 - val_loss: 1.0464 - val_accuracy: 0.5800\n",
            "Epoch 5/100\n",
            "100/100 [==============================] - ETA: 0s - loss: 0.6883 - accuracy: 0.7566\n",
            "Epoch 00005: val_accuracy improved from 0.58000 to 0.58250, saving model to vgg16.h5\n",
            "100/100 [==============================] - 9s 93ms/step - loss: 0.6883 - accuracy: 0.7566 - val_loss: 1.0212 - val_accuracy: 0.5825\n",
            "Epoch 6/100\n",
            "100/100 [==============================] - ETA: 0s - loss: 0.6191 - accuracy: 0.8022\n",
            "Epoch 00006: val_accuracy improved from 0.58250 to 0.59375, saving model to vgg16.h5\n",
            "100/100 [==============================] - 9s 93ms/step - loss: 0.6191 - accuracy: 0.8022 - val_loss: 1.0404 - val_accuracy: 0.5938\n",
            "Epoch 7/100\n",
            "100/100 [==============================] - ETA: 0s - loss: 0.5584 - accuracy: 0.8331\n",
            "Epoch 00007: val_accuracy did not improve from 0.59375\n",
            "100/100 [==============================] - 8s 83ms/step - loss: 0.5584 - accuracy: 0.8331 - val_loss: 1.0335 - val_accuracy: 0.5800\n",
            "Epoch 8/100\n",
            "100/100 [==============================] - ETA: 0s - loss: 0.5064 - accuracy: 0.8503\n",
            "Epoch 00008: val_accuracy improved from 0.59375 to 0.59750, saving model to vgg16.h5\n",
            "100/100 [==============================] - 9s 93ms/step - loss: 0.5064 - accuracy: 0.8503 - val_loss: 1.0157 - val_accuracy: 0.5975\n",
            "Epoch 9/100\n",
            "100/100 [==============================] - ETA: 0s - loss: 0.4596 - accuracy: 0.8775\n",
            "Epoch 00009: val_accuracy did not improve from 0.59750\n",
            "100/100 [==============================] - 8s 83ms/step - loss: 0.4596 - accuracy: 0.8775 - val_loss: 1.0316 - val_accuracy: 0.5925\n",
            "Epoch 10/100\n",
            "100/100 [==============================] - ETA: 0s - loss: 0.4195 - accuracy: 0.8947\n",
            "Epoch 00010: val_accuracy did not improve from 0.59750\n",
            "100/100 [==============================] - 8s 83ms/step - loss: 0.4195 - accuracy: 0.8947 - val_loss: 1.0399 - val_accuracy: 0.5938\n",
            "Epoch 11/100\n",
            "100/100 [==============================] - ETA: 0s - loss: 0.3836 - accuracy: 0.9119\n",
            "Epoch 00011: val_accuracy did not improve from 0.59750\n",
            "100/100 [==============================] - 8s 83ms/step - loss: 0.3836 - accuracy: 0.9119 - val_loss: 1.0439 - val_accuracy: 0.5913\n",
            "Epoch 12/100\n",
            "100/100 [==============================] - ETA: 0s - loss: 0.3524 - accuracy: 0.9225\n",
            "Epoch 00012: val_accuracy did not improve from 0.59750\n",
            "100/100 [==============================] - 8s 83ms/step - loss: 0.3524 - accuracy: 0.9225 - val_loss: 1.0540 - val_accuracy: 0.5838\n",
            "Epoch 13/100\n",
            "100/100 [==============================] - ETA: 0s - loss: 0.3144 - accuracy: 0.9450\n",
            "Epoch 00013: val_accuracy improved from 0.59750 to 0.60125, saving model to vgg16.h5\n",
            "100/100 [==============================] - 9s 94ms/step - loss: 0.3144 - accuracy: 0.9450 - val_loss: 1.0407 - val_accuracy: 0.6012\n",
            "Epoch 14/100\n",
            "100/100 [==============================] - ETA: 0s - loss: 0.2906 - accuracy: 0.9484\n",
            "Epoch 00014: val_accuracy did not improve from 0.60125\n",
            "100/100 [==============================] - 8s 83ms/step - loss: 0.2906 - accuracy: 0.9484 - val_loss: 1.0479 - val_accuracy: 0.5913\n",
            "Epoch 15/100\n",
            "100/100 [==============================] - ETA: 0s - loss: 0.2667 - accuracy: 0.9581\n",
            "Epoch 00015: val_accuracy did not improve from 0.60125\n",
            "100/100 [==============================] - 8s 84ms/step - loss: 0.2667 - accuracy: 0.9581 - val_loss: 1.0584 - val_accuracy: 0.5938\n",
            "Epoch 16/100\n",
            "100/100 [==============================] - ETA: 0s - loss: 0.2416 - accuracy: 0.9697\n",
            "Epoch 00016: val_accuracy did not improve from 0.60125\n",
            "100/100 [==============================] - 8s 83ms/step - loss: 0.2416 - accuracy: 0.9697 - val_loss: 1.0750 - val_accuracy: 0.5962\n",
            "Epoch 17/100\n",
            "100/100 [==============================] - ETA: 0s - loss: 0.2246 - accuracy: 0.9737\n",
            "Epoch 00017: val_accuracy did not improve from 0.60125\n",
            "100/100 [==============================] - 8s 83ms/step - loss: 0.2246 - accuracy: 0.9737 - val_loss: 1.0893 - val_accuracy: 0.5763\n",
            "Epoch 18/100\n",
            "100/100 [==============================] - ETA: 0s - loss: 0.2057 - accuracy: 0.9747\n",
            "Epoch 00018: val_accuracy did not improve from 0.60125\n",
            "100/100 [==============================] - 8s 83ms/step - loss: 0.2057 - accuracy: 0.9747 - val_loss: 1.0865 - val_accuracy: 0.5863\n",
            "Epoch 19/100\n",
            "100/100 [==============================] - ETA: 0s - loss: 0.1866 - accuracy: 0.9816\n",
            "Epoch 00019: val_accuracy did not improve from 0.60125\n",
            "100/100 [==============================] - 8s 83ms/step - loss: 0.1866 - accuracy: 0.9816 - val_loss: 1.0923 - val_accuracy: 0.5962\n",
            "Epoch 20/100\n",
            "100/100 [==============================] - ETA: 0s - loss: 0.1740 - accuracy: 0.9809\n",
            "Epoch 00020: val_accuracy did not improve from 0.60125\n",
            "100/100 [==============================] - 8s 83ms/step - loss: 0.1740 - accuracy: 0.9809 - val_loss: 1.0991 - val_accuracy: 0.5788\n",
            "Epoch 21/100\n",
            "100/100 [==============================] - ETA: 0s - loss: 0.1595 - accuracy: 0.9903\n",
            "Epoch 00021: val_accuracy did not improve from 0.60125\n",
            "100/100 [==============================] - 8s 83ms/step - loss: 0.1595 - accuracy: 0.9903 - val_loss: 1.0985 - val_accuracy: 0.5913\n",
            "Epoch 22/100\n",
            "100/100 [==============================] - ETA: 0s - loss: 0.1495 - accuracy: 0.9875\n",
            "Epoch 00022: val_accuracy did not improve from 0.60125\n",
            "100/100 [==============================] - 8s 83ms/step - loss: 0.1495 - accuracy: 0.9875 - val_loss: 1.1048 - val_accuracy: 0.5838\n",
            "Epoch 23/100\n",
            "100/100 [==============================] - ETA: 0s - loss: 0.1350 - accuracy: 0.9906\n",
            "Epoch 00023: val_accuracy did not improve from 0.60125\n",
            "100/100 [==============================] - 8s 83ms/step - loss: 0.1350 - accuracy: 0.9906 - val_loss: 1.1229 - val_accuracy: 0.5750\n",
            "Epoch 24/100\n",
            "100/100 [==============================] - ETA: 0s - loss: 0.1249 - accuracy: 0.9934\n",
            "Epoch 00024: val_accuracy did not improve from 0.60125\n",
            "100/100 [==============================] - 8s 83ms/step - loss: 0.1249 - accuracy: 0.9934 - val_loss: 1.1308 - val_accuracy: 0.5975\n",
            "Epoch 25/100\n",
            "100/100 [==============================] - ETA: 0s - loss: 0.1153 - accuracy: 0.9950\n",
            "Epoch 00025: val_accuracy did not improve from 0.60125\n",
            "100/100 [==============================] - 8s 83ms/step - loss: 0.1153 - accuracy: 0.9950 - val_loss: 1.1375 - val_accuracy: 0.5913\n",
            "Epoch 26/100\n",
            "100/100 [==============================] - ETA: 0s - loss: 0.1096 - accuracy: 0.9944\n",
            "Epoch 00026: val_accuracy did not improve from 0.60125\n",
            "100/100 [==============================] - 8s 83ms/step - loss: 0.1096 - accuracy: 0.9944 - val_loss: 1.1548 - val_accuracy: 0.5763\n",
            "Epoch 27/100\n",
            "100/100 [==============================] - ETA: 0s - loss: 0.1020 - accuracy: 0.9975\n",
            "Epoch 00027: val_accuracy did not improve from 0.60125\n",
            "100/100 [==============================] - 8s 84ms/step - loss: 0.1020 - accuracy: 0.9975 - val_loss: 1.1513 - val_accuracy: 0.5863\n",
            "Epoch 28/100\n",
            "100/100 [==============================] - ETA: 0s - loss: 0.0929 - accuracy: 0.9969\n",
            "Epoch 00028: val_accuracy did not improve from 0.60125\n",
            "100/100 [==============================] - 8s 83ms/step - loss: 0.0929 - accuracy: 0.9969 - val_loss: 1.1602 - val_accuracy: 0.5850\n",
            "Epoch 29/100\n",
            "100/100 [==============================] - ETA: 0s - loss: 0.0855 - accuracy: 0.9987\n",
            "Epoch 00029: val_accuracy did not improve from 0.60125\n",
            "100/100 [==============================] - 8s 84ms/step - loss: 0.0855 - accuracy: 0.9987 - val_loss: 1.1665 - val_accuracy: 0.5925\n",
            "Epoch 30/100\n",
            "100/100 [==============================] - ETA: 0s - loss: 0.0811 - accuracy: 0.9984\n",
            "Epoch 00030: val_accuracy did not improve from 0.60125\n",
            "100/100 [==============================] - 8s 83ms/step - loss: 0.0811 - accuracy: 0.9984 - val_loss: 1.1744 - val_accuracy: 0.5813\n",
            "Epoch 31/100\n",
            "100/100 [==============================] - ETA: 0s - loss: 0.0758 - accuracy: 0.9984\n",
            "Epoch 00031: val_accuracy did not improve from 0.60125\n",
            "100/100 [==============================] - 8s 83ms/step - loss: 0.0758 - accuracy: 0.9984 - val_loss: 1.1877 - val_accuracy: 0.5888\n",
            "Epoch 32/100\n",
            "100/100 [==============================] - ETA: 0s - loss: 0.0717 - accuracy: 0.9984\n",
            "Epoch 00032: val_accuracy did not improve from 0.60125\n",
            "100/100 [==============================] - 8s 83ms/step - loss: 0.0717 - accuracy: 0.9984 - val_loss: 1.1988 - val_accuracy: 0.5925\n",
            "Epoch 33/100\n",
            "100/100 [==============================] - ETA: 0s - loss: 0.0658 - accuracy: 0.9997\n",
            "Epoch 00033: val_accuracy did not improve from 0.60125\n",
            "100/100 [==============================] - 8s 83ms/step - loss: 0.0658 - accuracy: 0.9997 - val_loss: 1.2114 - val_accuracy: 0.5775\n",
            "Epoch 00033: early stopping\n"
          ]
        }
      ]
    },
    {
      "cell_type": "code",
      "metadata": {
        "colab": {
          "base_uri": "https://localhost:8080/",
          "height": 312
        },
        "id": "IBafLhlPZdpQ",
        "outputId": "6c92fd76-5265-4bd2-9ae3-6047ccbfa399"
      },
      "source": [
        "plt.plot(hist.history['accuracy'])\n",
        "plt.plot(hist.history['val_accuracy'])\n",
        "plt.plot(hist.history[\"loss\"])\n",
        "plt.plot(hist.history['val_loss'])\n",
        "plt.title(\"VGG 16 Model Accuracy\")\n",
        "plt.ylabel(\"Accuracy\")\n",
        "plt.xlabel(\"Epoch\")\n",
        "plt.legend([\"Accuracy\",\"Validation Accuracy\",\"Loss\",\"Validation Loss\"])\n",
        "plt.show()\n",
        "plt.savefig('vgg16_acc.png')"
      ],
      "execution_count": 24,
      "outputs": [
        {
          "output_type": "display_data",
          "data": {
            "image/png": "[encoded data removed]",
            "text/plain": [
              "<Figure size 432x288 with 1 Axes>"
            ]
          },
          "metadata": {
            "needs_background": "light"
          }
        },
        {
          "output_type": "display_data",
          "data": {
            "text/plain": [
              "<Figure size 432x288 with 0 Axes>"
            ]
          },
          "metadata": {}
        }
      ]
    },
    {
      "cell_type": "code",
      "metadata": {
        "colab": {
          "base_uri": "https://localhost:8080/"
        },
        "id": "2xsMvC_RfN5N",
        "outputId": "30e5b366-1242-424a-f27d-ccffc1742981"
      },
      "source": [
        "from keras.models import load_model\n",
        "saved_model = load_model(\"vgg16.h5\")\n",
        "test_x = []\n",
        "test_y = []\n",
        "parsed_dataset = read_dataset('/content/train0133_processed.tfrecord') # ACTION NEEDED: .tfrecord file_path needs to be specified\n",
        "labeled_data_sets = labeled_dataset(parsed_dataset)\n",
        "for data in labeled_data_sets:\n",
        "  if data[1] == 12:\n",
        "    val = 0\n",
        "  elif data[1] == 11:\n",
        "    val = 1\n",
        "  elif data[1] == 17:\n",
        "    val = 2\n",
        "  else:\n",
        "    val = 3\n",
        "  resized_image = cv2.resize(data[0], (224, 224)) / 255.0\n",
        "  test_x.append(resized_image)\n",
        "  test_y.append(val)\n",
        "test_y = np.array(test_y).T\n",
        "test_x = np.array(test_x)\n",
        "test_y = to_categorical(test_y)\n",
        "loss, acc = saved_model.evaluate(test_x, test_y)\n",
        "print(loss)\n",
        "print(acc)"
      ],
      "execution_count": 20,
      "outputs": [
        {
          "output_type": "stream",
          "name": "stdout",
          "text": [
            "29/29 [==============================] - 5s 156ms/step - loss: 0.9845 - accuracy: 0.5818\n",
            "0.984533429145813\n",
            "0.5817984938621521\n"
          ]
        }
      ]
    }
  ]
}