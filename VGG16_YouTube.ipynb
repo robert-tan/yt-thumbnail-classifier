{
  "nbformat": 4,
  "nbformat_minor": 0,
  "metadata": {
    "accelerator": "GPU",
    "colab": {
      "name": "VGG16-YouTube.ipynb",
      "provenance": [],
      "collapsed_sections": [],
      "machine_shape": "hm"
    },
    "kernelspec": {
      "display_name": "Python 3",
      "name": "python3"
    },
    "language_info": {
      "name": "python"
    }
  },
  "cells": [
    {
      "cell_type": "code",
      "metadata": {
        "id": "FxyolSLvOcOu"
      },
      "source": [
        "!wget https://cs230-project.s3.us-east-2.amazonaws.com/train0000_processed.tfrecord\n",
        "!wget https://cs230-project.s3.us-east-2.amazonaws.com/train0002_processed.tfrecord\n",
        "!wget https://cs230-project.s3.us-east-2.amazonaws.com/train0014_processed.tfrecord\n",
        "!wget https://cs230-project.s3.us-east-2.amazonaws.com/train0017_processed.tfrecord\n",
        "!wget https://cs230-project.s3.us-east-2.amazonaws.com/train0031_processed.tfrecord\n",
        "\n",
        "!wget https://cs230-project.s3.us-east-2.amazonaws.com/train0036_processed.tfrecord\n",
        "!wget https://cs230-project.s3.us-east-2.amazonaws.com/train0043_processed.tfrecord\n",
        "!wget https://cs230-project.s3.us-east-2.amazonaws.com/train0046_processed.tfrecord\n",
        "!wget https://cs230-project.s3.us-east-2.amazonaws.com/train0057_processed.tfrecord\n",
        "!wget https://cs230-project.s3.us-east-2.amazonaws.com/train0060_processed.tfrecord\n",
        "\n",
        "!wget https://cs230-project.s3.us-east-2.amazonaws.com/train0067_processed.tfrecord\n",
        "!wget https://cs230-project.s3.us-east-2.amazonaws.com/train0086_processed.tfrecord\n",
        "!wget https://cs230-project.s3.us-east-2.amazonaws.com/train0090_processed.tfrecord\n",
        "!wget https://cs230-project.s3.us-east-2.amazonaws.com/train0091_processed.tfrecord\n",
        "!wget https://cs230-project.s3.us-east-2.amazonaws.com/train0111_processed.tfrecord\n",
        "\n",
        "!wget https://cs230-project.s3.us-east-2.amazonaws.com/train0112_processed.tfrecord\n",
        "!wget https://cs230-project.s3.us-east-2.amazonaws.com/train0123_processed.tfrecord\n",
        "!wget https://cs230-project.s3.us-east-2.amazonaws.com/train0130_processed.tfrecord\n",
        "!wget https://cs230-project.s3.us-east-2.amazonaws.com/train0131_processed.tfrecord\n",
        "!wget https://cs230-project.s3.us-east-2.amazonaws.com/train0133_processed.tfrecord"
      ],
      "execution_count": null,
      "outputs": []
    },
    {
      "cell_type": "code",
      "metadata": {
        "id": "RJJR_VWQ0cw0"
      },
      "source": [
        "import tensorflow as tf\n",
        "from tensorflow.keras.layers import Input, Conv2D\n",
        "from tensorflow.keras.layers import MaxPool2D, Flatten, Dense, Dropout\n",
        "from tensorflow.keras import Model\n",
        "from tensorflow.keras.optimizers import Adam, SGD, RMSprop\n",
        "from tensorflow.keras.utils import to_categorical\n",
        "from tensorflow.keras.callbacks import EarlyStopping, ModelCheckpoint\n",
        "import cv2\n",
        "import matplotlib.pyplot as plt\n",
        "import numpy as np\n",
        "import os"
      ],
      "execution_count": 2,
      "outputs": []
    },
    {
      "cell_type": "code",
      "metadata": {
        "id": "6Vl_NHxAPJ3v"
      },
      "source": [
        "files = ['0000', '0002', '0014', '0017', '0031', \n",
        "         '0036', '0043', '0046', '0057', '0060', \n",
        "         '0067', '0086', '0090', '0091', '0111', \n",
        "         '0112', '0123', '0130', '0131', '0133']"
      ],
      "execution_count": 3,
      "outputs": []
    },
    {
      "cell_type": "code",
      "metadata": {
        "id": "CzsLz5Vx0nah"
      },
      "source": [
        "def read_dataset(file_path):\n",
        "    dataset = tf.data.TFRecordDataset(file_path)\n",
        "\n",
        "    def read_tfrecord(serialized_example):\n",
        "        feature_description = {\n",
        "            'thumbnail': tf.io.VarLenFeature(tf.string),\n",
        "            'n_W': tf.io.FixedLenFeature((), tf.int64),\n",
        "            'n_H': tf.io.FixedLenFeature((), tf.int64),\n",
        "            'n_C': tf.io.FixedLenFeature((), tf.int64),\n",
        "            'labels': tf.io.VarLenFeature(tf.int64),\n",
        "        }\n",
        "        example = tf.io.parse_single_example(serialized_example, feature_description)\n",
        "        return example\n",
        "\n",
        "    parsed_dataset = dataset.map(read_tfrecord)\n",
        "    return parsed_dataset\n",
        "\n",
        "\n",
        "def labeled_dataset(parsed_dataset):\n",
        "    labeled_data_sets = []\n",
        "\n",
        "    for example in parsed_dataset:\n",
        "        thumbnail_bytes = example[\"thumbnail\"].values[0].numpy()\n",
        "        n_W = example[\"n_W\"].numpy()\n",
        "        n_C = example[\"n_C\"].numpy()\n",
        "        n_H = example[\"n_H\"].numpy()\n",
        "\n",
        "        thumbnail_arr = np.frombuffer(thumbnail_bytes, dtype=np.uint8).reshape((n_W, n_H, n_C))\n",
        "        labels = example[\"labels\"].values[0].numpy() \n",
        "\n",
        "        labeled_dataset = [thumbnail_arr, labels]\n",
        "        labeled_data_sets.append(labeled_dataset)\n",
        "    return labeled_data_sets"
      ],
      "execution_count": 4,
      "outputs": []
    },
    {
      "cell_type": "code",
      "metadata": {
        "id": "z3FPCXn00pxg"
      },
      "source": [
        "x = []\n",
        "y = []\n",
        "counter = [0] * 4\n",
        "for number in files:\n",
        "  parsed_dataset = read_dataset('/content/train' + number + '_processed.tfrecord') # ACTION NEEDED: .tfrecord file_path needs to be specified\n",
        "  labeled_data_sets = labeled_dataset(parsed_dataset)\n",
        "  for data in labeled_data_sets:\n",
        "    if data[1] == 12:\n",
        "      val = 0\n",
        "    elif data[1] == 11:\n",
        "      val = 1\n",
        "    elif data[1] == 17:\n",
        "      val = 2\n",
        "    else:\n",
        "      val = 3\n",
        "    if counter[val] < 1000:\n",
        "      resized_image = cv2.resize(data[0], (224, 224)) / 255.0\n",
        "      x.append(resized_image)\n",
        "      y.append(val)\n",
        "      counter[val] += 1\n",
        "  if counter[0] == counter[1] == counter[2] == counter[3] == 500:\n",
        "    break"
      ],
      "execution_count": 5,
      "outputs": []
    },
    {
      "cell_type": "code",
      "metadata": {
        "id": "q_i07vs7Ih9S"
      },
      "source": [
        "new_y = np.array(y).T\n",
        "new_x = np.array(x)"
      ],
      "execution_count": 6,
      "outputs": []
    },
    {
      "cell_type": "code",
      "metadata": {
        "id": "xl4fJ1zq0rgU",
        "colab": {
          "base_uri": "https://localhost:8080/"
        },
        "outputId": "e399c14f-e340-413c-abb4-ba1bdefc1360"
      },
      "source": [
        "from sklearn.model_selection import train_test_split\n",
        "X_train, X_test, y_train, y_test = train_test_split(new_x, new_y, test_size=0.2, random_state=42)\n",
        "y_train = to_categorical(y_train, 4)\n",
        "y_test = to_categorical(y_test, 4)\n",
        "print(X_train.shape)\n",
        "print(y_train.shape)\n",
        "print(X_test.shape)\n",
        "print(y_test.shape)"
      ],
      "execution_count": 7,
      "outputs": [
        {
          "output_type": "stream",
          "name": "stdout",
          "text": [
            "(3200, 224, 224, 3)\n",
            "(3200, 4)\n",
            "(800, 224, 224, 3)\n",
            "(800, 4)\n"
          ]
        }
      ]
    },
    {
      "cell_type": "code",
      "metadata": {
        "id": "-vL1QixKUJ1O",
        "colab": {
          "base_uri": "https://localhost:8080/"
        },
        "outputId": "79de529a-cecd-45bb-e2b5-ab98aa385d56"
      },
      "source": [
        "from tensorflow.keras.applications.vgg16 import VGG16\n",
        "base_model = VGG16(weights=\"imagenet\", include_top=False, input_shape=X_train[0].shape)\n",
        "base_model.trainable = False"
      ],
      "execution_count": 8,
      "outputs": [
        {
          "output_type": "stream",
          "name": "stdout",
          "text": [
            "Downloading data from https://storage.googleapis.com/tensorflow/keras-applications/vgg16/vgg16_weights_tf_dim_ordering_tf_kernels_notop.h5\n",
            "58892288/58889256 [==============================] - 0s 0us/step\n",
            "58900480/58889256 [==============================] - 0s 0us/step\n"
          ]
        }
      ]
    },
    {
      "cell_type": "code",
      "metadata": {
        "id": "4nMKn8QxVPJk"
      },
      "source": [
        "x = Flatten()(base_model.output)\n",
        "x = Dense(1024, activation='relu')(x)\n",
        "x = Dropout(0.2)(x)\n",
        "x = Dense(4, activation='softmax')(x)\n",
        "\n",
        "model = tf.keras.models.Model(base_model.input, x)\n",
        "model.compile(optimizer=Adam(learning_rate=0.00001),\n",
        "    loss='categorical_crossentropy',\n",
        "    metrics=['accuracy']\n",
        ")"
      ],
      "execution_count": 9,
      "outputs": []
    },
    {
      "cell_type": "code",
      "metadata": {
        "colab": {
          "base_uri": "https://localhost:8080/"
        },
        "id": "kd5w16zgViPZ",
        "outputId": "16bbfee7-3729-48ac-e429-d83b80149a06"
      },
      "source": [
        "checkpoint = ModelCheckpoint(\"vgg16.h5\", monitor='val_accuracy', verbose=1, save_best_only=True, save_weights_only=False, mode='auto', period=1)\n",
        "early = EarlyStopping(monitor='val_accuracy', min_delta=0, patience=20, verbose=1, mode='auto')\n",
        "hist = model.fit(X_train, y_train, validation_data=(X_test, y_test), epochs=100, batch_size=32, callbacks=[checkpoint, early])"
      ],
      "execution_count": 10,
      "outputs": [
        {
          "output_type": "stream",
          "name": "stdout",
          "text": [
            "WARNING:tensorflow:`period` argument is deprecated. Please use `save_freq` to specify the frequency in number of batches seen.\n",
            "Epoch 1/100\n",
            "100/100 [==============================] - ETA: 0s - loss: 1.2339 - accuracy: 0.4403\n",
            "Epoch 00001: val_accuracy improved from -inf to 0.53625, saving model to vgg16.h5\n",
            "100/100 [==============================] - 21s 98ms/step - loss: 1.2339 - accuracy: 0.4403 - val_loss: 1.1265 - val_accuracy: 0.5362\n",
            "Epoch 2/100\n",
            "100/100 [==============================] - ETA: 0s - loss: 0.9785 - accuracy: 0.6025\n",
            "Epoch 00002: val_accuracy improved from 0.53625 to 0.56000, saving model to vgg16.h5\n",
            "100/100 [==============================] - 9s 92ms/step - loss: 0.9785 - accuracy: 0.6025 - val_loss: 1.0938 - val_accuracy: 0.5600\n",
            "Epoch 3/100\n",
            "100/100 [==============================] - ETA: 0s - loss: 0.8676 - accuracy: 0.6597\n",
            "Epoch 00003: val_accuracy improved from 0.56000 to 0.58750, saving model to vgg16.h5\n",
            "100/100 [==============================] - 9s 91ms/step - loss: 0.8676 - accuracy: 0.6597 - val_loss: 1.0437 - val_accuracy: 0.5875\n",
            "Epoch 4/100\n",
            "100/100 [==============================] - ETA: 0s - loss: 0.7604 - accuracy: 0.7219\n",
            "Epoch 00004: val_accuracy improved from 0.58750 to 0.59375, saving model to vgg16.h5\n",
            "100/100 [==============================] - 9s 90ms/step - loss: 0.7604 - accuracy: 0.7219 - val_loss: 1.0309 - val_accuracy: 0.5938\n",
            "Epoch 5/100\n",
            "100/100 [==============================] - ETA: 0s - loss: 0.6830 - accuracy: 0.7647\n",
            "Epoch 00005: val_accuracy improved from 0.59375 to 0.59500, saving model to vgg16.h5\n",
            "100/100 [==============================] - 9s 90ms/step - loss: 0.6830 - accuracy: 0.7647 - val_loss: 1.0376 - val_accuracy: 0.5950\n",
            "Epoch 6/100\n",
            "100/100 [==============================] - ETA: 0s - loss: 0.6172 - accuracy: 0.7925\n",
            "Epoch 00006: val_accuracy did not improve from 0.59500\n",
            "100/100 [==============================] - 8s 83ms/step - loss: 0.6172 - accuracy: 0.7925 - val_loss: 1.0411 - val_accuracy: 0.5925\n",
            "Epoch 7/100\n",
            "100/100 [==============================] - ETA: 0s - loss: 0.5609 - accuracy: 0.8138\n",
            "Epoch 00007: val_accuracy improved from 0.59500 to 0.60125, saving model to vgg16.h5\n",
            "100/100 [==============================] - 9s 91ms/step - loss: 0.5609 - accuracy: 0.8138 - val_loss: 1.0334 - val_accuracy: 0.6012\n",
            "Epoch 8/100\n",
            "100/100 [==============================] - ETA: 0s - loss: 0.5114 - accuracy: 0.8413\n",
            "Epoch 00008: val_accuracy did not improve from 0.60125\n",
            "100/100 [==============================] - 8s 82ms/step - loss: 0.5114 - accuracy: 0.8413 - val_loss: 1.0384 - val_accuracy: 0.5975\n",
            "Epoch 9/100\n",
            "100/100 [==============================] - ETA: 0s - loss: 0.4620 - accuracy: 0.8728\n",
            "Epoch 00009: val_accuracy did not improve from 0.60125\n",
            "100/100 [==============================] - 8s 83ms/step - loss: 0.4620 - accuracy: 0.8728 - val_loss: 1.0453 - val_accuracy: 0.5975\n",
            "Epoch 10/100\n",
            "100/100 [==============================] - ETA: 0s - loss: 0.4182 - accuracy: 0.8950\n",
            "Epoch 00010: val_accuracy did not improve from 0.60125\n",
            "100/100 [==============================] - 8s 83ms/step - loss: 0.4182 - accuracy: 0.8950 - val_loss: 1.0528 - val_accuracy: 0.5888\n",
            "Epoch 11/100\n",
            "100/100 [==============================] - ETA: 0s - loss: 0.3833 - accuracy: 0.9125\n",
            "Epoch 00011: val_accuracy did not improve from 0.60125\n",
            "100/100 [==============================] - 8s 82ms/step - loss: 0.3833 - accuracy: 0.9125 - val_loss: 1.0606 - val_accuracy: 0.5813\n",
            "Epoch 12/100\n",
            "100/100 [==============================] - ETA: 0s - loss: 0.3449 - accuracy: 0.9256\n",
            "Epoch 00012: val_accuracy did not improve from 0.60125\n",
            "100/100 [==============================] - 8s 82ms/step - loss: 0.3449 - accuracy: 0.9256 - val_loss: 1.0731 - val_accuracy: 0.5875\n",
            "Epoch 13/100\n",
            "100/100 [==============================] - ETA: 0s - loss: 0.3131 - accuracy: 0.9416\n",
            "Epoch 00013: val_accuracy did not improve from 0.60125\n",
            "100/100 [==============================] - 8s 83ms/step - loss: 0.3131 - accuracy: 0.9416 - val_loss: 1.0727 - val_accuracy: 0.5838\n",
            "Epoch 14/100\n",
            "100/100 [==============================] - ETA: 0s - loss: 0.2863 - accuracy: 0.9544\n",
            "Epoch 00014: val_accuracy did not improve from 0.60125\n",
            "100/100 [==============================] - 8s 83ms/step - loss: 0.2863 - accuracy: 0.9544 - val_loss: 1.0802 - val_accuracy: 0.5838\n",
            "Epoch 15/100\n",
            "100/100 [==============================] - ETA: 0s - loss: 0.2601 - accuracy: 0.9566\n",
            "Epoch 00015: val_accuracy did not improve from 0.60125\n",
            "100/100 [==============================] - 8s 83ms/step - loss: 0.2601 - accuracy: 0.9566 - val_loss: 1.0940 - val_accuracy: 0.5738\n",
            "Epoch 16/100\n",
            "100/100 [==============================] - ETA: 0s - loss: 0.2418 - accuracy: 0.9656\n",
            "Epoch 00016: val_accuracy did not improve from 0.60125\n",
            "100/100 [==============================] - 8s 83ms/step - loss: 0.2418 - accuracy: 0.9656 - val_loss: 1.0867 - val_accuracy: 0.5800\n",
            "Epoch 17/100\n",
            "100/100 [==============================] - ETA: 0s - loss: 0.2206 - accuracy: 0.9734\n",
            "Epoch 00017: val_accuracy did not improve from 0.60125\n",
            "100/100 [==============================] - 8s 82ms/step - loss: 0.2206 - accuracy: 0.9734 - val_loss: 1.0986 - val_accuracy: 0.5913\n",
            "Epoch 18/100\n",
            "100/100 [==============================] - ETA: 0s - loss: 0.2000 - accuracy: 0.9794\n",
            "Epoch 00018: val_accuracy did not improve from 0.60125\n",
            "100/100 [==============================] - 8s 82ms/step - loss: 0.2000 - accuracy: 0.9794 - val_loss: 1.1124 - val_accuracy: 0.5800\n",
            "Epoch 19/100\n",
            "100/100 [==============================] - ETA: 0s - loss: 0.1868 - accuracy: 0.9803\n",
            "Epoch 00019: val_accuracy did not improve from 0.60125\n",
            "100/100 [==============================] - 8s 83ms/step - loss: 0.1868 - accuracy: 0.9803 - val_loss: 1.1331 - val_accuracy: 0.5725\n",
            "Epoch 20/100\n",
            "100/100 [==============================] - ETA: 0s - loss: 0.1739 - accuracy: 0.9850\n",
            "Epoch 00020: val_accuracy did not improve from 0.60125\n",
            "100/100 [==============================] - 8s 82ms/step - loss: 0.1739 - accuracy: 0.9850 - val_loss: 1.1202 - val_accuracy: 0.5825\n",
            "Epoch 21/100\n",
            "100/100 [==============================] - ETA: 0s - loss: 0.1588 - accuracy: 0.9859\n",
            "Epoch 00021: val_accuracy did not improve from 0.60125\n",
            "100/100 [==============================] - 8s 83ms/step - loss: 0.1588 - accuracy: 0.9859 - val_loss: 1.1434 - val_accuracy: 0.5788\n",
            "Epoch 22/100\n",
            "100/100 [==============================] - ETA: 0s - loss: 0.1430 - accuracy: 0.9922\n",
            "Epoch 00022: val_accuracy did not improve from 0.60125\n",
            "100/100 [==============================] - 8s 82ms/step - loss: 0.1430 - accuracy: 0.9922 - val_loss: 1.1363 - val_accuracy: 0.5825\n",
            "Epoch 23/100\n",
            "100/100 [==============================] - ETA: 0s - loss: 0.1342 - accuracy: 0.9922\n",
            "Epoch 00023: val_accuracy did not improve from 0.60125\n",
            "100/100 [==============================] - 8s 83ms/step - loss: 0.1342 - accuracy: 0.9922 - val_loss: 1.1437 - val_accuracy: 0.5825\n",
            "Epoch 24/100\n",
            "100/100 [==============================] - ETA: 0s - loss: 0.1235 - accuracy: 0.9944\n",
            "Epoch 00024: val_accuracy did not improve from 0.60125\n",
            "100/100 [==============================] - 8s 83ms/step - loss: 0.1235 - accuracy: 0.9944 - val_loss: 1.1491 - val_accuracy: 0.5788\n",
            "Epoch 25/100\n",
            "100/100 [==============================] - ETA: 0s - loss: 0.1141 - accuracy: 0.9959\n",
            "Epoch 00025: val_accuracy did not improve from 0.60125\n",
            "100/100 [==============================] - 8s 83ms/step - loss: 0.1141 - accuracy: 0.9959 - val_loss: 1.1632 - val_accuracy: 0.5838\n",
            "Epoch 26/100\n",
            "100/100 [==============================] - ETA: 0s - loss: 0.1080 - accuracy: 0.9966\n",
            "Epoch 00026: val_accuracy did not improve from 0.60125\n",
            "100/100 [==============================] - 8s 83ms/step - loss: 0.1080 - accuracy: 0.9966 - val_loss: 1.1764 - val_accuracy: 0.5763\n",
            "Epoch 27/100\n",
            "100/100 [==============================] - ETA: 0s - loss: 0.0983 - accuracy: 0.9984\n",
            "Epoch 00027: val_accuracy did not improve from 0.60125\n",
            "100/100 [==============================] - 8s 83ms/step - loss: 0.0983 - accuracy: 0.9984 - val_loss: 1.1795 - val_accuracy: 0.5788\n",
            "Epoch 00027: early stopping\n"
          ]
        }
      ]
    },
    {
      "cell_type": "code",
      "metadata": {
        "colab": {
          "base_uri": "https://localhost:8080/",
          "height": 312
        },
        "id": "IBafLhlPZdpQ",
        "outputId": "0c673d61-f37e-4db7-badb-dde4f85becf7"
      },
      "source": [
        "plt.plot(hist.history['accuracy'])\n",
        "plt.plot(hist.history['val_accuracy'])\n",
        "plt.plot(hist.history[\"loss\"])\n",
        "plt.plot(hist.history['val_loss'])\n",
        "plt.title(\"VGG 16 Model Accuracy\")\n",
        "plt.ylabel(\"Accuracy\")\n",
        "plt.xlabel(\"Epoch\")\n",
        "plt.legend([\"Accuracy\",\"Validation Accuracy\",\"Loss\",\"Validation Loss\"])\n",
        "plt.show()\n",
        "plt.savefig('vgg16_acc.png')"
      ],
      "execution_count": 11,
      "outputs": [
        {
          "output_type": "display_data",
          "data": {
            "image/png": "[encoded data removed]",
            "text/plain": [
              "<Figure size 432x288 with 1 Axes>"
            ]
          },
          "metadata": {
            "needs_background": "light"
          }
        },
        {
          "output_type": "display_data",
          "data": {
            "text/plain": [
              "<Figure size 432x288 with 0 Axes>"
            ]
          },
          "metadata": {}
        }
      ]
    },
    {
      "cell_type": "code",
      "metadata": {
        "colab": {
          "base_uri": "https://localhost:8080/"
        },
        "id": "2xsMvC_RfN5N",
        "outputId": "43484625-2216-46b9-f8ee-1543069992b9"
      },
      "source": [
        "from keras.models import load_model\n",
        "saved_model = load_model(\"vgg16.h5\")\n",
        "test_x = []\n",
        "original_y = []\n",
        "parsed_dataset = read_dataset('/content/train0133_processed.tfrecord') # ACTION NEEDED: .tfrecord file_path needs to be specified\n",
        "labeled_data_sets = labeled_dataset(parsed_dataset)\n",
        "for data in labeled_data_sets[:800]:\n",
        "  if data[1] == 12:\n",
        "    val = 0\n",
        "  elif data[1] == 11:\n",
        "    val = 1\n",
        "  elif data[1] == 17:\n",
        "    val = 2\n",
        "  else:\n",
        "    val = 3\n",
        "  resized_image = cv2.resize(data[0], (224, 224)) / 255.0\n",
        "  test_x.append(resized_image)\n",
        "  original_y.append(val)\n",
        "test_y = np.array(original_y).T\n",
        "test_x = np.array(test_x)\n",
        "test_y = to_categorical(test_y)\n",
        "loss, acc = saved_model.evaluate(test_x, test_y)\n",
        "print(loss)\n",
        "print(acc)"
      ],
      "execution_count": 20,
      "outputs": [
        {
          "output_type": "stream",
          "name": "stdout",
          "text": [
            "25/25 [==============================] - 2s 65ms/step - loss: 0.9754 - accuracy: 0.5938\n",
            "0.9753575325012207\n",
            "0.59375\n"
          ]
        }
      ]
    },
    {
      "cell_type": "code",
      "metadata": {
        "id": "h37VdLsXjS7R"
      },
      "source": [
        "predict_y = saved_model.predict(test_x)\n",
        "predict_y = np.argmax(predict_y, axis=1)\n",
        "original_y = np.array(original_y)"
      ],
      "execution_count": 30,
      "outputs": []
    },
    {
      "cell_type": "code",
      "metadata": {
        "colab": {
          "base_uri": "https://localhost:8080/"
        },
        "id": "eYqY6FOMntKS",
        "outputId": "08fb928c-5eff-4485-d176-73622af9bf4f"
      },
      "source": [
        "from sklearn.metrics import precision_score, recall_score, f1_score, confusion_matrix\n",
        "precision = precision_score(original_y, predict_y, average='macro')\n",
        "recall = recall_score(original_y, predict_y, average='macro')\n",
        "f1 = f1_score(original_y, predict_y, average='macro')\n",
        "cm = confusion_matrix(original_y, predict_y)\n",
        "print(f'Precision score is: {precision}')\n",
        "print(f'Recall score is: {recall}')\n",
        "print(f'F1 score is: {f1}')\n",
        "print(cm)"
      ],
      "execution_count": 50,
      "outputs": [
        {
          "output_type": "stream",
          "name": "stdout",
          "text": [
            "Precision score is: 0.5706507824403878\n",
            "Recall score is: 0.6175184906213058\n",
            "F1 score is: 0.5728541664622285\n",
            "[[203  35  19  33]\n",
            " [ 28 131  14  17]\n",
            " [  6   7  65   8]\n",
            " [ 60  39  59  76]]\n"
          ]
        }
      ]
    },
    {
      "cell_type": "code",
      "metadata": {
        "id": "Qcrs0MRIuwqD"
      },
      "source": [
        "def plot_confusion_matrix(cm,\n",
        "                          target_names,\n",
        "                          title='Confusion matrix',\n",
        "                          cmap=None,\n",
        "                          normalize=True):\n",
        "    \"\"\"\n",
        "    given a sklearn confusion matrix (cm), make a nice plot\n",
        "\n",
        "    Arguments\n",
        "    ---------\n",
        "    cm:           confusion matrix from sklearn.metrics.confusion_matrix\n",
        "\n",
        "    target_names: given classification classes such as [0, 1, 2]\n",
        "                  the class names, for example: ['high', 'medium', 'low']\n",
        "\n",
        "    title:        the text to display at the top of the matrix\n",
        "\n",
        "    cmap:         the gradient of the values displayed from matplotlib.pyplot.cm\n",
        "                  see http://matplotlib.org/examples/color/colormaps_reference.html\n",
        "                  plt.get_cmap('jet') or plt.cm.Blues\n",
        "\n",
        "    normalize:    If False, plot the raw numbers\n",
        "                  If True, plot the proportions\n",
        "\n",
        "    Usage\n",
        "    -----\n",
        "    plot_confusion_matrix(cm           = cm,                  # confusion matrix created by\n",
        "                                                              # sklearn.metrics.confusion_matrix\n",
        "                          normalize    = True,                # show proportions\n",
        "                          target_names = y_labels_vals,       # list of names of the classes\n",
        "                          title        = best_estimator_name) # title of graph\n",
        "\n",
        "    Citiation\n",
        "    ---------\n",
        "    http://scikit-learn.org/stable/auto_examples/model_selection/plot_confusion_matrix.html\n",
        "\n",
        "    \"\"\"\n",
        "    import matplotlib.pyplot as plt\n",
        "    import numpy as np\n",
        "    import itertools\n",
        "\n",
        "    accuracy = np.trace(cm) / float(np.sum(cm))\n",
        "    misclass = 1 - accuracy\n",
        "\n",
        "    if cmap is None:\n",
        "        cmap = plt.get_cmap('Blues')\n",
        "\n",
        "    plt.figure(figsize=(8, 6))\n",
        "    plt.imshow(cm, interpolation='nearest', cmap=cmap)\n",
        "    plt.title(title)\n",
        "    plt.colorbar()\n",
        "\n",
        "    if target_names is not None:\n",
        "        tick_marks = np.arange(len(target_names))\n",
        "        plt.xticks(tick_marks, target_names, rotation=45)\n",
        "        plt.yticks(tick_marks, target_names)\n",
        "\n",
        "    if normalize:\n",
        "        cm = cm.astype('float') / cm.sum(axis=1)[:, np.newaxis]\n",
        "\n",
        "\n",
        "    thresh = cm.max() / 1.5 if normalize else cm.max() / 2\n",
        "    for i, j in itertools.product(range(cm.shape[0]), range(cm.shape[1])):\n",
        "        if normalize:\n",
        "            plt.text(j, i, \"{:0.4f}\".format(cm[i, j]),\n",
        "                     horizontalalignment=\"center\",\n",
        "                     color=\"white\" if cm[i, j] > thresh else \"black\")\n",
        "        else:\n",
        "            plt.text(j, i, \"{:,}\".format(cm[i, j]),\n",
        "                     horizontalalignment=\"center\",\n",
        "                     color=\"white\" if cm[i, j] > thresh else \"black\")\n",
        "\n",
        "\n",
        "    plt.tight_layout()\n",
        "    plt.ylabel('True label')\n",
        "    plt.xlabel('Predicted label\\naccuracy={:0.4f}; misclass={:0.4f}'.format(accuracy, misclass))\n",
        "    plt.show()\n",
        "    "
      ],
      "execution_count": 58,
      "outputs": []
    },
    {
      "cell_type": "code",
      "metadata": {
        "colab": {
          "base_uri": "https://localhost:8080/",
          "height": 484
        },
        "id": "uulg5woFu3C1",
        "outputId": "26294108-f039-4f82-b030-6ec9341b9aae"
      },
      "source": [
        "plot_confusion_matrix(cm, ['Arts', 'Games', 'Vehicles', 'Other'], title='VGG16 Confusion Matrix')"
      ],
      "execution_count": 57,
      "outputs": [
        {
          "output_type": "display_data",
          "data": {
            "image/png": "[encoded data removed]",
            "text/plain": [
              "<Figure size 576x432 with 2 Axes>"
            ]
          },
          "metadata": {
            "needs_background": "light"
          }
        },
        {
          "output_type": "display_data",
          "data": {
            "text/plain": [
              "<Figure size 432x288 with 0 Axes>"
            ]
          },
          "metadata": {}
        }
      ]
    }
  ]
}