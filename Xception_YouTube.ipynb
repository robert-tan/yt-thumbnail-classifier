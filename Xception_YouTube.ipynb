{
  "nbformat": 4,
  "nbformat_minor": 0,
  "metadata": {
    "accelerator": "GPU",
    "colab": {
      "name": "Xception-YouTube.ipynb",
      "provenance": [],
      "collapsed_sections": [],
      "machine_shape": "hm"
    },
    "kernelspec": {
      "display_name": "Python 3",
      "name": "python3"
    },
    "language_info": {
      "name": "python"
    }
  },
  "cells": [
    {
      "cell_type": "code",
      "metadata": {
        "id": "FxyolSLvOcOu",
        "colab": {
          "base_uri": "https://localhost:8080/"
        },
        "outputId": "14322ae0-ab2e-43c1-bd13-cbc4b38a31a2"
      },
      "source": [
        "!wget https://cs230-project.s3.us-east-2.amazonaws.com/train0000_processed.tfrecord\n",
        "!wget https://cs230-project.s3.us-east-2.amazonaws.com/train0002_processed.tfrecord\n",
        "!wget https://cs230-project.s3.us-east-2.amazonaws.com/train0014_processed.tfrecord\n",
        "!wget https://cs230-project.s3.us-east-2.amazonaws.com/train0017_processed.tfrecord\n",
        "!wget https://cs230-project.s3.us-east-2.amazonaws.com/train0031_processed.tfrecord\n",
        "\n",
        "!wget https://cs230-project.s3.us-east-2.amazonaws.com/train0036_processed.tfrecord\n",
        "!wget https://cs230-project.s3.us-east-2.amazonaws.com/train0043_processed.tfrecord\n",
        "!wget https://cs230-project.s3.us-east-2.amazonaws.com/train0046_processed.tfrecord\n",
        "!wget https://cs230-project.s3.us-east-2.amazonaws.com/train0057_processed.tfrecord\n",
        "!wget https://cs230-project.s3.us-east-2.amazonaws.com/train0060_processed.tfrecord\n",
        "\n",
        "!wget https://cs230-project.s3.us-east-2.amazonaws.com/train0067_processed.tfrecord\n",
        "!wget https://cs230-project.s3.us-east-2.amazonaws.com/train0086_processed.tfrecord\n",
        "!wget https://cs230-project.s3.us-east-2.amazonaws.com/train0090_processed.tfrecord\n",
        "!wget https://cs230-project.s3.us-east-2.amazonaws.com/train0091_processed.tfrecord\n",
        "!wget https://cs230-project.s3.us-east-2.amazonaws.com/train0111_processed.tfrecord\n",
        "\n",
        "!wget https://cs230-project.s3.us-east-2.amazonaws.com/train0112_processed.tfrecord\n",
        "!wget https://cs230-project.s3.us-east-2.amazonaws.com/train0123_processed.tfrecord\n",
        "!wget https://cs230-project.s3.us-east-2.amazonaws.com/train0130_processed.tfrecord\n",
        "!wget https://cs230-project.s3.us-east-2.amazonaws.com/train0131_processed.tfrecord\n",
        "!wget https://cs230-project.s3.us-east-2.amazonaws.com/train0133_processed.tfrecord"
      ],
      "execution_count": 1,
      "outputs": [
        {
          "output_type": "stream",
          "name": "stdout",
          "text": [
            "--2021-12-02 20:55:10--  https://cs230-project.s3.us-east-2.amazonaws.com/train0000_processed.tfrecord\n",
            "Resolving cs230-project.s3.us-east-2.amazonaws.com (cs230-project.s3.us-east-2.amazonaws.com)... 52.219.84.120\n",
            "Connecting to cs230-project.s3.us-east-2.amazonaws.com (cs230-project.s3.us-east-2.amazonaws.com)|52.219.84.120|:443... connected.\n",
            "HTTP request sent, awaiting response... 200 OK\n",
            "Length: 472111688 (450M) [binary/octet-stream]\n",
            "Saving to: ‘train0000_processed.tfrecord’\n",
            "\n",
            "train0000_processed 100%[===================>] 450.24M  55.5MB/s    in 8.2s    \n",
            "\n",
            "2021-12-02 20:55:19 (54.7 MB/s) - ‘train0000_processed.tfrecord’ saved [472111688/472111688]\n",
            "\n",
            "--2021-12-02 20:55:19--  https://cs230-project.s3.us-east-2.amazonaws.com/train0002_processed.tfrecord\n",
            "Resolving cs230-project.s3.us-east-2.amazonaws.com (cs230-project.s3.us-east-2.amazonaws.com)... 52.219.106.50\n",
            "Connecting to cs230-project.s3.us-east-2.amazonaws.com (cs230-project.s3.us-east-2.amazonaws.com)|52.219.106.50|:443... connected.\n",
            "HTTP request sent, awaiting response... 200 OK\n",
            "Length: 460326179 (439M) [binary/octet-stream]\n",
            "Saving to: ‘train0002_processed.tfrecord’\n",
            "\n",
            "train0002_processed 100%[===================>] 439.00M  66.7MB/s    in 6.7s    \n",
            "\n",
            "2021-12-02 20:55:26 (65.6 MB/s) - ‘train0002_processed.tfrecord’ saved [460326179/460326179]\n",
            "\n",
            "--2021-12-02 20:55:26--  https://cs230-project.s3.us-east-2.amazonaws.com/train0014_processed.tfrecord\n",
            "Resolving cs230-project.s3.us-east-2.amazonaws.com (cs230-project.s3.us-east-2.amazonaws.com)... 52.219.99.58\n",
            "Connecting to cs230-project.s3.us-east-2.amazonaws.com (cs230-project.s3.us-east-2.amazonaws.com)|52.219.99.58|:443... connected.\n",
            "HTTP request sent, awaiting response... 200 OK\n",
            "Length: 463947527 (442M) [binary/octet-stream]\n",
            "Saving to: ‘train0014_processed.tfrecord’\n",
            "\n",
            "train0014_processed 100%[===================>] 442.45M  76.7MB/s    in 5.9s    \n",
            "\n",
            "2021-12-02 20:55:32 (75.3 MB/s) - ‘train0014_processed.tfrecord’ saved [463947527/463947527]\n",
            "\n",
            "--2021-12-02 20:55:32--  https://cs230-project.s3.us-east-2.amazonaws.com/train0017_processed.tfrecord\n",
            "Resolving cs230-project.s3.us-east-2.amazonaws.com (cs230-project.s3.us-east-2.amazonaws.com)... 52.219.100.24\n",
            "Connecting to cs230-project.s3.us-east-2.amazonaws.com (cs230-project.s3.us-east-2.amazonaws.com)|52.219.100.24|:443... connected.\n",
            "HTTP request sent, awaiting response... 200 OK\n",
            "Length: 487374643 (465M) [binary/octet-stream]\n",
            "Saving to: ‘train0017_processed.tfrecord’\n",
            "\n",
            "train0017_processed 100%[===================>] 464.80M  41.7MB/s    in 55s     \n",
            "\n",
            "2021-12-02 20:56:27 (8.51 MB/s) - ‘train0017_processed.tfrecord’ saved [487374643/487374643]\n",
            "\n",
            "--2021-12-02 20:56:27--  https://cs230-project.s3.us-east-2.amazonaws.com/train0031_processed.tfrecord\n",
            "Resolving cs230-project.s3.us-east-2.amazonaws.com (cs230-project.s3.us-east-2.amazonaws.com)... 52.219.100.112\n",
            "Connecting to cs230-project.s3.us-east-2.amazonaws.com (cs230-project.s3.us-east-2.amazonaws.com)|52.219.100.112|:443... connected.\n",
            "HTTP request sent, awaiting response... 200 OK\n",
            "Length: 455323195 (434M) [binary/octet-stream]\n",
            "Saving to: ‘train0031_processed.tfrecord’\n",
            "\n",
            "train0031_processed 100%[===================>] 434.23M  67.6MB/s    in 6.4s    \n",
            "\n",
            "2021-12-02 20:56:34 (67.6 MB/s) - ‘train0031_processed.tfrecord’ saved [455323195/455323195]\n",
            "\n",
            "--2021-12-02 20:56:34--  https://cs230-project.s3.us-east-2.amazonaws.com/train0036_processed.tfrecord\n",
            "Resolving cs230-project.s3.us-east-2.amazonaws.com (cs230-project.s3.us-east-2.amazonaws.com)... 52.219.107.18\n",
            "Connecting to cs230-project.s3.us-east-2.amazonaws.com (cs230-project.s3.us-east-2.amazonaws.com)|52.219.107.18|:443... connected.\n",
            "HTTP request sent, awaiting response... 200 OK\n",
            "Length: 464264004 (443M) [binary/octet-stream]\n",
            "Saving to: ‘train0036_processed.tfrecord’\n",
            "\n",
            "train0036_processed 100%[===================>] 442.76M  41.6MB/s    in 38s     \n",
            "\n",
            "2021-12-02 20:57:12 (11.6 MB/s) - ‘train0036_processed.tfrecord’ saved [464264004/464264004]\n",
            "\n",
            "--2021-12-02 20:57:12--  https://cs230-project.s3.us-east-2.amazonaws.com/train0043_processed.tfrecord\n",
            "Resolving cs230-project.s3.us-east-2.amazonaws.com (cs230-project.s3.us-east-2.amazonaws.com)... 52.219.97.186\n",
            "Connecting to cs230-project.s3.us-east-2.amazonaws.com (cs230-project.s3.us-east-2.amazonaws.com)|52.219.97.186|:443... connected.\n",
            "HTTP request sent, awaiting response... 200 OK\n",
            "Length: 463616317 (442M) [binary/octet-stream]\n",
            "Saving to: ‘train0043_processed.tfrecord’\n",
            "\n",
            "train0043_processed 100%[===================>] 442.14M  41.3MB/s    in 9.2s    \n",
            "\n",
            "2021-12-02 20:57:22 (47.8 MB/s) - ‘train0043_processed.tfrecord’ saved [463616317/463616317]\n",
            "\n",
            "--2021-12-02 20:57:22--  https://cs230-project.s3.us-east-2.amazonaws.com/train0046_processed.tfrecord\n",
            "Resolving cs230-project.s3.us-east-2.amazonaws.com (cs230-project.s3.us-east-2.amazonaws.com)... 52.219.142.18\n",
            "Connecting to cs230-project.s3.us-east-2.amazonaws.com (cs230-project.s3.us-east-2.amazonaws.com)|52.219.142.18|:443... connected.\n",
            "HTTP request sent, awaiting response... 200 OK\n",
            "Length: 454072783 (433M) [binary/octet-stream]\n",
            "Saving to: ‘train0046_processed.tfrecord’\n",
            "\n",
            "train0046_processed 100%[===================>] 433.04M  74.0MB/s    in 5.8s    \n",
            "\n",
            "2021-12-02 20:57:28 (74.4 MB/s) - ‘train0046_processed.tfrecord’ saved [454072783/454072783]\n",
            "\n",
            "--2021-12-02 20:57:28--  https://cs230-project.s3.us-east-2.amazonaws.com/train0057_processed.tfrecord\n",
            "Resolving cs230-project.s3.us-east-2.amazonaws.com (cs230-project.s3.us-east-2.amazonaws.com)... 52.219.142.82\n",
            "Connecting to cs230-project.s3.us-east-2.amazonaws.com (cs230-project.s3.us-east-2.amazonaws.com)|52.219.142.82|:443... connected.\n",
            "HTTP request sent, awaiting response... 200 OK\n",
            "Length: 477494234 (455M) [binary/octet-stream]\n",
            "Saving to: ‘train0057_processed.tfrecord’\n",
            "\n",
            "train0057_processed 100%[===================>] 455.37M  80.1MB/s    in 5.8s    \n",
            "\n",
            "2021-12-02 20:57:34 (79.2 MB/s) - ‘train0057_processed.tfrecord’ saved [477494234/477494234]\n",
            "\n",
            "--2021-12-02 20:57:34--  https://cs230-project.s3.us-east-2.amazonaws.com/train0060_processed.tfrecord\n",
            "Resolving cs230-project.s3.us-east-2.amazonaws.com (cs230-project.s3.us-east-2.amazonaws.com)... 52.219.102.138\n",
            "Connecting to cs230-project.s3.us-east-2.amazonaws.com (cs230-project.s3.us-east-2.amazonaws.com)|52.219.102.138|:443... connected.\n",
            "HTTP request sent, awaiting response... 200 OK\n",
            "Length: 476083426 (454M) [binary/octet-stream]\n",
            "Saving to: ‘train0060_processed.tfrecord’\n",
            "\n",
            "train0060_processed 100%[===================>] 454.03M  79.6MB/s    in 6.3s    \n",
            "\n",
            "2021-12-02 20:57:41 (72.1 MB/s) - ‘train0060_processed.tfrecord’ saved [476083426/476083426]\n",
            "\n",
            "--2021-12-02 20:57:41--  https://cs230-project.s3.us-east-2.amazonaws.com/train0067_processed.tfrecord\n",
            "Resolving cs230-project.s3.us-east-2.amazonaws.com (cs230-project.s3.us-east-2.amazonaws.com)... 52.219.97.50\n",
            "Connecting to cs230-project.s3.us-east-2.amazonaws.com (cs230-project.s3.us-east-2.amazonaws.com)|52.219.97.50|:443... connected.\n",
            "HTTP request sent, awaiting response... 200 OK\n",
            "Length: 453220925 (432M) [binary/octet-stream]\n",
            "Saving to: ‘train0067_processed.tfrecord’\n",
            "\n",
            "train0067_processed 100%[===================>] 432.22M  68.0MB/s    in 6.1s    \n",
            "\n",
            "2021-12-02 20:57:47 (70.9 MB/s) - ‘train0067_processed.tfrecord’ saved [453220925/453220925]\n",
            "\n",
            "--2021-12-02 20:57:47--  https://cs230-project.s3.us-east-2.amazonaws.com/train0086_processed.tfrecord\n",
            "Resolving cs230-project.s3.us-east-2.amazonaws.com (cs230-project.s3.us-east-2.amazonaws.com)... 52.219.101.82\n",
            "Connecting to cs230-project.s3.us-east-2.amazonaws.com (cs230-project.s3.us-east-2.amazonaws.com)|52.219.101.82|:443... connected.\n",
            "HTTP request sent, awaiting response... 200 OK\n",
            "Length: 445089055 (424M) [binary/octet-stream]\n",
            "Saving to: ‘train0086_processed.tfrecord’\n",
            "\n",
            "train0086_processed 100%[===================>] 424.47M  75.7MB/s    in 5.9s    \n",
            "\n",
            "2021-12-02 20:57:53 (72.3 MB/s) - ‘train0086_processed.tfrecord’ saved [445089055/445089055]\n",
            "\n",
            "--2021-12-02 20:57:53--  https://cs230-project.s3.us-east-2.amazonaws.com/train0090_processed.tfrecord\n",
            "Resolving cs230-project.s3.us-east-2.amazonaws.com (cs230-project.s3.us-east-2.amazonaws.com)... 52.219.98.42\n",
            "Connecting to cs230-project.s3.us-east-2.amazonaws.com (cs230-project.s3.us-east-2.amazonaws.com)|52.219.98.42|:443... connected.\n",
            "HTTP request sent, awaiting response... 200 OK\n",
            "Length: 461808314 (440M) [binary/octet-stream]\n",
            "Saving to: ‘train0090_processed.tfrecord’\n",
            "\n",
            "train0090_processed 100%[===================>] 440.41M  67.6MB/s    in 6.6s    \n",
            "\n",
            "2021-12-02 20:58:00 (66.6 MB/s) - ‘train0090_processed.tfrecord’ saved [461808314/461808314]\n",
            "\n",
            "--2021-12-02 20:58:00--  https://cs230-project.s3.us-east-2.amazonaws.com/train0091_processed.tfrecord\n",
            "Resolving cs230-project.s3.us-east-2.amazonaws.com (cs230-project.s3.us-east-2.amazonaws.com)... 52.219.80.152\n",
            "Connecting to cs230-project.s3.us-east-2.amazonaws.com (cs230-project.s3.us-east-2.amazonaws.com)|52.219.80.152|:443... connected.\n",
            "HTTP request sent, awaiting response... 200 OK\n",
            "Length: 485299275 (463M) [binary/octet-stream]\n",
            "Saving to: ‘train0091_processed.tfrecord’\n",
            "\n",
            "train0091_processed 100%[===================>] 462.82M  65.4MB/s    in 7.3s    \n",
            "\n",
            "2021-12-02 20:58:08 (63.1 MB/s) - ‘train0091_processed.tfrecord’ saved [485299275/485299275]\n",
            "\n",
            "--2021-12-02 20:58:08--  https://cs230-project.s3.us-east-2.amazonaws.com/train0111_processed.tfrecord\n",
            "Resolving cs230-project.s3.us-east-2.amazonaws.com (cs230-project.s3.us-east-2.amazonaws.com)... 52.219.102.218\n",
            "Connecting to cs230-project.s3.us-east-2.amazonaws.com (cs230-project.s3.us-east-2.amazonaws.com)|52.219.102.218|:443... connected.\n",
            "HTTP request sent, awaiting response... 200 OK\n",
            "Length: 470812041 (449M) [binary/octet-stream]\n",
            "Saving to: ‘train0111_processed.tfrecord’\n",
            "\n",
            "train0111_processed 100%[===================>] 449.00M  21.5MB/s    in 54s     \n",
            "\n",
            "2021-12-02 20:59:02 (8.38 MB/s) - ‘train0111_processed.tfrecord’ saved [470812041/470812041]\n",
            "\n",
            "--2021-12-02 20:59:02--  https://cs230-project.s3.us-east-2.amazonaws.com/train0112_processed.tfrecord\n",
            "Resolving cs230-project.s3.us-east-2.amazonaws.com (cs230-project.s3.us-east-2.amazonaws.com)... 52.219.100.0\n",
            "Connecting to cs230-project.s3.us-east-2.amazonaws.com (cs230-project.s3.us-east-2.amazonaws.com)|52.219.100.0|:443... connected.\n",
            "HTTP request sent, awaiting response... 200 OK\n",
            "Length: 460221001 (439M) [binary/octet-stream]\n",
            "Saving to: ‘train0112_processed.tfrecord’\n",
            "\n",
            "train0112_processed 100%[===================>] 438.90M  56.0MB/s    in 7.4s    \n",
            "\n",
            "2021-12-02 20:59:10 (59.4 MB/s) - ‘train0112_processed.tfrecord’ saved [460221001/460221001]\n",
            "\n",
            "--2021-12-02 20:59:10--  https://cs230-project.s3.us-east-2.amazonaws.com/train0123_processed.tfrecord\n",
            "Resolving cs230-project.s3.us-east-2.amazonaws.com (cs230-project.s3.us-east-2.amazonaws.com)... 52.219.98.218\n",
            "Connecting to cs230-project.s3.us-east-2.amazonaws.com (cs230-project.s3.us-east-2.amazonaws.com)|52.219.98.218|:443... connected.\n",
            "HTTP request sent, awaiting response... 200 OK\n",
            "Length: 463098713 (442M) [binary/octet-stream]\n",
            "Saving to: ‘train0123_processed.tfrecord’\n",
            "\n",
            "train0123_processed 100%[===================>] 441.64M  75.0MB/s    in 5.8s    \n",
            "\n",
            "2021-12-02 20:59:16 (75.6 MB/s) - ‘train0123_processed.tfrecord’ saved [463098713/463098713]\n",
            "\n",
            "--2021-12-02 20:59:16--  https://cs230-project.s3.us-east-2.amazonaws.com/train0130_processed.tfrecord\n",
            "Resolving cs230-project.s3.us-east-2.amazonaws.com (cs230-project.s3.us-east-2.amazonaws.com)... 52.219.103.34\n",
            "Connecting to cs230-project.s3.us-east-2.amazonaws.com (cs230-project.s3.us-east-2.amazonaws.com)|52.219.103.34|:443... connected.\n",
            "HTTP request sent, awaiting response... 200 OK\n",
            "Length: 450537845 (430M) [binary/octet-stream]\n",
            "Saving to: ‘train0130_processed.tfrecord’\n",
            "\n",
            "train0130_processed 100%[===================>] 429.67M  5.41MB/s    in 65s     \n",
            "\n",
            "2021-12-02 21:00:21 (6.59 MB/s) - ‘train0130_processed.tfrecord’ saved [450537845/450537845]\n",
            "\n",
            "--2021-12-02 21:00:21--  https://cs230-project.s3.us-east-2.amazonaws.com/train0131_processed.tfrecord\n",
            "Resolving cs230-project.s3.us-east-2.amazonaws.com (cs230-project.s3.us-east-2.amazonaws.com)... 52.219.80.192\n",
            "Connecting to cs230-project.s3.us-east-2.amazonaws.com (cs230-project.s3.us-east-2.amazonaws.com)|52.219.80.192|:443... connected.\n",
            "HTTP request sent, awaiting response... 200 OK\n",
            "Length: 484962325 (462M) [binary/octet-stream]\n",
            "Saving to: ‘train0131_processed.tfrecord’\n",
            "\n",
            "train0131_processed 100%[===================>] 462.50M  63.3MB/s    in 7.3s    \n",
            "\n",
            "2021-12-02 21:00:29 (63.4 MB/s) - ‘train0131_processed.tfrecord’ saved [484962325/484962325]\n",
            "\n",
            "--2021-12-02 21:00:29--  https://cs230-project.s3.us-east-2.amazonaws.com/train0133_processed.tfrecord\n",
            "Resolving cs230-project.s3.us-east-2.amazonaws.com (cs230-project.s3.us-east-2.amazonaws.com)... 52.219.102.138\n",
            "Connecting to cs230-project.s3.us-east-2.amazonaws.com (cs230-project.s3.us-east-2.amazonaws.com)|52.219.102.138|:443... connected.\n",
            "HTTP request sent, awaiting response... 200 OK\n",
            "Length: 472976475 (451M) [binary/octet-stream]\n",
            "Saving to: ‘train0133_processed.tfrecord’\n",
            "\n",
            "train0133_processed 100%[===================>] 451.07M  71.0MB/s    in 7.0s    \n",
            "\n",
            "2021-12-02 21:00:36 (64.6 MB/s) - ‘train0133_processed.tfrecord’ saved [472976475/472976475]\n",
            "\n"
          ]
        }
      ]
    },
    {
      "cell_type": "code",
      "metadata": {
        "id": "RJJR_VWQ0cw0"
      },
      "source": [
        "import tensorflow as tf\n",
        "from tensorflow.keras.layers import Input, Conv2D\n",
        "from tensorflow.keras.layers import MaxPool2D, Flatten, Dense, Dropout\n",
        "from tensorflow.keras import Model\n",
        "from tensorflow.keras.optimizers import Adam, SGD, RMSprop\n",
        "from tensorflow.keras.utils import to_categorical\n",
        "from tensorflow.keras.callbacks import EarlyStopping, ModelCheckpoint\n",
        "import cv2\n",
        "import matplotlib.pyplot as plt\n",
        "import numpy as np\n",
        "import os"
      ],
      "execution_count": 2,
      "outputs": []
    },
    {
      "cell_type": "code",
      "metadata": {
        "id": "6Vl_NHxAPJ3v"
      },
      "source": [
        "files = ['0000', '0002', '0014', '0017', '0031', \n",
        "         '0036', '0043', '0046', '0057', '0060', \n",
        "         '0067', '0086', '0090', '0091', '0111', \n",
        "         '0112', '0123', '0130', '0131', '0133']"
      ],
      "execution_count": 3,
      "outputs": []
    },
    {
      "cell_type": "code",
      "metadata": {
        "id": "CzsLz5Vx0nah"
      },
      "source": [
        "def read_dataset(file_path):\n",
        "    dataset = tf.data.TFRecordDataset(file_path)\n",
        "\n",
        "    def read_tfrecord(serialized_example):\n",
        "        feature_description = {\n",
        "            'thumbnail': tf.io.VarLenFeature(tf.string),\n",
        "            'n_W': tf.io.FixedLenFeature((), tf.int64),\n",
        "            'n_H': tf.io.FixedLenFeature((), tf.int64),\n",
        "            'n_C': tf.io.FixedLenFeature((), tf.int64),\n",
        "            'labels': tf.io.VarLenFeature(tf.int64),\n",
        "        }\n",
        "        example = tf.io.parse_single_example(serialized_example, feature_description)\n",
        "        return example\n",
        "\n",
        "    parsed_dataset = dataset.map(read_tfrecord)\n",
        "    return parsed_dataset\n",
        "\n",
        "\n",
        "def labeled_dataset(parsed_dataset):\n",
        "    labeled_data_sets = []\n",
        "\n",
        "    for example in parsed_dataset:\n",
        "        thumbnail_bytes = example[\"thumbnail\"].values[0].numpy()\n",
        "        n_W = example[\"n_W\"].numpy()\n",
        "        n_C = example[\"n_C\"].numpy()\n",
        "        n_H = example[\"n_H\"].numpy()\n",
        "\n",
        "        thumbnail_arr = np.frombuffer(thumbnail_bytes, dtype=np.uint8).reshape((n_W, n_H, n_C))\n",
        "        labels = example[\"labels\"].values[0].numpy() \n",
        "\n",
        "        labeled_dataset = [thumbnail_arr, labels]\n",
        "        labeled_data_sets.append(labeled_dataset)\n",
        "    return labeled_data_sets"
      ],
      "execution_count": 4,
      "outputs": []
    },
    {
      "cell_type": "code",
      "metadata": {
        "id": "z3FPCXn00pxg"
      },
      "source": [
        "x = []\n",
        "y = []\n",
        "counter = [0] * 4\n",
        "for number in files:\n",
        "  parsed_dataset = read_dataset('/content/train' + number + '_processed.tfrecord') # ACTION NEEDED: .tfrecord file_path needs to be specified\n",
        "  labeled_data_sets = labeled_dataset(parsed_dataset)\n",
        "  for data in labeled_data_sets:\n",
        "    if data[1] == 12:\n",
        "      val = 0\n",
        "    elif data[1] == 11:\n",
        "      val = 1\n",
        "    elif data[1] == 17:\n",
        "      val = 2\n",
        "    else:\n",
        "      val = 3\n",
        "    if counter[val] < 1000:\n",
        "      resized_image = cv2.resize(data[0], (224, 224)) / 255.0\n",
        "      x.append(resized_image)\n",
        "      y.append(val)\n",
        "      counter[val] += 1\n",
        "  if counter[0] == counter[1] == counter[2] == counter[3] == 500:\n",
        "    break"
      ],
      "execution_count": 5,
      "outputs": []
    },
    {
      "cell_type": "code",
      "metadata": {
        "id": "q_i07vs7Ih9S"
      },
      "source": [
        "new_y = np.array(y).T\n",
        "new_x = np.array(x)"
      ],
      "execution_count": 6,
      "outputs": []
    },
    {
      "cell_type": "code",
      "metadata": {
        "id": "xl4fJ1zq0rgU",
        "colab": {
          "base_uri": "https://localhost:8080/"
        },
        "outputId": "e202f40c-0569-4010-d8eb-771310e87b52"
      },
      "source": [
        "from sklearn.model_selection import train_test_split\n",
        "X_train, X_test, y_train, y_test = train_test_split(new_x, new_y, test_size=0.2, random_state=42)\n",
        "y_train = to_categorical(y_train, 4)\n",
        "y_test = to_categorical(y_test, 4)\n",
        "print(X_train.shape)\n",
        "print(y_train.shape)\n",
        "print(X_test.shape)\n",
        "print(y_test.shape)"
      ],
      "execution_count": 7,
      "outputs": [
        {
          "output_type": "stream",
          "name": "stdout",
          "text": [
            "(3200, 224, 224, 3)\n",
            "(3200, 4)\n",
            "(800, 224, 224, 3)\n",
            "(800, 4)\n"
          ]
        }
      ]
    },
    {
      "cell_type": "code",
      "metadata": {
        "id": "-vL1QixKUJ1O",
        "colab": {
          "base_uri": "https://localhost:8080/"
        },
        "outputId": "78e69685-d8fe-4f92-8778-9f18540cccda"
      },
      "source": [
        "from tensorflow.keras.applications import Xception\n",
        "base_model = Xception(input_shape = (224, 224, 3), include_top = False, weights = 'imagenet')\n",
        "base_model.trainable = False"
      ],
      "execution_count": 8,
      "outputs": [
        {
          "output_type": "stream",
          "name": "stdout",
          "text": [
            "Downloading data from https://storage.googleapis.com/tensorflow/keras-applications/xception/xception_weights_tf_dim_ordering_tf_kernels_notop.h5\n",
            "83689472/83683744 [==============================] - 1s 0us/step\n",
            "83697664/83683744 [==============================] - 1s 0us/step\n"
          ]
        }
      ]
    },
    {
      "cell_type": "code",
      "metadata": {
        "id": "4nMKn8QxVPJk"
      },
      "source": [
        "x = Flatten()(base_model.output)\n",
        "x = Dense(1024, activation=\"relu\")(x)\n",
        "x = Dropout(0.2)(x)\n",
        "x = Dense(4, activation=\"softmax\")(x)\n",
        "model = tf.keras.models.Model(base_model.input, x)\n",
        "model.compile(optimizer=Adam(learning_rate=0.00001),\n",
        "    loss='categorical_crossentropy',\n",
        "    metrics=['accuracy']\n",
        ")"
      ],
      "execution_count": 9,
      "outputs": []
    },
    {
      "cell_type": "code",
      "metadata": {
        "id": "kd5w16zgViPZ",
        "colab": {
          "base_uri": "https://localhost:8080/"
        },
        "outputId": "bb2f376a-0ace-4a57-dafb-75c9bb47ed09"
      },
      "source": [
        "checkpoint = ModelCheckpoint(\"xception.h5\", monitor='val_accuracy', verbose=1, save_best_only=True, save_weights_only=False, mode='auto', period=1)\n",
        "early = EarlyStopping(monitor='val_accuracy', min_delta=0, patience=20, verbose=1, mode='auto')\n",
        "hist = model.fit(X_train, y_train, validation_data=(X_test, y_test), epochs=100, batch_size=32, callbacks=[checkpoint, early])"
      ],
      "execution_count": 10,
      "outputs": [
        {
          "output_type": "stream",
          "name": "stdout",
          "text": [
            "WARNING:tensorflow:`period` argument is deprecated. Please use `save_freq` to specify the frequency in number of batches seen.\n",
            "Epoch 1/100\n",
            "100/100 [==============================] - ETA: 0s - loss: 0.9681 - accuracy: 0.6206\n",
            "Epoch 00001: val_accuracy improved from -inf to 0.59500, saving model to xception.h5\n"
          ]
        },
        {
          "output_type": "stream",
          "name": "stderr",
          "text": [
            "/usr/local/lib/python3.7/dist-packages/keras/engine/functional.py:1410: CustomMaskWarning: Custom mask layers require a config and must override get_config. When loading, the custom mask layer must be passed to the custom_objects argument.\n",
            "  layer_config = serialize_layer_fn(layer)\n"
          ]
        },
        {
          "output_type": "stream",
          "name": "stdout",
          "text": [
            "100/100 [==============================] - 28s 169ms/step - loss: 0.9681 - accuracy: 0.6206 - val_loss: 1.0092 - val_accuracy: 0.5950\n",
            "Epoch 2/100\n",
            "100/100 [==============================] - ETA: 0s - loss: 0.4808 - accuracy: 0.8309\n",
            "Epoch 00002: val_accuracy improved from 0.59500 to 0.65750, saving model to xception.h5\n",
            "100/100 [==============================] - 16s 158ms/step - loss: 0.4808 - accuracy: 0.8309 - val_loss: 0.9144 - val_accuracy: 0.6575\n",
            "Epoch 3/100\n",
            "100/100 [==============================] - ETA: 0s - loss: 0.2763 - accuracy: 0.9250\n",
            "Epoch 00003: val_accuracy did not improve from 0.65750\n",
            "100/100 [==============================] - 11s 108ms/step - loss: 0.2763 - accuracy: 0.9250 - val_loss: 0.9175 - val_accuracy: 0.6413\n",
            "Epoch 4/100\n",
            "100/100 [==============================] - ETA: 0s - loss: 0.1641 - accuracy: 0.9737\n",
            "Epoch 00004: val_accuracy did not improve from 0.65750\n",
            "100/100 [==============================] - 11s 108ms/step - loss: 0.1641 - accuracy: 0.9737 - val_loss: 0.9728 - val_accuracy: 0.6463\n",
            "Epoch 5/100\n",
            "100/100 [==============================] - ETA: 0s - loss: 0.0972 - accuracy: 0.9928\n",
            "Epoch 00005: val_accuracy did not improve from 0.65750\n",
            "100/100 [==============================] - 11s 107ms/step - loss: 0.0972 - accuracy: 0.9928 - val_loss: 0.9695 - val_accuracy: 0.6575\n",
            "Epoch 6/100\n",
            "100/100 [==============================] - ETA: 0s - loss: 0.0618 - accuracy: 0.9991\n",
            "Epoch 00006: val_accuracy improved from 0.65750 to 0.66500, saving model to xception.h5\n",
            "100/100 [==============================] - 16s 165ms/step - loss: 0.0618 - accuracy: 0.9991 - val_loss: 0.9834 - val_accuracy: 0.6650\n",
            "Epoch 7/100\n",
            "100/100 [==============================] - ETA: 0s - loss: 0.0448 - accuracy: 0.9981\n",
            "Epoch 00007: val_accuracy improved from 0.66500 to 0.67375, saving model to xception.h5\n",
            "100/100 [==============================] - 16s 160ms/step - loss: 0.0448 - accuracy: 0.9981 - val_loss: 1.0064 - val_accuracy: 0.6737\n",
            "Epoch 8/100\n",
            "100/100 [==============================] - ETA: 0s - loss: 0.0313 - accuracy: 1.0000\n",
            "Epoch 00008: val_accuracy did not improve from 0.67375\n",
            "100/100 [==============================] - 11s 108ms/step - loss: 0.0313 - accuracy: 1.0000 - val_loss: 1.0374 - val_accuracy: 0.6625\n",
            "Epoch 9/100\n",
            "100/100 [==============================] - ETA: 0s - loss: 0.0251 - accuracy: 1.0000\n",
            "Epoch 00009: val_accuracy did not improve from 0.67375\n",
            "100/100 [==============================] - 11s 108ms/step - loss: 0.0251 - accuracy: 1.0000 - val_loss: 1.0458 - val_accuracy: 0.6712\n",
            "Epoch 10/100\n",
            "100/100 [==============================] - ETA: 0s - loss: 0.0199 - accuracy: 1.0000\n",
            "Epoch 00010: val_accuracy did not improve from 0.67375\n",
            "100/100 [==============================] - 11s 108ms/step - loss: 0.0199 - accuracy: 1.0000 - val_loss: 1.0623 - val_accuracy: 0.6725\n",
            "Epoch 11/100\n",
            "100/100 [==============================] - ETA: 0s - loss: 0.0162 - accuracy: 1.0000\n",
            "Epoch 00011: val_accuracy did not improve from 0.67375\n",
            "100/100 [==============================] - 11s 108ms/step - loss: 0.0162 - accuracy: 1.0000 - val_loss: 1.0784 - val_accuracy: 0.6650\n",
            "Epoch 12/100\n",
            "100/100 [==============================] - ETA: 0s - loss: 0.0140 - accuracy: 1.0000\n",
            "Epoch 00012: val_accuracy did not improve from 0.67375\n",
            "100/100 [==============================] - 11s 107ms/step - loss: 0.0140 - accuracy: 1.0000 - val_loss: 1.0878 - val_accuracy: 0.6700\n",
            "Epoch 13/100\n",
            "100/100 [==============================] - ETA: 0s - loss: 0.0116 - accuracy: 1.0000\n",
            "Epoch 00013: val_accuracy improved from 0.67375 to 0.67875, saving model to xception.h5\n",
            "100/100 [==============================] - 16s 159ms/step - loss: 0.0116 - accuracy: 1.0000 - val_loss: 1.1075 - val_accuracy: 0.6787\n",
            "Epoch 14/100\n",
            "100/100 [==============================] - ETA: 0s - loss: 0.0103 - accuracy: 1.0000\n",
            "Epoch 00014: val_accuracy did not improve from 0.67875\n",
            "100/100 [==============================] - 11s 107ms/step - loss: 0.0103 - accuracy: 1.0000 - val_loss: 1.1153 - val_accuracy: 0.6712\n",
            "Epoch 15/100\n",
            "100/100 [==============================] - ETA: 0s - loss: 0.0087 - accuracy: 1.0000\n",
            "Epoch 00015: val_accuracy did not improve from 0.67875\n",
            "100/100 [==============================] - 11s 108ms/step - loss: 0.0087 - accuracy: 1.0000 - val_loss: 1.1239 - val_accuracy: 0.6712\n",
            "Epoch 16/100\n",
            "100/100 [==============================] - ETA: 0s - loss: 0.0079 - accuracy: 1.0000\n",
            "Epoch 00016: val_accuracy did not improve from 0.67875\n",
            "100/100 [==============================] - 11s 108ms/step - loss: 0.0079 - accuracy: 1.0000 - val_loss: 1.1364 - val_accuracy: 0.6687\n",
            "Epoch 17/100\n",
            "100/100 [==============================] - ETA: 0s - loss: 0.0070 - accuracy: 1.0000\n",
            "Epoch 00017: val_accuracy did not improve from 0.67875\n",
            "100/100 [==============================] - 11s 107ms/step - loss: 0.0070 - accuracy: 1.0000 - val_loss: 1.1513 - val_accuracy: 0.6737\n",
            "Epoch 18/100\n",
            "100/100 [==============================] - ETA: 0s - loss: 0.0061 - accuracy: 1.0000\n",
            "Epoch 00018: val_accuracy did not improve from 0.67875\n",
            "100/100 [==============================] - 11s 108ms/step - loss: 0.0061 - accuracy: 1.0000 - val_loss: 1.1650 - val_accuracy: 0.6712\n",
            "Epoch 19/100\n",
            "100/100 [==============================] - ETA: 0s - loss: 0.0055 - accuracy: 1.0000\n",
            "Epoch 00019: val_accuracy did not improve from 0.67875\n",
            "100/100 [==============================] - 11s 108ms/step - loss: 0.0055 - accuracy: 1.0000 - val_loss: 1.1762 - val_accuracy: 0.6762\n",
            "Epoch 20/100\n",
            "100/100 [==============================] - ETA: 0s - loss: 0.0050 - accuracy: 1.0000\n",
            "Epoch 00020: val_accuracy did not improve from 0.67875\n",
            "100/100 [==============================] - 11s 107ms/step - loss: 0.0050 - accuracy: 1.0000 - val_loss: 1.1807 - val_accuracy: 0.6700\n",
            "Epoch 21/100\n",
            "100/100 [==============================] - ETA: 0s - loss: 0.0045 - accuracy: 1.0000\n",
            "Epoch 00021: val_accuracy did not improve from 0.67875\n",
            "100/100 [==============================] - 11s 108ms/step - loss: 0.0045 - accuracy: 1.0000 - val_loss: 1.1934 - val_accuracy: 0.6737\n",
            "Epoch 22/100\n",
            "100/100 [==============================] - ETA: 0s - loss: 0.0042 - accuracy: 1.0000\n",
            "Epoch 00022: val_accuracy did not improve from 0.67875\n",
            "100/100 [==============================] - 11s 108ms/step - loss: 0.0042 - accuracy: 1.0000 - val_loss: 1.2061 - val_accuracy: 0.6712\n",
            "Epoch 23/100\n",
            "100/100 [==============================] - ETA: 0s - loss: 0.0038 - accuracy: 1.0000\n",
            "Epoch 00023: val_accuracy did not improve from 0.67875\n",
            "100/100 [==============================] - 11s 108ms/step - loss: 0.0038 - accuracy: 1.0000 - val_loss: 1.2163 - val_accuracy: 0.6650\n",
            "Epoch 24/100\n",
            "100/100 [==============================] - ETA: 0s - loss: 0.0035 - accuracy: 1.0000\n",
            "Epoch 00024: val_accuracy did not improve from 0.67875\n",
            "100/100 [==============================] - 11s 108ms/step - loss: 0.0035 - accuracy: 1.0000 - val_loss: 1.2210 - val_accuracy: 0.6750\n",
            "Epoch 25/100\n",
            "100/100 [==============================] - ETA: 0s - loss: 0.0032 - accuracy: 1.0000\n",
            "Epoch 00025: val_accuracy did not improve from 0.67875\n",
            "100/100 [==============================] - 11s 108ms/step - loss: 0.0032 - accuracy: 1.0000 - val_loss: 1.2334 - val_accuracy: 0.6675\n",
            "Epoch 26/100\n",
            "100/100 [==============================] - ETA: 0s - loss: 0.0030 - accuracy: 1.0000\n",
            "Epoch 00026: val_accuracy did not improve from 0.67875\n",
            "100/100 [==============================] - 11s 108ms/step - loss: 0.0030 - accuracy: 1.0000 - val_loss: 1.2423 - val_accuracy: 0.6737\n",
            "Epoch 27/100\n",
            "100/100 [==============================] - ETA: 0s - loss: 0.0026 - accuracy: 1.0000\n",
            "Epoch 00027: val_accuracy did not improve from 0.67875\n",
            "100/100 [==============================] - 11s 107ms/step - loss: 0.0026 - accuracy: 1.0000 - val_loss: 1.2447 - val_accuracy: 0.6700\n",
            "Epoch 28/100\n",
            "100/100 [==============================] - ETA: 0s - loss: 0.0025 - accuracy: 1.0000\n",
            "Epoch 00028: val_accuracy did not improve from 0.67875\n",
            "100/100 [==============================] - 11s 108ms/step - loss: 0.0025 - accuracy: 1.0000 - val_loss: 1.2502 - val_accuracy: 0.6725\n",
            "Epoch 29/100\n",
            "100/100 [==============================] - ETA: 0s - loss: 0.0022 - accuracy: 1.0000\n",
            "Epoch 00029: val_accuracy did not improve from 0.67875\n",
            "100/100 [==============================] - 11s 107ms/step - loss: 0.0022 - accuracy: 1.0000 - val_loss: 1.2642 - val_accuracy: 0.6775\n",
            "Epoch 30/100\n",
            "100/100 [==============================] - ETA: 0s - loss: 0.0021 - accuracy: 1.0000\n",
            "Epoch 00030: val_accuracy did not improve from 0.67875\n",
            "100/100 [==============================] - 11s 108ms/step - loss: 0.0021 - accuracy: 1.0000 - val_loss: 1.2728 - val_accuracy: 0.6725\n",
            "Epoch 31/100\n",
            "100/100 [==============================] - ETA: 0s - loss: 0.0019 - accuracy: 1.0000\n",
            "Epoch 00031: val_accuracy did not improve from 0.67875\n",
            "100/100 [==============================] - 11s 107ms/step - loss: 0.0019 - accuracy: 1.0000 - val_loss: 1.2835 - val_accuracy: 0.6750\n",
            "Epoch 32/100\n",
            "100/100 [==============================] - ETA: 0s - loss: 0.0018 - accuracy: 1.0000\n",
            "Epoch 00032: val_accuracy did not improve from 0.67875\n",
            "100/100 [==============================] - 11s 107ms/step - loss: 0.0018 - accuracy: 1.0000 - val_loss: 1.2909 - val_accuracy: 0.6725\n",
            "Epoch 33/100\n",
            "100/100 [==============================] - ETA: 0s - loss: 0.0017 - accuracy: 1.0000\n",
            "Epoch 00033: val_accuracy did not improve from 0.67875\n",
            "100/100 [==============================] - 11s 107ms/step - loss: 0.0017 - accuracy: 1.0000 - val_loss: 1.3004 - val_accuracy: 0.6712\n",
            "Epoch 00033: early stopping\n"
          ]
        }
      ]
    },
    {
      "cell_type": "code",
      "metadata": {
        "colab": {
          "base_uri": "https://localhost:8080/",
          "height": 312
        },
        "id": "Abqce6LQ_O8_",
        "outputId": "0938e4b7-eadd-4fc7-974f-9994e1b98385"
      },
      "source": [
        "plt.plot(hist.history['accuracy'])\n",
        "plt.plot(hist.history['val_accuracy'])\n",
        "plt.plot(hist.history[\"loss\"])\n",
        "plt.plot(hist.history['val_loss'])\n",
        "plt.title(\"Xception Model Accuracy\")\n",
        "plt.ylabel(\"Accuracy\")\n",
        "plt.xlabel(\"Epoch\")\n",
        "plt.legend([\"Accuracy\",\"Validation Accuracy\",\"Loss\",\"Validation Loss\"])\n",
        "plt.show()\n",
        "plt.savefig('xception_acc.png')"
      ],
      "execution_count": 11,
      "outputs": [
        {
          "output_type": "display_data",
          "data": {
            "image/png": "[encoded data removed]",
            "text/plain": [
              "<Figure size 432x288 with 1 Axes>"
            ]
          },
          "metadata": {
            "needs_background": "light"
          }
        },
        {
          "output_type": "display_data",
          "data": {
            "text/plain": [
              "<Figure size 432x288 with 0 Axes>"
            ]
          },
          "metadata": {}
        }
      ]
    },
    {
      "cell_type": "code",
      "metadata": {
        "colab": {
          "base_uri": "https://localhost:8080/"
        },
        "id": "lYW-rX0LkHJ-",
        "outputId": "f1992303-8da0-4fc1-dc91-0532f31b2ac3"
      },
      "source": [
        "from keras.models import load_model\n",
        "saved_model = load_model(\"xception.h5\")\n",
        "test_x = []\n",
        "original_y = []\n",
        "parsed_dataset = read_dataset('/content/train0133_processed.tfrecord') # ACTION NEEDED: .tfrecord file_path needs to be specified\n",
        "labeled_data_sets = labeled_dataset(parsed_dataset)\n",
        "for data in labeled_data_sets[:800]:\n",
        "  if data[1] == 12:\n",
        "    val = 0\n",
        "  elif data[1] == 11:\n",
        "    val = 1\n",
        "  elif data[1] == 17:\n",
        "    val = 2\n",
        "  else:\n",
        "    val = 3\n",
        "  resized_image = cv2.resize(data[0], (224, 224)) / 255.0\n",
        "  test_x.append(resized_image)\n",
        "  original_y.append(val)\n",
        "test_y = np.array(original_y).T\n",
        "test_x = np.array(test_x)\n",
        "test_y = to_categorical(test_y)\n",
        "loss, acc = saved_model.evaluate(test_x, test_y)\n",
        "print(loss)\n",
        "print(acc)"
      ],
      "execution_count": 12,
      "outputs": [
        {
          "output_type": "stream",
          "name": "stdout",
          "text": [
            "25/25 [==============================] - 3s 80ms/step - loss: 1.2062 - accuracy: 0.6513\n",
            "1.206154227256775\n",
            "0.6512500047683716\n"
          ]
        }
      ]
    },
    {
      "cell_type": "code",
      "metadata": {
        "id": "iME1zaXo3Zzm"
      },
      "source": [
        "predict_y = saved_model.predict(test_x)\n",
        "predict_y = np.argmax(predict_y, axis=1)\n",
        "original_y = np.array(original_y)"
      ],
      "execution_count": 13,
      "outputs": []
    },
    {
      "cell_type": "code",
      "metadata": {
        "colab": {
          "base_uri": "https://localhost:8080/"
        },
        "id": "XzNZPMEp3bsm",
        "outputId": "b8960538-9277-48b5-9bc4-57d7076b7b8c"
      },
      "source": [
        "from sklearn.metrics import precision_score, recall_score, f1_score, confusion_matrix\n",
        "precision = precision_score(original_y, predict_y, average='macro')\n",
        "recall = recall_score(original_y, predict_y, average='macro')\n",
        "f1 = f1_score(original_y, predict_y, average='macro')\n",
        "cm = confusion_matrix(original_y, predict_y)\n",
        "print(f'Precision score is: {precision}')\n",
        "print(f'Recall score is: {recall}')\n",
        "print(f'F1 score is: {f1}')\n",
        "print(cm)"
      ],
      "execution_count": 14,
      "outputs": [
        {
          "output_type": "stream",
          "name": "stdout",
          "text": [
            "Precision score is: 0.6296859702739755\n",
            "Recall score is: 0.6675364554643244\n",
            "F1 score is: 0.6391191826014868\n",
            "[[207  28  14  41]\n",
            " [ 31 123  14  22]\n",
            " [  2   8  67   9]\n",
            " [ 40  28  42 124]]\n"
          ]
        }
      ]
    },
    {
      "cell_type": "code",
      "metadata": {
        "id": "BaX6aLJx3c8b"
      },
      "source": [
        "def plot_confusion_matrix(cm,\n",
        "                          target_names,\n",
        "                          title='Confusion matrix',\n",
        "                          cmap=None,\n",
        "                          normalize=True):\n",
        "    \"\"\"\n",
        "    given a sklearn confusion matrix (cm), make a nice plot\n",
        "\n",
        "    Arguments\n",
        "    ---------\n",
        "    cm:           confusion matrix from sklearn.metrics.confusion_matrix\n",
        "\n",
        "    target_names: given classification classes such as [0, 1, 2]\n",
        "                  the class names, for example: ['high', 'medium', 'low']\n",
        "\n",
        "    title:        the text to display at the top of the matrix\n",
        "\n",
        "    cmap:         the gradient of the values displayed from matplotlib.pyplot.cm\n",
        "                  see http://matplotlib.org/examples/color/colormaps_reference.html\n",
        "                  plt.get_cmap('jet') or plt.cm.Blues\n",
        "\n",
        "    normalize:    If False, plot the raw numbers\n",
        "                  If True, plot the proportions\n",
        "\n",
        "    Usage\n",
        "    -----\n",
        "    plot_confusion_matrix(cm           = cm,                  # confusion matrix created by\n",
        "                                                              # sklearn.metrics.confusion_matrix\n",
        "                          normalize    = True,                # show proportions\n",
        "                          target_names = y_labels_vals,       # list of names of the classes\n",
        "                          title        = best_estimator_name) # title of graph\n",
        "\n",
        "    Citiation\n",
        "    ---------\n",
        "    http://scikit-learn.org/stable/auto_examples/model_selection/plot_confusion_matrix.html\n",
        "\n",
        "    \"\"\"\n",
        "    import matplotlib.pyplot as plt\n",
        "    import numpy as np\n",
        "    import itertools\n",
        "\n",
        "    accuracy = np.trace(cm) / float(np.sum(cm))\n",
        "    misclass = 1 - accuracy\n",
        "\n",
        "    if cmap is None:\n",
        "        cmap = plt.get_cmap('Blues')\n",
        "\n",
        "    plt.figure(figsize=(8, 6))\n",
        "    plt.imshow(cm, interpolation='nearest', cmap=cmap)\n",
        "    plt.title(title)\n",
        "    plt.colorbar()\n",
        "\n",
        "    if target_names is not None:\n",
        "        tick_marks = np.arange(len(target_names))\n",
        "        plt.xticks(tick_marks, target_names, rotation=45)\n",
        "        plt.yticks(tick_marks, target_names)\n",
        "\n",
        "    if normalize:\n",
        "        cm = cm.astype('float') / cm.sum(axis=1)[:, np.newaxis]\n",
        "\n",
        "\n",
        "    thresh = cm.max() / 1.5 if normalize else cm.max() / 2\n",
        "    for i, j in itertools.product(range(cm.shape[0]), range(cm.shape[1])):\n",
        "        if normalize:\n",
        "            plt.text(j, i, \"{:0.4f}\".format(cm[i, j]),\n",
        "                     horizontalalignment=\"center\",\n",
        "                     color=\"white\" if cm[i, j] > thresh else \"black\")\n",
        "        else:\n",
        "            plt.text(j, i, \"{:,}\".format(cm[i, j]),\n",
        "                     horizontalalignment=\"center\",\n",
        "                     color=\"white\" if cm[i, j] > thresh else \"black\")\n",
        "\n",
        "\n",
        "    plt.tight_layout()\n",
        "    plt.ylabel('True label')\n",
        "    plt.xlabel('Predicted label\\naccuracy={:0.4f}; misclass={:0.4f}'.format(accuracy, misclass))\n",
        "    plt.show()\n",
        "    "
      ],
      "execution_count": 15,
      "outputs": []
    },
    {
      "cell_type": "code",
      "metadata": {
        "colab": {
          "base_uri": "https://localhost:8080/",
          "height": 467
        },
        "id": "C2p49fhU3ewl",
        "outputId": "2f09c89e-3d46-4441-e602-1ce8a06bda7b"
      },
      "source": [
        "plot_confusion_matrix(cm, ['Arts', 'Games', 'Vehicles', 'Other'], title='Xception Confusion Matrix')"
      ],
      "execution_count": 16,
      "outputs": [
        {
          "output_type": "display_data",
          "data": {
            "image/png": "[encoded data removed]",
            "text/plain": [
              "<Figure size 576x432 with 2 Axes>"
            ]
          },
          "metadata": {
            "needs_background": "light"
          }
        }
      ]
    }
  ]
}