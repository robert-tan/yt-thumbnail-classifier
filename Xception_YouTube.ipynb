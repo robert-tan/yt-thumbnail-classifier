{
  "nbformat": 4,
  "nbformat_minor": 0,
  "metadata": {
    "accelerator": "GPU",
    "colab": {
      "name": "Xception-YouTube.ipynb",
      "provenance": [],
      "collapsed_sections": [],
      "machine_shape": "hm"
    },
    "kernelspec": {
      "display_name": "Python 3",
      "name": "python3"
    },
    "language_info": {
      "name": "python"
    }
  },
  "cells": [
    {
      "cell_type": "code",
      "metadata": {
        "id": "FxyolSLvOcOu"
      },
      "source": [
        "!wget https://cs230-project.s3.us-east-2.amazonaws.com/train0000_processed.tfrecord\n",
        "!wget https://cs230-project.s3.us-east-2.amazonaws.com/train0002_processed.tfrecord\n",
        "!wget https://cs230-project.s3.us-east-2.amazonaws.com/train0014_processed.tfrecord\n",
        "!wget https://cs230-project.s3.us-east-2.amazonaws.com/train0017_processed.tfrecord\n",
        "!wget https://cs230-project.s3.us-east-2.amazonaws.com/train0031_processed.tfrecord\n",
        "\n",
        "!wget https://cs230-project.s3.us-east-2.amazonaws.com/train0036_processed.tfrecord\n",
        "!wget https://cs230-project.s3.us-east-2.amazonaws.com/train0043_processed.tfrecord\n",
        "!wget https://cs230-project.s3.us-east-2.amazonaws.com/train0046_processed.tfrecord\n",
        "!wget https://cs230-project.s3.us-east-2.amazonaws.com/train0057_processed.tfrecord\n",
        "!wget https://cs230-project.s3.us-east-2.amazonaws.com/train0060_processed.tfrecord\n",
        "\n",
        "!wget https://cs230-project.s3.us-east-2.amazonaws.com/train0067_processed.tfrecord\n",
        "!wget https://cs230-project.s3.us-east-2.amazonaws.com/train0086_processed.tfrecord\n",
        "!wget https://cs230-project.s3.us-east-2.amazonaws.com/train0090_processed.tfrecord\n",
        "!wget https://cs230-project.s3.us-east-2.amazonaws.com/train0091_processed.tfrecord\n",
        "!wget https://cs230-project.s3.us-east-2.amazonaws.com/train0111_processed.tfrecord\n",
        "\n",
        "!wget https://cs230-project.s3.us-east-2.amazonaws.com/train0112_processed.tfrecord\n",
        "!wget https://cs230-project.s3.us-east-2.amazonaws.com/train0123_processed.tfrecord\n",
        "!wget https://cs230-project.s3.us-east-2.amazonaws.com/train0130_processed.tfrecord\n",
        "!wget https://cs230-project.s3.us-east-2.amazonaws.com/train0131_processed.tfrecord\n",
        "!wget https://cs230-project.s3.us-east-2.amazonaws.com/train0133_processed.tfrecord"
      ],
      "execution_count": null,
      "outputs": []
    },
    {
      "cell_type": "code",
      "metadata": {
        "id": "RJJR_VWQ0cw0"
      },
      "source": [
        "import tensorflow as tf\n",
        "from tensorflow.keras.layers import Input, Conv2D\n",
        "from tensorflow.keras.layers import MaxPool2D, Flatten, Dense, Dropout\n",
        "from tensorflow.keras import Model\n",
        "from tensorflow.keras.optimizers import Adam, SGD, RMSprop\n",
        "from tensorflow.keras.utils import to_categorical\n",
        "from tensorflow.keras.callbacks import EarlyStopping, ModelCheckpoint\n",
        "import cv2\n",
        "import matplotlib.pyplot as plt\n",
        "import numpy as np\n",
        "import os"
      ],
      "execution_count": 2,
      "outputs": []
    },
    {
      "cell_type": "code",
      "metadata": {
        "id": "6Vl_NHxAPJ3v"
      },
      "source": [
        "files = ['0000', '0002', '0014', '0017', '0031', \n",
        "         '0036', '0043', '0046', '0057', '0060', \n",
        "         '0067', '0086', '0090', '0091', '0111', \n",
        "         '0112', '0123', '0130', '0131', '0133']"
      ],
      "execution_count": 3,
      "outputs": []
    },
    {
      "cell_type": "code",
      "metadata": {
        "id": "CzsLz5Vx0nah"
      },
      "source": [
        "def read_dataset(file_path):\n",
        "    dataset = tf.data.TFRecordDataset(file_path)\n",
        "\n",
        "    def read_tfrecord(serialized_example):\n",
        "        feature_description = {\n",
        "            'thumbnail': tf.io.VarLenFeature(tf.string),\n",
        "            'n_W': tf.io.FixedLenFeature((), tf.int64),\n",
        "            'n_H': tf.io.FixedLenFeature((), tf.int64),\n",
        "            'n_C': tf.io.FixedLenFeature((), tf.int64),\n",
        "            'labels': tf.io.VarLenFeature(tf.int64),\n",
        "        }\n",
        "        example = tf.io.parse_single_example(serialized_example, feature_description)\n",
        "        return example\n",
        "\n",
        "    parsed_dataset = dataset.map(read_tfrecord)\n",
        "    return parsed_dataset\n",
        "\n",
        "\n",
        "def labeled_dataset(parsed_dataset):\n",
        "    labeled_data_sets = []\n",
        "\n",
        "    for example in parsed_dataset:\n",
        "        thumbnail_bytes = example[\"thumbnail\"].values[0].numpy()\n",
        "        n_W = example[\"n_W\"].numpy()\n",
        "        n_C = example[\"n_C\"].numpy()\n",
        "        n_H = example[\"n_H\"].numpy()\n",
        "\n",
        "        thumbnail_arr = np.frombuffer(thumbnail_bytes, dtype=np.uint8).reshape((n_W, n_H, n_C))\n",
        "        labels = example[\"labels\"].values[0].numpy() \n",
        "\n",
        "        labeled_dataset = [thumbnail_arr, labels]\n",
        "        labeled_data_sets.append(labeled_dataset)\n",
        "    return labeled_data_sets"
      ],
      "execution_count": 4,
      "outputs": []
    },
    {
      "cell_type": "code",
      "metadata": {
        "id": "z3FPCXn00pxg"
      },
      "source": [
        "x = []\n",
        "y = []\n",
        "counter = [0] * 4\n",
        "for number in files:\n",
        "  parsed_dataset = read_dataset('/content/train' + number + '_processed.tfrecord') # ACTION NEEDED: .tfrecord file_path needs to be specified\n",
        "  labeled_data_sets = labeled_dataset(parsed_dataset)\n",
        "  for data in labeled_data_sets:\n",
        "    if data[1] == 12:\n",
        "      val = 0\n",
        "    elif data[1] == 11:\n",
        "      val = 1\n",
        "    elif data[1] == 17:\n",
        "      val = 2\n",
        "    else:\n",
        "      val = 3\n",
        "    if counter[val] < 1000:\n",
        "      resized_image = cv2.resize(data[0], (224, 224)) / 255.0\n",
        "      x.append(resized_image)\n",
        "      y.append(val)\n",
        "      counter[val] += 1\n",
        "  if counter[0] == counter[1] == counter[2] == counter[3] == 500:\n",
        "    break"
      ],
      "execution_count": 5,
      "outputs": []
    },
    {
      "cell_type": "code",
      "metadata": {
        "id": "q_i07vs7Ih9S"
      },
      "source": [
        "new_y = np.array(y).T\n",
        "new_x = np.array(x)"
      ],
      "execution_count": 6,
      "outputs": []
    },
    {
      "cell_type": "code",
      "metadata": {
        "id": "xl4fJ1zq0rgU",
        "colab": {
          "base_uri": "https://localhost:8080/"
        },
        "outputId": "0dd04c8a-86ee-423e-89be-0a9c037d5e0a"
      },
      "source": [
        "from sklearn.model_selection import train_test_split\n",
        "X_train, X_test, y_train, y_test = train_test_split(new_x, new_y, test_size=0.2, random_state=42)\n",
        "y_train = to_categorical(y_train, 4)\n",
        "y_test = to_categorical(y_test, 4)\n",
        "print(X_train.shape)\n",
        "print(y_train.shape)\n",
        "print(X_test.shape)\n",
        "print(y_test.shape)"
      ],
      "execution_count": 7,
      "outputs": [
        {
          "output_type": "stream",
          "name": "stdout",
          "text": [
            "(3200, 224, 224, 3)\n",
            "(3200, 4)\n",
            "(800, 224, 224, 3)\n",
            "(800, 4)\n"
          ]
        }
      ]
    },
    {
      "cell_type": "code",
      "metadata": {
        "id": "-vL1QixKUJ1O",
        "colab": {
          "base_uri": "https://localhost:8080/"
        },
        "outputId": "c2afeb71-da58-4649-fd1d-351400d05d24"
      },
      "source": [
        "from tensorflow.keras.applications import Xception\n",
        "base_model = Xception(input_shape = (224, 224, 3), include_top = False, weights = 'imagenet')\n",
        "base_model.trainable = False"
      ],
      "execution_count": 8,
      "outputs": [
        {
          "output_type": "stream",
          "name": "stdout",
          "text": [
            "Downloading data from https://storage.googleapis.com/tensorflow/keras-applications/xception/xception_weights_tf_dim_ordering_tf_kernels_notop.h5\n",
            "83689472/83683744 [==============================] - 0s 0us/step\n",
            "83697664/83683744 [==============================] - 0s 0us/step\n"
          ]
        }
      ]
    },
    {
      "cell_type": "code",
      "metadata": {
        "id": "4nMKn8QxVPJk"
      },
      "source": [
        "x = Flatten()(base_model.output)\n",
        "x = Dense(1024, activation=\"relu\")(x)\n",
        "x = Dropout(0.2)(x)\n",
        "x = Dense(4, activation=\"softmax\")(x)\n",
        "model = tf.keras.models.Model(base_model.input, x)\n",
        "model.compile(optimizer=Adam(learning_rate=0.00001),\n",
        "    loss='categorical_crossentropy',\n",
        "    metrics=['accuracy']\n",
        ")"
      ],
      "execution_count": 9,
      "outputs": []
    },
    {
      "cell_type": "code",
      "metadata": {
        "id": "kd5w16zgViPZ",
        "colab": {
          "base_uri": "https://localhost:8080/"
        },
        "outputId": "4343aa6e-cced-4854-e7ef-428de590a291"
      },
      "source": [
        "checkpoint = ModelCheckpoint(\"xception.h5\", monitor='val_accuracy', verbose=1, save_best_only=True, save_weights_only=False, mode='auto', period=1)\n",
        "early = EarlyStopping(monitor='val_accuracy', min_delta=0, patience=20, verbose=1, mode='auto')\n",
        "hist = model.fit(X_train, y_train, validation_data=(X_test, y_test), epochs=100, batch_size=32, callbacks=[checkpoint, early])"
      ],
      "execution_count": 10,
      "outputs": [
        {
          "output_type": "stream",
          "name": "stdout",
          "text": [
            "WARNING:tensorflow:`period` argument is deprecated. Please use `save_freq` to specify the frequency in number of batches seen.\n",
            "Epoch 1/100\n",
            "100/100 [==============================] - ETA: 0s - loss: 0.9587 - accuracy: 0.6234\n",
            "Epoch 00001: val_accuracy improved from -inf to 0.65875, saving model to xception.h5\n"
          ]
        },
        {
          "output_type": "stream",
          "name": "stderr",
          "text": [
            "/usr/local/lib/python3.7/dist-packages/keras/engine/functional.py:1410: CustomMaskWarning: Custom mask layers require a config and must override get_config. When loading, the custom mask layer must be passed to the custom_objects argument.\n",
            "  layer_config = serialize_layer_fn(layer)\n"
          ]
        },
        {
          "output_type": "stream",
          "name": "stdout",
          "text": [
            "100/100 [==============================] - 26s 165ms/step - loss: 0.9587 - accuracy: 0.6234 - val_loss: 0.9197 - val_accuracy: 0.6587\n",
            "Epoch 2/100\n",
            "100/100 [==============================] - ETA: 0s - loss: 0.4750 - accuracy: 0.8319\n",
            "Epoch 00002: val_accuracy did not improve from 0.65875\n",
            "100/100 [==============================] - 11s 106ms/step - loss: 0.4750 - accuracy: 0.8319 - val_loss: 0.9374 - val_accuracy: 0.6363\n",
            "Epoch 3/100\n",
            "100/100 [==============================] - ETA: 0s - loss: 0.2714 - accuracy: 0.9287\n",
            "Epoch 00003: val_accuracy did not improve from 0.65875\n",
            "100/100 [==============================] - 11s 106ms/step - loss: 0.2714 - accuracy: 0.9287 - val_loss: 0.9355 - val_accuracy: 0.6575\n",
            "Epoch 4/100\n",
            "100/100 [==============================] - ETA: 0s - loss: 0.1591 - accuracy: 0.9709\n",
            "Epoch 00004: val_accuracy improved from 0.65875 to 0.66625, saving model to xception.h5\n",
            "100/100 [==============================] - 16s 156ms/step - loss: 0.1591 - accuracy: 0.9709 - val_loss: 0.9330 - val_accuracy: 0.6662\n",
            "Epoch 5/100\n",
            "100/100 [==============================] - ETA: 0s - loss: 0.0969 - accuracy: 0.9912\n",
            "Epoch 00005: val_accuracy did not improve from 0.66625\n",
            "100/100 [==============================] - 11s 106ms/step - loss: 0.0969 - accuracy: 0.9912 - val_loss: 0.9668 - val_accuracy: 0.6625\n",
            "Epoch 6/100\n",
            "100/100 [==============================] - ETA: 0s - loss: 0.0615 - accuracy: 0.9987\n",
            "Epoch 00006: val_accuracy did not improve from 0.66625\n",
            "100/100 [==============================] - 11s 106ms/step - loss: 0.0615 - accuracy: 0.9987 - val_loss: 0.9988 - val_accuracy: 0.6587\n",
            "Epoch 7/100\n",
            "100/100 [==============================] - ETA: 0s - loss: 0.0422 - accuracy: 1.0000\n",
            "Epoch 00007: val_accuracy improved from 0.66625 to 0.67250, saving model to xception.h5\n",
            "100/100 [==============================] - 16s 157ms/step - loss: 0.0422 - accuracy: 1.0000 - val_loss: 1.0180 - val_accuracy: 0.6725\n",
            "Epoch 8/100\n",
            "100/100 [==============================] - ETA: 0s - loss: 0.0323 - accuracy: 0.9997\n",
            "Epoch 00008: val_accuracy improved from 0.67250 to 0.67375, saving model to xception.h5\n",
            "100/100 [==============================] - 16s 158ms/step - loss: 0.0323 - accuracy: 0.9997 - val_loss: 1.0277 - val_accuracy: 0.6737\n",
            "Epoch 9/100\n",
            "100/100 [==============================] - ETA: 0s - loss: 0.0257 - accuracy: 1.0000\n",
            "Epoch 00009: val_accuracy improved from 0.67375 to 0.67750, saving model to xception.h5\n",
            "100/100 [==============================] - 16s 157ms/step - loss: 0.0257 - accuracy: 1.0000 - val_loss: 1.0603 - val_accuracy: 0.6775\n",
            "Epoch 10/100\n",
            "100/100 [==============================] - ETA: 0s - loss: 0.0204 - accuracy: 1.0000\n",
            "Epoch 00010: val_accuracy did not improve from 0.67750\n",
            "100/100 [==============================] - 11s 106ms/step - loss: 0.0204 - accuracy: 1.0000 - val_loss: 1.0750 - val_accuracy: 0.6675\n",
            "Epoch 11/100\n",
            "100/100 [==============================] - ETA: 0s - loss: 0.0168 - accuracy: 1.0000\n",
            "Epoch 00011: val_accuracy did not improve from 0.67750\n",
            "100/100 [==============================] - 11s 106ms/step - loss: 0.0168 - accuracy: 1.0000 - val_loss: 1.0906 - val_accuracy: 0.6700\n",
            "Epoch 12/100\n",
            "100/100 [==============================] - ETA: 0s - loss: 0.0142 - accuracy: 1.0000\n",
            "Epoch 00012: val_accuracy did not improve from 0.67750\n",
            "100/100 [==============================] - 11s 106ms/step - loss: 0.0142 - accuracy: 1.0000 - val_loss: 1.1061 - val_accuracy: 0.6662\n",
            "Epoch 13/100\n",
            "100/100 [==============================] - ETA: 0s - loss: 0.0118 - accuracy: 1.0000\n",
            "Epoch 00013: val_accuracy did not improve from 0.67750\n",
            "100/100 [==============================] - 11s 106ms/step - loss: 0.0118 - accuracy: 1.0000 - val_loss: 1.1241 - val_accuracy: 0.6750\n",
            "Epoch 14/100\n",
            "100/100 [==============================] - ETA: 0s - loss: 0.0103 - accuracy: 1.0000\n",
            "Epoch 00014: val_accuracy did not improve from 0.67750\n",
            "100/100 [==============================] - 11s 106ms/step - loss: 0.0103 - accuracy: 1.0000 - val_loss: 1.1330 - val_accuracy: 0.6737\n",
            "Epoch 15/100\n",
            "100/100 [==============================] - ETA: 0s - loss: 0.0095 - accuracy: 1.0000\n",
            "Epoch 00015: val_accuracy did not improve from 0.67750\n",
            "100/100 [==============================] - 11s 106ms/step - loss: 0.0095 - accuracy: 1.0000 - val_loss: 1.1374 - val_accuracy: 0.6687\n",
            "Epoch 16/100\n",
            "100/100 [==============================] - ETA: 0s - loss: 0.0083 - accuracy: 1.0000\n",
            "Epoch 00016: val_accuracy did not improve from 0.67750\n",
            "100/100 [==============================] - 11s 106ms/step - loss: 0.0083 - accuracy: 1.0000 - val_loss: 1.1488 - val_accuracy: 0.6712\n",
            "Epoch 17/100\n",
            "100/100 [==============================] - ETA: 0s - loss: 0.0072 - accuracy: 1.0000\n",
            "Epoch 00017: val_accuracy improved from 0.67750 to 0.67875, saving model to xception.h5\n",
            "100/100 [==============================] - 16s 156ms/step - loss: 0.0072 - accuracy: 1.0000 - val_loss: 1.1645 - val_accuracy: 0.6787\n",
            "Epoch 18/100\n",
            "100/100 [==============================] - ETA: 0s - loss: 0.0063 - accuracy: 1.0000\n",
            "Epoch 00018: val_accuracy did not improve from 0.67875\n",
            "100/100 [==============================] - 11s 106ms/step - loss: 0.0063 - accuracy: 1.0000 - val_loss: 1.1730 - val_accuracy: 0.6750\n",
            "Epoch 19/100\n",
            "100/100 [==============================] - ETA: 0s - loss: 0.0056 - accuracy: 1.0000\n",
            "Epoch 00019: val_accuracy did not improve from 0.67875\n",
            "100/100 [==============================] - 11s 106ms/step - loss: 0.0056 - accuracy: 1.0000 - val_loss: 1.1877 - val_accuracy: 0.6762\n",
            "Epoch 20/100\n",
            "100/100 [==============================] - ETA: 0s - loss: 0.0052 - accuracy: 1.0000\n",
            "Epoch 00020: val_accuracy did not improve from 0.67875\n",
            "100/100 [==============================] - 11s 107ms/step - loss: 0.0052 - accuracy: 1.0000 - val_loss: 1.1918 - val_accuracy: 0.6750\n",
            "Epoch 21/100\n",
            "100/100 [==============================] - ETA: 0s - loss: 0.0048 - accuracy: 1.0000\n",
            "Epoch 00021: val_accuracy did not improve from 0.67875\n",
            "100/100 [==============================] - 11s 106ms/step - loss: 0.0048 - accuracy: 1.0000 - val_loss: 1.2038 - val_accuracy: 0.6737\n",
            "Epoch 22/100\n",
            "100/100 [==============================] - ETA: 0s - loss: 0.0042 - accuracy: 1.0000\n",
            "Epoch 00022: val_accuracy did not improve from 0.67875\n",
            "100/100 [==============================] - 11s 106ms/step - loss: 0.0042 - accuracy: 1.0000 - val_loss: 1.2181 - val_accuracy: 0.6762\n",
            "Epoch 23/100\n",
            "100/100 [==============================] - ETA: 0s - loss: 0.0039 - accuracy: 1.0000\n",
            "Epoch 00023: val_accuracy improved from 0.67875 to 0.68000, saving model to xception.h5\n",
            "100/100 [==============================] - 16s 157ms/step - loss: 0.0039 - accuracy: 1.0000 - val_loss: 1.2311 - val_accuracy: 0.6800\n",
            "Epoch 24/100\n",
            "100/100 [==============================] - ETA: 0s - loss: 0.0035 - accuracy: 1.0000\n",
            "Epoch 00024: val_accuracy did not improve from 0.68000\n",
            "100/100 [==============================] - 11s 106ms/step - loss: 0.0035 - accuracy: 1.0000 - val_loss: 1.2372 - val_accuracy: 0.6750\n",
            "Epoch 25/100\n",
            "100/100 [==============================] - ETA: 0s - loss: 0.0032 - accuracy: 1.0000\n",
            "Epoch 00025: val_accuracy did not improve from 0.68000\n",
            "100/100 [==============================] - 11s 106ms/step - loss: 0.0032 - accuracy: 1.0000 - val_loss: 1.2522 - val_accuracy: 0.6775\n",
            "Epoch 26/100\n",
            "100/100 [==============================] - ETA: 0s - loss: 0.0030 - accuracy: 1.0000\n",
            "Epoch 00026: val_accuracy did not improve from 0.68000\n",
            "100/100 [==============================] - 11s 106ms/step - loss: 0.0030 - accuracy: 1.0000 - val_loss: 1.2535 - val_accuracy: 0.6762\n",
            "Epoch 27/100\n",
            "100/100 [==============================] - ETA: 0s - loss: 0.0027 - accuracy: 1.0000\n",
            "Epoch 00027: val_accuracy did not improve from 0.68000\n",
            "100/100 [==============================] - 11s 106ms/step - loss: 0.0027 - accuracy: 1.0000 - val_loss: 1.2681 - val_accuracy: 0.6737\n",
            "Epoch 28/100\n",
            "100/100 [==============================] - ETA: 0s - loss: 0.0025 - accuracy: 1.0000\n",
            "Epoch 00028: val_accuracy did not improve from 0.68000\n",
            "100/100 [==============================] - 11s 106ms/step - loss: 0.0025 - accuracy: 1.0000 - val_loss: 1.2704 - val_accuracy: 0.6750\n",
            "Epoch 29/100\n",
            "100/100 [==============================] - ETA: 0s - loss: 0.0024 - accuracy: 1.0000\n",
            "Epoch 00029: val_accuracy did not improve from 0.68000\n",
            "100/100 [==============================] - 11s 106ms/step - loss: 0.0024 - accuracy: 1.0000 - val_loss: 1.2753 - val_accuracy: 0.6737\n",
            "Epoch 30/100\n",
            "100/100 [==============================] - ETA: 0s - loss: 0.0022 - accuracy: 1.0000\n",
            "Epoch 00030: val_accuracy did not improve from 0.68000\n",
            "100/100 [==============================] - 11s 106ms/step - loss: 0.0022 - accuracy: 1.0000 - val_loss: 1.2858 - val_accuracy: 0.6750\n",
            "Epoch 31/100\n",
            "100/100 [==============================] - ETA: 0s - loss: 0.0021 - accuracy: 1.0000\n",
            "Epoch 00031: val_accuracy did not improve from 0.68000\n",
            "100/100 [==============================] - 11s 106ms/step - loss: 0.0021 - accuracy: 1.0000 - val_loss: 1.2980 - val_accuracy: 0.6775\n",
            "Epoch 32/100\n",
            "100/100 [==============================] - ETA: 0s - loss: 0.0019 - accuracy: 1.0000\n",
            "Epoch 00032: val_accuracy did not improve from 0.68000\n",
            "100/100 [==============================] - 11s 106ms/step - loss: 0.0019 - accuracy: 1.0000 - val_loss: 1.3036 - val_accuracy: 0.6762\n",
            "Epoch 33/100\n",
            "100/100 [==============================] - ETA: 0s - loss: 0.0017 - accuracy: 1.0000\n",
            "Epoch 00033: val_accuracy did not improve from 0.68000\n",
            "100/100 [==============================] - 11s 106ms/step - loss: 0.0017 - accuracy: 1.0000 - val_loss: 1.3093 - val_accuracy: 0.6762\n",
            "Epoch 34/100\n",
            "100/100 [==============================] - ETA: 0s - loss: 0.0016 - accuracy: 1.0000\n",
            "Epoch 00034: val_accuracy did not improve from 0.68000\n",
            "100/100 [==============================] - 11s 106ms/step - loss: 0.0016 - accuracy: 1.0000 - val_loss: 1.3243 - val_accuracy: 0.6762\n",
            "Epoch 35/100\n",
            "100/100 [==============================] - ETA: 0s - loss: 0.0015 - accuracy: 1.0000\n",
            "Epoch 00035: val_accuracy did not improve from 0.68000\n",
            "100/100 [==============================] - 11s 106ms/step - loss: 0.0015 - accuracy: 1.0000 - val_loss: 1.3279 - val_accuracy: 0.6787\n",
            "Epoch 36/100\n",
            "100/100 [==============================] - ETA: 0s - loss: 0.0014 - accuracy: 1.0000\n",
            "Epoch 00036: val_accuracy did not improve from 0.68000\n",
            "100/100 [==============================] - 11s 106ms/step - loss: 0.0014 - accuracy: 1.0000 - val_loss: 1.3341 - val_accuracy: 0.6800\n",
            "Epoch 37/100\n",
            "100/100 [==============================] - ETA: 0s - loss: 0.0013 - accuracy: 1.0000\n",
            "Epoch 00037: val_accuracy improved from 0.68000 to 0.68125, saving model to xception.h5\n",
            "100/100 [==============================] - 16s 157ms/step - loss: 0.0013 - accuracy: 1.0000 - val_loss: 1.3421 - val_accuracy: 0.6812\n",
            "Epoch 38/100\n",
            "100/100 [==============================] - ETA: 0s - loss: 0.0012 - accuracy: 1.0000\n",
            "Epoch 00038: val_accuracy did not improve from 0.68125\n",
            "100/100 [==============================] - 11s 106ms/step - loss: 0.0012 - accuracy: 1.0000 - val_loss: 1.3506 - val_accuracy: 0.6725\n",
            "Epoch 39/100\n",
            "100/100 [==============================] - ETA: 0s - loss: 0.0012 - accuracy: 1.0000\n",
            "Epoch 00039: val_accuracy did not improve from 0.68125\n",
            "100/100 [==============================] - 11s 106ms/step - loss: 0.0012 - accuracy: 1.0000 - val_loss: 1.3524 - val_accuracy: 0.6812\n",
            "Epoch 40/100\n",
            "100/100 [==============================] - ETA: 0s - loss: 0.0011 - accuracy: 1.0000\n",
            "Epoch 00040: val_accuracy did not improve from 0.68125\n",
            "100/100 [==============================] - 11s 106ms/step - loss: 0.0011 - accuracy: 1.0000 - val_loss: 1.3619 - val_accuracy: 0.6775\n",
            "Epoch 41/100\n",
            "100/100 [==============================] - ETA: 0s - loss: 0.0010 - accuracy: 1.0000\n",
            "Epoch 00041: val_accuracy did not improve from 0.68125\n",
            "100/100 [==============================] - 11s 106ms/step - loss: 0.0010 - accuracy: 1.0000 - val_loss: 1.3727 - val_accuracy: 0.6800\n",
            "Epoch 42/100\n",
            "100/100 [==============================] - ETA: 0s - loss: 9.5755e-04 - accuracy: 1.0000\n",
            "Epoch 00042: val_accuracy did not improve from 0.68125\n",
            "100/100 [==============================] - 11s 106ms/step - loss: 9.5755e-04 - accuracy: 1.0000 - val_loss: 1.3786 - val_accuracy: 0.6775\n",
            "Epoch 43/100\n",
            "100/100 [==============================] - ETA: 0s - loss: 8.8669e-04 - accuracy: 1.0000\n",
            "Epoch 00043: val_accuracy did not improve from 0.68125\n",
            "100/100 [==============================] - 11s 106ms/step - loss: 8.8669e-04 - accuracy: 1.0000 - val_loss: 1.3907 - val_accuracy: 0.6712\n",
            "Epoch 44/100\n",
            "100/100 [==============================] - ETA: 0s - loss: 8.6286e-04 - accuracy: 1.0000\n",
            "Epoch 00044: val_accuracy did not improve from 0.68125\n",
            "100/100 [==============================] - 11s 106ms/step - loss: 8.6286e-04 - accuracy: 1.0000 - val_loss: 1.3977 - val_accuracy: 0.6775\n",
            "Epoch 45/100\n",
            "100/100 [==============================] - ETA: 0s - loss: 8.0063e-04 - accuracy: 1.0000\n",
            "Epoch 00045: val_accuracy did not improve from 0.68125\n",
            "100/100 [==============================] - 11s 106ms/step - loss: 8.0063e-04 - accuracy: 1.0000 - val_loss: 1.4015 - val_accuracy: 0.6787\n",
            "Epoch 46/100\n",
            "100/100 [==============================] - ETA: 0s - loss: 7.4861e-04 - accuracy: 1.0000\n",
            "Epoch 00046: val_accuracy did not improve from 0.68125\n",
            "100/100 [==============================] - 11s 106ms/step - loss: 7.4861e-04 - accuracy: 1.0000 - val_loss: 1.4089 - val_accuracy: 0.6737\n",
            "Epoch 47/100\n",
            "100/100 [==============================] - ETA: 0s - loss: 6.9172e-04 - accuracy: 1.0000\n",
            "Epoch 00047: val_accuracy did not improve from 0.68125\n",
            "100/100 [==============================] - 11s 106ms/step - loss: 6.9172e-04 - accuracy: 1.0000 - val_loss: 1.4173 - val_accuracy: 0.6737\n",
            "Epoch 48/100\n",
            "100/100 [==============================] - ETA: 0s - loss: 6.3391e-04 - accuracy: 1.0000\n",
            "Epoch 00048: val_accuracy did not improve from 0.68125\n",
            "100/100 [==============================] - 11s 106ms/step - loss: 6.3391e-04 - accuracy: 1.0000 - val_loss: 1.4267 - val_accuracy: 0.6787\n",
            "Epoch 49/100\n",
            "100/100 [==============================] - ETA: 0s - loss: 6.1919e-04 - accuracy: 1.0000\n",
            "Epoch 00049: val_accuracy did not improve from 0.68125\n",
            "100/100 [==============================] - 11s 106ms/step - loss: 6.1919e-04 - accuracy: 1.0000 - val_loss: 1.4319 - val_accuracy: 0.6800\n",
            "Epoch 50/100\n",
            "100/100 [==============================] - ETA: 0s - loss: 5.7914e-04 - accuracy: 1.0000\n",
            "Epoch 00050: val_accuracy did not improve from 0.68125\n",
            "100/100 [==============================] - 11s 107ms/step - loss: 5.7914e-04 - accuracy: 1.0000 - val_loss: 1.4428 - val_accuracy: 0.6750\n",
            "Epoch 51/100\n",
            "100/100 [==============================] - ETA: 0s - loss: 5.5392e-04 - accuracy: 1.0000\n",
            "Epoch 00051: val_accuracy did not improve from 0.68125\n",
            "100/100 [==============================] - 11s 106ms/step - loss: 5.5392e-04 - accuracy: 1.0000 - val_loss: 1.4465 - val_accuracy: 0.6787\n",
            "Epoch 52/100\n",
            "100/100 [==============================] - ETA: 0s - loss: 5.2310e-04 - accuracy: 1.0000\n",
            "Epoch 00052: val_accuracy did not improve from 0.68125\n",
            "100/100 [==============================] - 11s 106ms/step - loss: 5.2310e-04 - accuracy: 1.0000 - val_loss: 1.4490 - val_accuracy: 0.6725\n",
            "Epoch 53/100\n",
            "100/100 [==============================] - ETA: 0s - loss: 4.9555e-04 - accuracy: 1.0000\n",
            "Epoch 00053: val_accuracy did not improve from 0.68125\n",
            "100/100 [==============================] - 11s 106ms/step - loss: 4.9555e-04 - accuracy: 1.0000 - val_loss: 1.4565 - val_accuracy: 0.6762\n",
            "Epoch 54/100\n",
            "100/100 [==============================] - ETA: 0s - loss: 4.5229e-04 - accuracy: 1.0000\n",
            "Epoch 00054: val_accuracy did not improve from 0.68125\n",
            "100/100 [==============================] - 11s 106ms/step - loss: 4.5229e-04 - accuracy: 1.0000 - val_loss: 1.4735 - val_accuracy: 0.6775\n",
            "Epoch 55/100\n",
            "100/100 [==============================] - ETA: 0s - loss: 4.4196e-04 - accuracy: 1.0000\n",
            "Epoch 00055: val_accuracy did not improve from 0.68125\n",
            "100/100 [==============================] - 11s 106ms/step - loss: 4.4196e-04 - accuracy: 1.0000 - val_loss: 1.4682 - val_accuracy: 0.6750\n",
            "Epoch 56/100\n",
            "100/100 [==============================] - ETA: 0s - loss: 4.2644e-04 - accuracy: 1.0000\n",
            "Epoch 00056: val_accuracy did not improve from 0.68125\n",
            "100/100 [==============================] - 11s 106ms/step - loss: 4.2644e-04 - accuracy: 1.0000 - val_loss: 1.4768 - val_accuracy: 0.6725\n",
            "Epoch 57/100\n",
            "100/100 [==============================] - ETA: 0s - loss: 3.8626e-04 - accuracy: 1.0000\n",
            "Epoch 00057: val_accuracy did not improve from 0.68125\n",
            "100/100 [==============================] - 11s 106ms/step - loss: 3.8626e-04 - accuracy: 1.0000 - val_loss: 1.4811 - val_accuracy: 0.6812\n",
            "Epoch 00057: early stopping\n"
          ]
        }
      ]
    },
    {
      "cell_type": "code",
      "metadata": {
        "colab": {
          "base_uri": "https://localhost:8080/",
          "height": 312
        },
        "id": "Abqce6LQ_O8_",
        "outputId": "95654bae-439d-4460-cd70-ba16fdefdac8"
      },
      "source": [
        "plt.plot(hist.history['accuracy'])\n",
        "plt.plot(hist.history['val_accuracy'])\n",
        "plt.plot(hist.history[\"loss\"])\n",
        "plt.plot(hist.history['val_loss'])\n",
        "plt.title(\"Xception Model Accuracy\")\n",
        "plt.ylabel(\"Accuracy\")\n",
        "plt.xlabel(\"Epoch\")\n",
        "plt.legend([\"Accuracy\",\"Validation Accuracy\",\"Loss\",\"Validation Loss\"])\n",
        "plt.show()\n",
        "plt.savefig('xception_acc.png')"
      ],
      "execution_count": 11,
      "outputs": [
        {
          "output_type": "display_data",
          "data": {
            "image/png": "[encoded data removed]",
            "text/plain": [
              "<Figure size 432x288 with 1 Axes>"
            ]
          },
          "metadata": {
            "needs_background": "light"
          }
        },
        {
          "output_type": "display_data",
          "data": {
            "text/plain": [
              "<Figure size 432x288 with 0 Axes>"
            ]
          },
          "metadata": {}
        }
      ]
    },
    {
      "cell_type": "code",
      "metadata": {
        "colab": {
          "base_uri": "https://localhost:8080/"
        },
        "id": "lYW-rX0LkHJ-",
        "outputId": "90da43a2-2dbc-42ab-b561-92937161d0de"
      },
      "source": [
        "from keras.models import load_model\n",
        "saved_model = load_model(\"xception.h5\")\n",
        "test_x = []\n",
        "test_y = []\n",
        "parsed_dataset = read_dataset('/content/train0133_processed.tfrecord') # ACTION NEEDED: .tfrecord file_path needs to be specified\n",
        "labeled_data_sets = labeled_dataset(parsed_dataset)\n",
        "for data in labeled_data_sets:\n",
        "  if data[1] == 12:\n",
        "    val = 0\n",
        "  elif data[1] == 11:\n",
        "    val = 1\n",
        "  elif data[1] == 17:\n",
        "    val = 2\n",
        "  else:\n",
        "    val = 3\n",
        "  resized_image = cv2.resize(data[0], (224, 224)) / 255.0\n",
        "  test_x.append(resized_image)\n",
        "  test_y.append(val)\n",
        "test_y = np.array(test_y).T\n",
        "test_x = np.array(test_x)\n",
        "test_y = to_categorical(test_y)\n",
        "loss, acc = saved_model.evaluate(test_x, test_y)\n",
        "print(loss)\n",
        "print(acc)"
      ],
      "execution_count": 12,
      "outputs": [
        {
          "output_type": "stream",
          "name": "stdout",
          "text": [
            "29/29 [==============================] - 4s 90ms/step - loss: 1.5139 - accuracy: 0.6576\n",
            "1.513871192932129\n",
            "0.6576381325721741\n"
          ]
        }
      ]
    }
  ]
}